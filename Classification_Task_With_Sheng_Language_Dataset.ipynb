{
  "cells": [
    {
      "cell_type": "markdown",
      "metadata": {
        "id": "view-in-github",
        "colab_type": "text"
      },
      "source": [
        "<a href=\"https://colab.research.google.com/github/Kanka-max/Active-Boy-Kubernetes/blob/main/Classification_Task_With_Sheng_Language_Dataset.ipynb\" target=\"_parent\"><img src=\"https://colab.research.google.com/assets/colab-badge.svg\" alt=\"Open In Colab\"/></a>"
      ]
    },
    {
      "cell_type": "code",
      "execution_count": null,
      "metadata": {
        "id": "EhdWh6-1PvuB"
      },
      "outputs": [],
      "source": [
        ""
      ]
    },
    {
      "cell_type": "markdown",
      "metadata": {
        "id": "SSROPRx2QRfy"
      },
      "source": [
        "**NLP Tasks**\n",
        "\n",
        "- *Summarization*: Applied Kenyan TBT track lyrics as the custom dataset.\n",
        "- Machine Translation: Applied phrases and short sentences from curated NLU"
      ]
    },
    {
      "cell_type": "code",
      "execution_count": null,
      "metadata": {
        "id": "OFXo1DcwQt4u"
      },
      "outputs": [],
      "source": [
        "## The first dataset is multi-lingual dataset (English & Kiswahili)\n",
        "## Beautiful lyrics from pioneer of Kapuka, The Late E-Sir\n",
        "## Track: Leo Ni Leo\n",
        "\n",
        "\n",
        "## Hook\n",
        "Leo ni leo, asemaye kesho ni mwongo\n",
        "Manzi nipe mkono\n",
        "Tembea nami, cheza nami\n",
        "Leo warudi nyumbani bila kiuno\n",
        "Wacha nikupe mfano\n",
        "\n",
        "## Verse One\n",
        "Ni ijumaa, saa mbili ya usiku imefika\n",
        "Wikendi imeingia, lazima nitashangilia\n",
        "Tomo, ukifika nyumbani pigia simu Rhoda na Rukia\n",
        "Tamika, Monalisa, usisahau Tina pia\n",
        "Kuja na pesa za kutosha kabla hujanipitia\n",
        "Jua Pirate wapenda mangiri, si mamia\n",
        "Kiswahili nawakilisha\n",
        "Bringing down the house, no matter how strong the pillar\n",
        "Kwa sababu"
      ]
    },
    {
      "cell_type": "code",
      "execution_count": null,
      "metadata": {
        "id": "-A0X5V9tHiIP"
      },
      "outputs": [],
      "source": [
        "## perform summarization to affirm the domain-expertise versus the machine/neuralnetwork-expertise\n",
        "## curated Sheng-NLU\n",
        "\n"
      ]
    },
    {
      "cell_type": "markdown",
      "metadata": {
        "id": "NWCiWvcPykSw"
      },
      "source": [
        "Zero-Shot-Classification"
      ]
    },
    {
      "cell_type": "code",
      "execution_count": null,
      "metadata": {
        "colab": {
          "base_uri": "https://localhost:8080/"
        },
        "id": "doegrcDQycbV",
        "outputId": "633845a6-ac56-4fd9-c398-879272a699ae"
      },
      "outputs": [
        {
          "output_type": "stream",
          "name": "stdout",
          "text": [
            "Collecting transformers\n",
            "  Downloading transformers-4.17.0-py3-none-any.whl (3.8 MB)\n",
            "\u001b[K     |████████████████████████████████| 3.8 MB 10.2 MB/s \n",
            "\u001b[?25hRequirement already satisfied: requests in /usr/local/lib/python3.7/dist-packages (from transformers) (2.23.0)\n",
            "Collecting tokenizers!=0.11.3,>=0.11.1\n",
            "  Downloading tokenizers-0.11.6-cp37-cp37m-manylinux_2_12_x86_64.manylinux2010_x86_64.whl (6.5 MB)\n",
            "\u001b[K     |████████████████████████████████| 6.5 MB 34.5 MB/s \n",
            "\u001b[?25hCollecting sacremoses\n",
            "  Downloading sacremoses-0.0.49-py3-none-any.whl (895 kB)\n",
            "\u001b[K     |████████████████████████████████| 895 kB 64.5 MB/s \n",
            "\u001b[?25hCollecting pyyaml>=5.1\n",
            "  Downloading PyYAML-6.0-cp37-cp37m-manylinux_2_5_x86_64.manylinux1_x86_64.manylinux_2_12_x86_64.manylinux2010_x86_64.whl (596 kB)\n",
            "\u001b[K     |████████████████████████████████| 596 kB 40.8 MB/s \n",
            "\u001b[?25hRequirement already satisfied: packaging>=20.0 in /usr/local/lib/python3.7/dist-packages (from transformers) (21.3)\n",
            "Requirement already satisfied: filelock in /usr/local/lib/python3.7/dist-packages (from transformers) (3.6.0)\n",
            "Requirement already satisfied: regex!=2019.12.17 in /usr/local/lib/python3.7/dist-packages (from transformers) (2019.12.20)\n",
            "Collecting huggingface-hub<1.0,>=0.1.0\n",
            "  Downloading huggingface_hub-0.5.0-py3-none-any.whl (77 kB)\n",
            "\u001b[K     |████████████████████████████████| 77 kB 6.0 MB/s \n",
            "\u001b[?25hRequirement already satisfied: importlib-metadata in /usr/local/lib/python3.7/dist-packages (from transformers) (4.11.3)\n",
            "Requirement already satisfied: tqdm>=4.27 in /usr/local/lib/python3.7/dist-packages (from transformers) (4.63.0)\n",
            "Requirement already satisfied: numpy>=1.17 in /usr/local/lib/python3.7/dist-packages (from transformers) (1.21.5)\n",
            "Requirement already satisfied: typing-extensions>=3.7.4.3 in /usr/local/lib/python3.7/dist-packages (from huggingface-hub<1.0,>=0.1.0->transformers) (3.10.0.2)\n",
            "Requirement already satisfied: pyparsing!=3.0.5,>=2.0.2 in /usr/local/lib/python3.7/dist-packages (from packaging>=20.0->transformers) (3.0.7)\n",
            "Requirement already satisfied: zipp>=0.5 in /usr/local/lib/python3.7/dist-packages (from importlib-metadata->transformers) (3.7.0)\n",
            "Requirement already satisfied: urllib3!=1.25.0,!=1.25.1,<1.26,>=1.21.1 in /usr/local/lib/python3.7/dist-packages (from requests->transformers) (1.24.3)\n",
            "Requirement already satisfied: certifi>=2017.4.17 in /usr/local/lib/python3.7/dist-packages (from requests->transformers) (2021.10.8)\n",
            "Requirement already satisfied: chardet<4,>=3.0.2 in /usr/local/lib/python3.7/dist-packages (from requests->transformers) (3.0.4)\n",
            "Requirement already satisfied: idna<3,>=2.5 in /usr/local/lib/python3.7/dist-packages (from requests->transformers) (2.10)\n",
            "Requirement already satisfied: joblib in /usr/local/lib/python3.7/dist-packages (from sacremoses->transformers) (1.1.0)\n",
            "Requirement already satisfied: click in /usr/local/lib/python3.7/dist-packages (from sacremoses->transformers) (7.1.2)\n",
            "Requirement already satisfied: six in /usr/local/lib/python3.7/dist-packages (from sacremoses->transformers) (1.15.0)\n",
            "Installing collected packages: pyyaml, tokenizers, sacremoses, huggingface-hub, transformers\n",
            "  Attempting uninstall: pyyaml\n",
            "    Found existing installation: PyYAML 3.13\n",
            "    Uninstalling PyYAML-3.13:\n",
            "      Successfully uninstalled PyYAML-3.13\n",
            "Successfully installed huggingface-hub-0.5.0 pyyaml-6.0 sacremoses-0.0.49 tokenizers-0.11.6 transformers-4.17.0\n"
          ]
        }
      ],
      "source": [
        "## install transformers\n",
        "!pip install transformers"
      ]
    },
    {
      "cell_type": "code",
      "execution_count": null,
      "metadata": {
        "colab": {
          "base_uri": "https://localhost:8080/"
        },
        "id": "9cYAM2nsycqc",
        "outputId": "fb7f7c05-7ed0-47e8-e4fa-64cc899102ec"
      },
      "outputs": [
        {
          "output_type": "stream",
          "name": "stdout",
          "text": [
            "Requirement already satisfied: transformers[sentencepiece] in /usr/local/lib/python3.7/dist-packages (4.17.0)\n",
            "Requirement already satisfied: huggingface-hub<1.0,>=0.1.0 in /usr/local/lib/python3.7/dist-packages (from transformers[sentencepiece]) (0.5.0)\n",
            "Requirement already satisfied: numpy>=1.17 in /usr/local/lib/python3.7/dist-packages (from transformers[sentencepiece]) (1.21.5)\n",
            "Requirement already satisfied: filelock in /usr/local/lib/python3.7/dist-packages (from transformers[sentencepiece]) (3.6.0)\n",
            "Requirement already satisfied: importlib-metadata in /usr/local/lib/python3.7/dist-packages (from transformers[sentencepiece]) (4.11.3)\n",
            "Requirement already satisfied: regex!=2019.12.17 in /usr/local/lib/python3.7/dist-packages (from transformers[sentencepiece]) (2019.12.20)\n",
            "Requirement already satisfied: tqdm>=4.27 in /usr/local/lib/python3.7/dist-packages (from transformers[sentencepiece]) (4.63.0)\n",
            "Requirement already satisfied: sacremoses in /usr/local/lib/python3.7/dist-packages (from transformers[sentencepiece]) (0.0.49)\n",
            "Requirement already satisfied: tokenizers!=0.11.3,>=0.11.1 in /usr/local/lib/python3.7/dist-packages (from transformers[sentencepiece]) (0.11.6)\n",
            "Requirement already satisfied: requests in /usr/local/lib/python3.7/dist-packages (from transformers[sentencepiece]) (2.23.0)\n",
            "Requirement already satisfied: packaging>=20.0 in /usr/local/lib/python3.7/dist-packages (from transformers[sentencepiece]) (21.3)\n",
            "Requirement already satisfied: pyyaml>=5.1 in /usr/local/lib/python3.7/dist-packages (from transformers[sentencepiece]) (6.0)\n",
            "Collecting sentencepiece!=0.1.92,>=0.1.91\n",
            "  Downloading sentencepiece-0.1.96-cp37-cp37m-manylinux_2_17_x86_64.manylinux2014_x86_64.whl (1.2 MB)\n",
            "\u001b[K     |████████████████████████████████| 1.2 MB 7.0 MB/s \n",
            "\u001b[?25hRequirement already satisfied: protobuf in /usr/local/lib/python3.7/dist-packages (from transformers[sentencepiece]) (3.17.3)\n",
            "Requirement already satisfied: typing-extensions>=3.7.4.3 in /usr/local/lib/python3.7/dist-packages (from huggingface-hub<1.0,>=0.1.0->transformers[sentencepiece]) (3.10.0.2)\n",
            "Requirement already satisfied: pyparsing!=3.0.5,>=2.0.2 in /usr/local/lib/python3.7/dist-packages (from packaging>=20.0->transformers[sentencepiece]) (3.0.7)\n",
            "Requirement already satisfied: zipp>=0.5 in /usr/local/lib/python3.7/dist-packages (from importlib-metadata->transformers[sentencepiece]) (3.7.0)\n",
            "Requirement already satisfied: six>=1.9 in /usr/local/lib/python3.7/dist-packages (from protobuf->transformers[sentencepiece]) (1.15.0)\n",
            "Requirement already satisfied: chardet<4,>=3.0.2 in /usr/local/lib/python3.7/dist-packages (from requests->transformers[sentencepiece]) (3.0.4)\n",
            "Requirement already satisfied: idna<3,>=2.5 in /usr/local/lib/python3.7/dist-packages (from requests->transformers[sentencepiece]) (2.10)\n",
            "Requirement already satisfied: urllib3!=1.25.0,!=1.25.1,<1.26,>=1.21.1 in /usr/local/lib/python3.7/dist-packages (from requests->transformers[sentencepiece]) (1.24.3)\n",
            "Requirement already satisfied: certifi>=2017.4.17 in /usr/local/lib/python3.7/dist-packages (from requests->transformers[sentencepiece]) (2021.10.8)\n",
            "Requirement already satisfied: joblib in /usr/local/lib/python3.7/dist-packages (from sacremoses->transformers[sentencepiece]) (1.1.0)\n",
            "Requirement already satisfied: click in /usr/local/lib/python3.7/dist-packages (from sacremoses->transformers[sentencepiece]) (7.1.2)\n",
            "Installing collected packages: sentencepiece\n",
            "Successfully installed sentencepiece-0.1.96\n"
          ]
        }
      ],
      "source": [
        "## install sentencepiece\n",
        "\n",
        "\n",
        "!pip install transformers[sentencepiece]\n"
      ]
    },
    {
      "cell_type": "code",
      "execution_count": null,
      "metadata": {
        "colab": {
          "base_uri": "https://localhost:8080/",
          "height": 252,
          "referenced_widgets": [
            "550c99f2db5943689c30e051ae135c70",
            "4b1c854e5c98416cbb58c3a98498a301",
            "c1c4294b84cd49baae6eb8c952453eaf",
            "7f39486d8e9040ccaff168c8bab64b32",
            "0f1f89a713334c55bb0c3f86f2f753df",
            "3ad8c53ad7974617b837bce51f644be9",
            "37864701c555433cb6b0fd84ef110625",
            "c7efa5fbbad1450bb9ad32acb0a466f0",
            "5808f4356d4f4bcc922d0484cec2edfa",
            "727eac14f5b14621bd555e1273969338",
            "2b46ee984868404cb34472832a190030",
            "7609ca7f9c204e44b4d13caf0d49c394",
            "c79c0dd4be3c47a7a83857764722a3a7",
            "bcfed9aeff804735afdeaf5462362d37",
            "a08f02886bbe4f31b48833a1e7c6876f",
            "d7748dfcc9e14f91b858a34e9c22479f",
            "8847494f859a455b99878ee81389632f",
            "58549bbb9da64598a2eb3b414acd3c73",
            "dfc25777e553454da671c66f0c659c7f",
            "970e53081075477d8ced2ec91313b570",
            "584cc5598f1d49e3801b07e0e94b06f9",
            "e683228451164c619cfaa979dccc841d",
            "71fe96c6321d4da5ae61fc85fe3aba6d",
            "aaf9beeae4cd4cd7902636b8380837e6",
            "3e575bf0fb2c4d8aaaacea188daf5c59",
            "e7a0acfb9240471baa117f9c15d42147",
            "61f7d054ef024635a37c4616a1aabc0d",
            "4b3d36dee60f4f7797d7332420d8fa6e",
            "0d82d1422e5640be9e0a8d23a542d9e6",
            "2adb5b32aaf44d99b2e323eda183e6df",
            "180af54d02ad4243bc6d353f954011fe",
            "509c23e371984e2bb7a2c9080f2e7872",
            "231ac6fafd5249f08d18e90d7766fce5",
            "977786d0fc34465b80e77ee6d3954703",
            "0c3d7d9a65254687a6d45dffc6aaecf8",
            "99fa4d1b753f4e8ba27c586cc14bde28",
            "616a1383d7d04d91ae7ad5d1bfd409a8",
            "10ee40d8318945acab622c4ad38056f9",
            "9655bde0637446be8a20c04fff41bbbc",
            "5939d99cf3fd4c0186cef2e1c4b874bb",
            "931e90ec2b3f4c6db744b7ea4cc55380",
            "87b147106fb345b9a0f793f10aeb9dcd",
            "6667d5de8ad94c77a79ce240f5b4d575",
            "000b20066e2349958737e5a6986ef53b",
            "0d835a07051d4fbca468c1c864aa0aca",
            "51a66bee616349e7acb0abd9e40e2a27",
            "ac43a23497034691bc01d6297def06d9",
            "998e6f883f224efcbb7d9c410d582a3e",
            "41b5bb88e9ab4e07a2faddae164c36eb",
            "55a6e5f18a8642fdbd242148d3f9ae14",
            "983629d62812484196813349d4e945ca",
            "22ea7ba939ed4a58889adcafc57b43b5",
            "817898bf00774046902cf6b35494e711",
            "be4b9c8866f4476ca1c3e1ad1705cdf9",
            "e2c7be7f504946079bece8cce8a382c0"
          ]
        },
        "id": "aP4lAd-Ey9VP",
        "outputId": "e057bee1-a2a8-49bf-a506-cbe3ce1990e2"
      },
      "outputs": [
        {
          "output_type": "display_data",
          "data": {
            "text/plain": [
              "Downloading:   0%|          | 0.00/734 [00:00<?, ?B/s]"
            ],
            "application/vnd.jupyter.widget-view+json": {
              "version_major": 2,
              "version_minor": 0,
              "model_id": "550c99f2db5943689c30e051ae135c70"
            }
          },
          "metadata": {}
        },
        {
          "output_type": "display_data",
          "data": {
            "text/plain": [
              "Downloading:   0%|          | 0.00/2.09G [00:00<?, ?B/s]"
            ],
            "application/vnd.jupyter.widget-view+json": {
              "version_major": 2,
              "version_minor": 0,
              "model_id": "7609ca7f9c204e44b4d13caf0d49c394"
            }
          },
          "metadata": {}
        },
        {
          "output_type": "stream",
          "name": "stderr",
          "text": [
            "Some weights of the model checkpoint at joeddav/xlm-roberta-large-xnli were not used when initializing XLMRobertaForSequenceClassification: ['roberta.pooler.dense.weight', 'roberta.pooler.dense.bias']\n",
            "- This IS expected if you are initializing XLMRobertaForSequenceClassification from the checkpoint of a model trained on another task or with another architecture (e.g. initializing a BertForSequenceClassification model from a BertForPreTraining model).\n",
            "- This IS NOT expected if you are initializing XLMRobertaForSequenceClassification from the checkpoint of a model that you expect to be exactly identical (initializing a BertForSequenceClassification model from a BertForSequenceClassification model).\n"
          ]
        },
        {
          "output_type": "display_data",
          "data": {
            "text/plain": [
              "Downloading:   0%|          | 0.00/25.0 [00:00<?, ?B/s]"
            ],
            "application/vnd.jupyter.widget-view+json": {
              "version_major": 2,
              "version_minor": 0,
              "model_id": "71fe96c6321d4da5ae61fc85fe3aba6d"
            }
          },
          "metadata": {}
        },
        {
          "output_type": "display_data",
          "data": {
            "text/plain": [
              "Downloading:   0%|          | 0.00/4.83M [00:00<?, ?B/s]"
            ],
            "application/vnd.jupyter.widget-view+json": {
              "version_major": 2,
              "version_minor": 0,
              "model_id": "977786d0fc34465b80e77ee6d3954703"
            }
          },
          "metadata": {}
        },
        {
          "output_type": "display_data",
          "data": {
            "text/plain": [
              "Downloading:   0%|          | 0.00/150 [00:00<?, ?B/s]"
            ],
            "application/vnd.jupyter.widget-view+json": {
              "version_major": 2,
              "version_minor": 0,
              "model_id": "0d835a07051d4fbca468c1c864aa0aca"
            }
          },
          "metadata": {}
        }
      ],
      "source": [
        "## Classification tests \n",
        "## Dataset is multi-lingual (Swahili + English + Kikuyu = Sheng)\n",
        "## labels represent intents\n",
        "## intents mask simple conversation turns\n",
        "\n",
        "### labels for chitchat (greetings, courtesy, bye)\n",
        "from transformers import pipeline\n",
        "\n",
        "classifier = pipeline(\"zero-shot-classification\", model = \"joeddav/xlm-roberta-large-xnli\")\n"
      ]
    },
    {
      "cell_type": "code",
      "execution_count": null,
      "metadata": {
        "id": "cILfOW9yytND"
      },
      "outputs": [],
      "source": [
        "#sequence_to_classify = \"Sasa msee akishabuy anafanya aje\"\n",
        "#candidate_labels=[\"clarify\", \"deny\", \"affirm\"]\n",
        "#classifier(sequence_to_classify, candidate_labels)"
      ]
    },
    {
      "cell_type": "code",
      "execution_count": null,
      "metadata": {
        "colab": {
          "base_uri": "https://localhost:8080/"
        },
        "id": "nK-E0D-e0X8m",
        "outputId": "e0707385-3f78-4865-b162-e9b85fe02d0c"
      },
      "outputs": [
        {
          "output_type": "execute_result",
          "data": {
            "text/plain": [
              "24"
            ]
          },
          "metadata": {},
          "execution_count": 5
        }
      ],
      "source": [
        "## corpus\n",
        "asking_for_clarification = [\n",
        "\"utanishow?\",\n",
        "\"ingine?\",\n",
        "\"Wewe Sasa ni nani?\",\n",
        "\"warrathos\",\n",
        "\"kwani nisiende sasa\",\n",
        "\"unadai zingine?\",\n",
        "\"Unadu?\"\n",
        "\"inakuanga mangapiii...\"\n",
        "\"Kuna nn\",\n",
        "\"Nauliza?\",\n",
        "\"Kwanini hakuna\",\n",
        "\"Nlikua nashangaa\",\n",
        "\"Unadu nini?\",\n",
        "\"Oooh mara moja?\",\n",
        "\"unaeza make?\",\n",
        "\"Umeipata?\",\n",
        "\"wapi kwingine tena\",\n",
        "\"kuna yenye natafuta\",\n",
        "\"Sijajua bado?\",\n",
        "\"Niko na ingine\",\n",
        "\"ulikuwa unataka?\",\n",
        "\"ulinishow?\",\n",
        "\"Umepata?\",\n",
        "\"hakuna?\",\n",
        "\"Sai ndio uko available\",\n",
        "\"Ivo?\"]\n",
        "\n",
        "len(asking_for_clarification)"
      ]
    },
    {
      "cell_type": "code",
      "execution_count": null,
      "metadata": {
        "colab": {
          "base_uri": "https://localhost:8080/"
        },
        "id": "vJnPDAWv0jVU",
        "outputId": "05130813-14de-41d1-868d-ccf78455342d"
      },
      "outputs": [
        {
          "output_type": "execute_result",
          "data": {
            "text/plain": [
              "24"
            ]
          },
          "metadata": {},
          "execution_count": 6
        }
      ],
      "source": [
        "## deny\n",
        "deny = [\n",
        "\"Sipendi\",\n",
        "\"aih\",\n",
        "\"Nimegive up\",\n",
        "\"Yangu bado\",\n",
        "\"siezi make\",\n",
        "\"Haileti\",\n",
        "\"Haiwezi\",\n",
        "\"Io sikuwa nikwambie\",\n",
        "\"Sikuwa\",\n",
        "\"Wacha ata\",\n",
        "\"ata sijui\",\n",
        "\"Sijasema\",\n",
        "\"Sijai\",\n",
        "\"hiyo haiezi\",\n",
        "\"haiwes\",\n",
        "\"sidai\",\n",
        "\"achana nayo\",\n",
        "\"ziii\",\n",
        "\"si fityy\",\n",
        "\"Nimekataa Mimi\",\n",
        "\"Sijui\",\n",
        "\"Aiwezekani\",\n",
        "\"tricky sana\",\n",
        "\"Bado sioni\"]\n",
        "\n",
        "len(deny)"
      ]
    },
    {
      "cell_type": "code",
      "execution_count": null,
      "metadata": {
        "colab": {
          "base_uri": "https://localhost:8080/",
          "height": 130
        },
        "id": "TyWvV7n70uUR",
        "outputId": "88ef784b-3cd5-41cf-969d-3f292f318f9b"
      },
      "outputs": [
        {
          "output_type": "error",
          "ename": "SyntaxError",
          "evalue": "ignored",
          "traceback": [
            "\u001b[0;36m  File \u001b[0;32m\"<ipython-input-7-58550a07648e>\"\u001b[0;36m, line \u001b[0;32m36\u001b[0m\n\u001b[0;31m    Ooh.\u001b[0m\n\u001b[0m      ^\u001b[0m\n\u001b[0;31mSyntaxError\u001b[0m\u001b[0;31m:\u001b[0m invalid syntax\n"
          ]
        }
      ],
      "source": [
        "affirm = [\n",
        "\"Hapo sawa...\",\n",
        "\"Fty\",\n",
        "\"sai\",\n",
        "\"Hio si ni better hadi\",\n",
        "\"Imebidi.\",\n",
        "\"Eeeh mazee\",\n",
        "\"Fity fity\",\n",
        "\"Oooh poapoa\",\n",
        "\"Yap\",\n",
        "\"Inakaa poa\",\n",
        "\"Yeah itabidi\",\n",
        "\"Ooooh...\",\n",
        "\"Si ndo nadaai\",\n",
        "\"Oooh sawa\",\n",
        "\"Okay sawa basi\",\n",
        "\"Venye utaamua ni sawa\",\n",
        "\"Sawa\",\n",
        "\"lazima\",\n",
        "\"apa umenena\",\n",
        "\"walai\",\n",
        "\"Oooh\",\n",
        "\"inaweza mbaya\",\n",
        "\"ni sawa\",\n",
        "\"Iko poa\",\n",
        "\"Iko tu sawa hivo\",\n",
        "\"ilinbamba.\",\n",
        "\"Nimemada\",\n",
        "\"Btw hao ata mimi naona\",\n",
        "\"but inaeleweka\",\n",
        "\"pia mimi\",\n",
        "\"iende ikiendaga\",\n",
        "\"We jua ivo\",\n",
        "\"Hata Mimi\",\n",
        "\"Nataka\"\n",
        "Ooh.\n",
        "Chezea tu hapo\n",
        "isorait\n",
        "Ata yako ni kali\n",
        "Ntaicheck out Leo\n",
        "hmm. Okay\n",
        "Mimi sina shida\n",
        "ooooh io iko fity...\n",
        "hii ni ngori\n",
        "maze\n",
        "sawa\n",
        "banaa\n",
        "Aaah kumbe\n",
        "Safiii..\n",
        "Sasawa\n",
        "hio ni fityyy\n",
        "Yeah nliona\n",
        "Vizii...\n",
        "Eeeeh nmekua naiona...\n",
        "Yea\n",
        "Haina nomA\n",
        "katambe\n",
        "accept basi\n",
        "ni sawa\n",
        "Issaplan]\n",
        "\n",
        "len(affirm)"
      ]
    },
    {
      "cell_type": "code",
      "execution_count": null,
      "metadata": {
        "colab": {
          "base_uri": "https://localhost:8080/"
        },
        "id": "qxjWKb_2ApAO",
        "outputId": "0d0264e4-d6e0-4a36-edfe-a2c13dbb06b1"
      },
      "outputs": [
        {
          "output_type": "execute_result",
          "data": {
            "text/plain": [
              "24"
            ]
          },
          "metadata": {},
          "execution_count": 8
        }
      ],
      "source": [
        "## courtesy\n",
        "\n",
        "courtesy = [\n",
        "\"Imefika... shukran\",\n",
        "\"Haina ngori\",\n",
        "\"Inafaa hivo\",\n",
        "\"Utakuwa umeniokolea manzee\",\n",
        "\"Karibu\",\n",
        "\"Nyc one\",\n",
        "\"Hakuna pressure\",\n",
        "\"Gai. Pole\"\n",
        "\"aki woiye\",\n",
        "\"Usijali I will\",\n",
        "\"Nimekufeel hapo\",\n",
        "\"Waah izaa\",\n",
        "\"Pole lkn\",\n",
        "\"tafadhali\",\n",
        "\"plz\",\n",
        "\"okay...pole\",\n",
        "\"thanks for pulling up lkn..\",\n",
        "\"shukran\",\n",
        "\"Eeeeh nyc\",\n",
        "\"Thanx for the info\",\n",
        "\"Uko aje\",\n",
        "\"haina pressure\",\n",
        "\"eih, iko fiti.\",\n",
        "\"vitu kama hizo\",\n",
        "\"unaskia poa sa hii...\"\n",
        "]\n",
        "len(courtesy)"
      ]
    },
    {
      "cell_type": "code",
      "execution_count": null,
      "metadata": {
        "colab": {
          "base_uri": "https://localhost:8080/"
        },
        "id": "Eq7p25JVAw4b",
        "outputId": "bebd88db-dd39-40a2-84f3-589f02bfea13"
      },
      "outputs": [
        {
          "output_type": "execute_result",
          "data": {
            "text/plain": [
              "24"
            ]
          },
          "metadata": {},
          "execution_count": 9
        }
      ],
      "source": [
        "## corpus three\n",
        "## \n",
        "\n",
        "small_talk = [\n",
        "\"Kuchil tu bana\",\n",
        "\"Inafaa hivo\",\n",
        "\"Acha niskizie\",\n",
        "\"Skujua hii stuff\",\n",
        "\"nacheza chini\",\n",
        "\"hii imesink deep.\",\n",
        "\"mi Niko\",\n",
        "\"Woiye\",\n",
        "\"ndo nmeland\",\n",
        "\"Nimekuonaa\",\n",
        "\"Kaaai\",\n",
        "\"Nambie\",\n",
        "\"bado nashangaa aliipull thru maze\",\n",
        "\"Najua uko kejani\",\n",
        "\"Utakuwa sawa\",\n",
        "\"Niko poa ata kama uniliacha hanging jana\",\n",
        "\"Walai io nilijua utasema\",\n",
        "\"hujawai sahau hii\",\n",
        "\"Ni maroundi tu\",\n",
        "\"Enyewe imetoka mbali\",\n",
        "\"Hadi nimekuwa Tao leo\",\n",
        "\"Anyway mambo ni polepole\"\n",
        "\"Imagine\"\n",
        "\"Sina la kusema\",\n",
        "\"Najua umeboeka\",\n",
        "\"rada ni gani\"\n",
        "]\n",
        "\n",
        "len(small_talk)"
      ]
    },
    {
      "cell_type": "code",
      "execution_count": null,
      "metadata": {
        "colab": {
          "base_uri": "https://localhost:8080/"
        },
        "id": "GglaW35X3qNL",
        "outputId": "1221761b-d106-419a-d86e-72295567b6c7"
      },
      "outputs": [
        {
          "output_type": "stream",
          "name": "stdout",
          "text": [
            "CPU times: user 4 µs, sys: 0 ns, total: 4 µs\n",
            "Wall time: 8.82 µs\n"
          ]
        }
      ],
      "source": [
        "%%time\n",
        "## loop through the list\n",
        "#import itertools as it\n",
        "#for i in it.chain(asking_for_clarification,deny,affirm):\n",
        "#  print (i)\n",
        "\n",
        "\n",
        "## second iteration\n",
        "#corpus = [asking_for_clarification, deny]\n",
        "#candidate_labels=[\"clarify\", \"deny\"]\n",
        "#for sequence_to_classify in it.chain(corpus):\n",
        "#         for j in sequence_to_classify:\n",
        "#               scores = classifier(sequence_to_classify, candidate_labels)\n",
        "\n",
        "\n",
        "\n"
      ]
    },
    {
      "cell_type": "code",
      "execution_count": null,
      "metadata": {
        "id": "5zNw-bgeud4n"
      },
      "outputs": [],
      "source": [
        "# working loop through pairs of intents\n",
        "# expensive operation\n",
        "\n",
        "#corpus = [asking_for_clarification, deny]\n",
        "#candidate_labels=[\"clarify\", \"deny\"]\n",
        "#for sequence_to_classify in it.chain(corpus):\n",
        "#         for j in sequence_to_classify:\n",
        "#           print(j)"
      ]
    },
    {
      "cell_type": "code",
      "execution_count": null,
      "metadata": {
        "id": "0OOKZG6QDsjn"
      },
      "outputs": [],
      "source": [
        "#import pandas as pd\n",
        "#corpus_df = pd.DataFrame(scores)\n",
        "#corpus_df.reset_index(drop=True)\n",
        "#corpus_df.head(10)"
      ]
    },
    {
      "cell_type": "code",
      "execution_count": null,
      "metadata": {
        "id": "r-96wloy5fxe"
      },
      "outputs": [],
      "source": [
        "#corpus_df.to_csv(\"corpus_one.csv\")\n"
      ]
    },
    {
      "cell_type": "code",
      "execution_count": null,
      "metadata": {
        "id": "WAFjPXVf8oWx"
      },
      "outputs": [],
      "source": [
        "#%%time\n",
        "## corpus two\n",
        "## affirm vs deny\n",
        "\n",
        "#corpus_two = [affirm, deny]\n",
        "\n",
        "#candidate_labels=[\"affirm\", \"deny\"]\n",
        "\n",
        "#for sequence_to_classify in it.chain(corpus_two):\n",
        "##         for j in sequence_to_classify:\n",
        "#               scores = classifier(sequence_to_classify, candidate_labels)\n",
        "\n",
        "\n",
        "#print(scores)"
      ]
    },
    {
      "cell_type": "code",
      "execution_count": null,
      "metadata": {
        "id": "E31C2vPLntv1"
      },
      "outputs": [],
      "source": [
        "#corpus_two = [affirm, deny]\n",
        "\n",
        "\n",
        "#import itertools as it\n",
        "#for a,b in zip(affirm,deny):\n",
        "#    print(a,b)"
      ]
    },
    {
      "cell_type": "code",
      "execution_count": null,
      "metadata": {
        "id": "O493XzUmA480"
      },
      "outputs": [],
      "source": [
        "#import pandas as pd\n",
        "#corpus_two_df = pd.DataFrame.from_dict(scores)\n",
        "#corpus_two_df.head(10)"
      ]
    },
    {
      "cell_type": "code",
      "execution_count": null,
      "metadata": {
        "id": "PBB01KpWZWdv"
      },
      "outputs": [],
      "source": [
        "#corpus_two_df.reset_index(drop=True)"
      ]
    },
    {
      "cell_type": "code",
      "execution_count": null,
      "metadata": {
        "id": "iPoRU0pUEv0_"
      },
      "outputs": [],
      "source": [
        "#corpus_two_df.to_csv(\"corpus_two.csv\")"
      ]
    },
    {
      "cell_type": "code",
      "execution_count": null,
      "metadata": {
        "id": "Hb34Iel9-tQ1"
      },
      "outputs": [],
      "source": [
        "#%%time\n",
        "#corpus_three = [small_talk, courtesy]\n",
        "\n",
        "#candidate_labels=[\"small_talk\", \"courtesy\"]\n",
        "#for sequence_to_classify in it.chain(corpus_three):\n",
        "#         for j in sequence_to_classify:\n",
        "#               scores = classifier(sequence_to_classify, candidate_labels)\n",
        "\n",
        "\n",
        "#print(scores)"
      ]
    },
    {
      "cell_type": "code",
      "execution_count": null,
      "metadata": {
        "id": "XKpXSjvCQH90"
      },
      "outputs": [],
      "source": [
        "#corpus_three_df = pd.DataFrame(scores)\n",
        "#corpus_three_df.to_csv(\"corpus_three.csv\")\n",
        "#corpus_three_df.reset_index(drop=True)\n",
        "#corpus_three_df.head(10)"
      ]
    },
    {
      "cell_type": "code",
      "execution_count": null,
      "metadata": {
        "id": "EbdVgahWZGHV"
      },
      "outputs": [],
      "source": [
        "#corpus_three_df.shape"
      ]
    },
    {
      "cell_type": "code",
      "execution_count": null,
      "metadata": {
        "id": "SofGF2EpQINb"
      },
      "outputs": [],
      "source": [
        "#corpus_two_df.to_csv(\"corpus_three.csv\")"
      ]
    },
    {
      "cell_type": "code",
      "execution_count": null,
      "metadata": {
        "id": "bwiGK346QIch"
      },
      "outputs": [],
      "source": [
        "#sheng_corpus_predictions = pd.concat([corpus_df, corpus_two_df, corpus_three_df])\n",
        "#sheng_corpus_predictions.head()"
      ]
    },
    {
      "cell_type": "code",
      "execution_count": null,
      "metadata": {
        "id": "XrU1yiquVwnx"
      },
      "outputs": [],
      "source": [
        "#sheng_corpus_predictions.to_csv(\"sheng_predictions.csv\")"
      ]
    },
    {
      "cell_type": "code",
      "execution_count": null,
      "metadata": {
        "id": "ip5rP4ZOWGvU"
      },
      "outputs": [],
      "source": [
        "#preds = pd.read_csv(\"sheng_predictions.csv\")\n",
        "#preds.reset_index(drop=True)"
      ]
    },
    {
      "cell_type": "code",
      "execution_count": null,
      "metadata": {
        "id": "J_v7NY4jWVT9"
      },
      "outputs": [],
      "source": [
        "## confirm labels is recognized as string values in the list\n",
        "\n",
        "#for i, l in enumerate(preds[\"labels\"]):\n",
        "#    print(\"list\",i,\"is\",type(l))\n",
        "\n",
        "\n",
        "## add string annotations for list \n",
        "\n",
        "\n",
        "\n",
        "#def clean_alt_list(list_):\n",
        "#    list_ = list_.replace(', ', '\",\"')\n",
        "#    list_ = list_.replace('[', '[\"')\n",
        "#    list_ = list_.replace(']', '\"]')\n",
        "#    return list_"
      ]
    },
    {
      "cell_type": "code",
      "execution_count": null,
      "metadata": {
        "id": "3iph8QBCWkge"
      },
      "outputs": [],
      "source": [
        "#preds[\"scores\"] = preds[\"scores\"].apply(clean_alt_list)"
      ]
    },
    {
      "cell_type": "code",
      "execution_count": null,
      "metadata": {
        "id": "gA7CehAVXyZO"
      },
      "outputs": [],
      "source": [
        "#preds.reset_index(drop=True)"
      ]
    },
    {
      "cell_type": "code",
      "execution_count": null,
      "metadata": {
        "id": "jJHDSWP9icEn"
      },
      "outputs": [],
      "source": [
        ""
      ]
    },
    {
      "cell_type": "code",
      "execution_count": null,
      "metadata": {
        "id": "oHFauZXSo_ek"
      },
      "outputs": [],
      "source": [
        "### loose datasets - appropriate\n",
        "## affirm + \n",
        "clarify_small_talk = [\n",
        "\"utanishow?\",\n",
        "\"ingine?\",\n",
        "\"Wewe Sasa ni nani?\",\n",
        "\"warrathos\",\n",
        "\"kwani nisiende sasa\",\n",
        "\"unadai zingine?\",\n",
        "\"Unadu?\"\n",
        "\"inakuanga mangapiii...\"\n",
        "\"Kuna nn\",\n",
        "\"Nauliza?\",\n",
        "\"Kwanini hakuna\",\n",
        "\"Nlikua nashangaa\",\n",
        "\"Unadu nini?\",\n",
        "\"Oooh mara moja?\",\n",
        "\"unaeza make?\",\n",
        "\"Umeipata?\",\n",
        "\"wapi kwingine tena\",\n",
        "\"kuna yenye natafuta\",\n",
        "\"Sijajua bado?\",\n",
        "\"Niko na ingine\",\n",
        "\"ulikuwa unataka?\",\n",
        "\"ulinishow?\",\n",
        "\"Umepata?\",\n",
        "\"hakuna?\",\n",
        "\"Sai ndio uko available\",\n",
        "\"Ivo?\",\n",
        "\"Kuchil tu bana\",\n",
        "\"Inafaa hivo\",\n",
        "\"Acha niskizie\",\n",
        "\"Skujua hii stuff\",\n",
        "\"nacheza chini\",\n",
        "\"hii imesink deep.\",\n",
        "\"mi Niko\",\n",
        "\"Woiye\",\n",
        "\"ndo nmeland\",\n",
        "\"Nimekuonaa\",\n",
        "\"Kaaai\",\n",
        "\"Nambie\",\n",
        "\"bado nashangaa aliipull thru maze\",\n",
        "\"Najua uko kejani\",\n",
        "\"Utakuwa sawa\",\n",
        "\"Niko poa ata kama uniliacha hanging jana\",\n",
        "\"Walai io nilijua utasema\",\n",
        "\"hujawai sahau hii\",\n",
        "\"Ni maroundi tu\",\n",
        "\"Enyewe imetoka mbali\",\n",
        "\"Hadi nimekuwa Tao leo\",\n",
        "\"Anyway mambo ni polepole\"\n",
        "\"Imagine\"\n",
        "\"Sina la kusema\",\n",
        "\"Najua umeboeka\",\n",
        "\"rada ni gani\"]"
      ]
    },
    {
      "cell_type": "code",
      "execution_count": null,
      "metadata": {
        "id": "p1LF31Kjpx9d"
      },
      "outputs": [],
      "source": [
        "deny_affirm = [\n",
        "\"Sipendi\",\n",
        "\"aih\",\n",
        "\"Nimegive up\",\n",
        "\"Yangu bado\",\n",
        "\"siezi make\",\n",
        "\"Sinablush\",\n",
        "\"Haileti\",\n",
        "\"Haiwezi\",\n",
        "\"Io sikuwa nikwambie\",\n",
        "\"Sikuwa\",\n",
        "\"Wacha ata\",\n",
        "\"ata sijui\",\n",
        "\"Sijasema\",\n",
        "\"Sijai\",\n",
        "\"hiyo haiezi\",\n",
        "\"Bado.\",\n",
        "\"Uku tricks...\",\n",
        "\"sidai\",\n",
        "\"achana nayo\"\n",
        "\"ziii\",\n",
        "\"si fityy\",\n",
        "\"Nimekataa Mimi\",\n",
        "\"Sijui\",\n",
        "\"Aiwezekani\",\n",
        "\"Bado sioni\",\n",
        "\"Hapo sawa...\",\n",
        "\"Fty\",\n",
        "\"issaplan\",\n",
        "\"Imebidi.\",\n",
        "\"Eeeh mazee\",\n",
        "\"Fity fity\",\n",
        "\"Oooh poapoa\",\n",
        "\"Inakaa poa\",\n",
        "\"Yeah itabidi\",\n",
        "\"Si ndo nadaai\",\n",
        "\"katambe\",\n",
        "\"Okay sawa basi\",\n",
        "\"Venye utaamua ni sawa\",\n",
        "\"lazima\",\n",
        "\"apa umenena\",\n",
        "\"walai\",\n",
        "\"inaweza mbaya\",\n",
        "\"Iko poa\",\n",
        "\"Iko tu sawa hivo\",\n",
        "\"ilinbamba.\",\n",
        "\"Nimemada\",\n",
        "\"iende ikiendaga\",\n",
        "\"Hata Mimi\",\n",
        "\"Nataka\"\n",
        "]"
      ]
    },
    {
      "cell_type": "code",
      "execution_count": null,
      "metadata": {
        "id": "CGqEX-JJqHbK"
      },
      "outputs": [],
      "source": [
        "courtesy_small_talk = [\n",
        "\"Imefika... shukran\",\n",
        "\"Haina ngori\",\n",
        "\"Inafaa hivo\",\n",
        "\"Utakuwa umeniokolea manzee\",\n",
        "\"Karibu\",\n",
        "\"Nyc one\",\n",
        "\"Hakuna pressure\",\n",
        "\"Gai. Pole\"\n",
        "\"aki woiye\",\n",
        "\"Usijali I will\",\n",
        "\"Nimekufeel hapo\",\n",
        "\"Waah izaa\",\n",
        "\"Pole lkn\",\n",
        "\"tafadhali\",\n",
        "\"plz\",\n",
        "\"okay...pole\",\n",
        "\"thanks for pulling up lkn..\",\n",
        "\"shukran\",\n",
        "\"Eeeeh nyc\",\n",
        "\"Thanx for the info\",\n",
        "\"Uko aje\",\n",
        "\"haina pressure\",\n",
        "\"eih, iko fiti.\",\n",
        "\"vitu kama hizo\",\n",
        "\"unaskia poa sa hii...\",\n",
        "\"Kuchil tu bana\",\n",
        "\"Inafaa hivo\",\n",
        "\"Acha niskizie\",\n",
        "\"Skujua hii stuff\",\n",
        "\"nacheza chini\",\n",
        "\"hii imesink deep.\",\n",
        "\"mi Niko\",\n",
        "\"Woiye\",\n",
        "\"ndo nmeland\",\n",
        "\"Nimekuonaa\",\n",
        "\"Kaaai\",\n",
        "\"Nambie\",\n",
        "\"bado nashangaa aliipull thru maze\",\n",
        "\"Najua uko kejani\",\n",
        "\"Utakuwa sawa\",\n",
        "\"Niko poa ata kama uniliacha hanging jana\",\n",
        "\"Walai io nilijua utasema\",\n",
        "\"hujawai sahau hii\",\n",
        "\"Ni maroundi tu\",\n",
        "\"Enyewe imetoka mbali\",\n",
        "\"Hadi nimekuwa Tao leo\",\n",
        "\"Anyway mambo ni polepole\"\n",
        "\"Imagine\"\n",
        "\"Sina la kusema\",\n",
        "\"Najua umeboeka\",\n",
        "\"rada ni gani\"\n",
        "]"
      ]
    },
    {
      "cell_type": "code",
      "execution_count": null,
      "metadata": {
        "id": "r6-ro0HGrLM7"
      },
      "outputs": [],
      "source": [
        "affirm_small_talk = [\n",
        "\"Hapo sawa...\",\n",
        "\"Fty\",\n",
        "\"issaplan\",\n",
        "\"Imebidi.\",\n",
        "\"Eeeh mazee\",\n",
        "\"Fity fity\",\n",
        "\"Oooh poapoa\",\n",
        "\"Inakaa poa\",\n",
        "\"Yeah itabidi\",\n",
        "\"Si ndo nadaai\",\n",
        "\"katambe\",\n",
        "\"Okay sawa basi\",\n",
        "\"Venye utaamua ni sawa\",\n",
        "\"lazima\",\n",
        "\"apa umenena\",\n",
        "\"walai\",\n",
        "\"inaweza mbaya\",\n",
        "\"Iko poa\",\n",
        "\"Iko tu sawa hivo\",\n",
        "\"ilinbamba.\",\n",
        "\"Nimemada\",\n",
        "\"iende ikiendaga\",\n",
        "\"Hata Mimi\",\n",
        "\"Nataka\",\n",
        "\"Kuchil tu bana\",\n",
        "\"Inafaa hivo\",\n",
        "\"Acha niskizie\",\n",
        "\"Skujua hii stuff\",\n",
        "\"nacheza chini\",\n",
        "\"hii imesink deep.\",\n",
        "\"mi Niko\",\n",
        "\"Woiye\",\n",
        "\"ndo nmeland\",\n",
        "\"Nimekuonaa\",\n",
        "\"Kaaai\",\n",
        "\"Nambie\",\n",
        "\"bado nashangaa aliipull thru maze\",\n",
        "\"Najua uko kejani\",\n",
        "\"Utakuwa sawa\",\n",
        "\"Niko poa ata kama uniliacha hanging jana\",\n",
        "\"Walai io nilijua utasema\",\n",
        "\"hujawai sahau hii\",\n",
        "\"Ni maroundi tu\",\n",
        "\"Enyewe imetoka mbali\",\n",
        "\"Hadi nimekuwa Tao leo\",\n",
        "\"Anyway mambo ni polepole\"\n",
        "\"Imagine\"\n",
        "\"Sina la kusema\",\n",
        "\"Najua umeboeka\",\n",
        "\"rada ni gani\"\n",
        "                     \n",
        "]"
      ]
    },
    {
      "cell_type": "code",
      "execution_count": null,
      "metadata": {
        "id": "q6WkyiZjrOmg"
      },
      "outputs": [],
      "source": [
        "courtesy_affirm = [\n",
        "\"Imefika... shukran\",\n",
        "\"Haina ngori\",\n",
        "\"Inafaa hivo\",\n",
        "\"Utakuwa umeniokolea manzee\",\n",
        "\"Karibu\",\n",
        "\"Nyc one\",\n",
        "\"Hakuna pressure\",\n",
        "\"Gai. Pole\"\n",
        "\"aki woiye\",\n",
        "\"Usijali I will\",\n",
        "\"Nimekufeel hapo\",\n",
        "\"Waah izaa\",\n",
        "\"Pole lkn\",\n",
        "\"tafadhali\",\n",
        "\"plz\",\n",
        "\"okay...pole\",\n",
        "\"thanks for pulling up lkn..\",\n",
        "\"shukran\",\n",
        "\"Eeeeh nyc\",\n",
        "\"Thanx for the info\",\n",
        "\"Uko aje\",\n",
        "\"haina pressure\",\n",
        "\"eih, iko fiti.\",\n",
        "\"vitu kama hizo\",\n",
        "\"unaskia poa sa hii...\",\n",
        "\"Hapo sawa...\",\n",
        "\"Fty\",\n",
        "\"issaplan\",\n",
        "\"Imebidi.\",\n",
        "\"Eeeh mazee\",\n",
        "\"Fity fity\",\n",
        "\"Oooh poapoa\",\n",
        "\"Inakaa poa\",\n",
        "\"Yeah itabidi\",\n",
        "\"Si ndo nadaai\",\n",
        "\"katambe\",\n",
        "\"Okay sawa basi\",\n",
        "\"Venye utaamua ni sawa\",\n",
        "\"lazima\",\n",
        "\"apa umenena\",\n",
        "\"walai\",\n",
        "\"inaweza mbaya\",\n",
        "\"Iko poa\",\n",
        "\"Iko tu sawa hivo\",\n",
        "\"ilinbamba.\",\n",
        "\"Nimemada\",\n",
        "\"iende ikiendaga\",\n",
        "\"Hata Mimi\",\n",
        "\"Nataka\"\n",
        "                   \n",
        "]"
      ]
    },
    {
      "cell_type": "code",
      "execution_count": null,
      "metadata": {
        "id": "Y-KvXzR5rR3d"
      },
      "outputs": [],
      "source": [
        "clarify_courtesy = [\n",
        "\"utanishow?\",\n",
        "\"ingine?\",\n",
        "\"Wewe Sasa ni nani?\",\n",
        "\"warrathos\",\n",
        "\"kwani nisiende sasa\",\n",
        "\"unadai zingine?\",\n",
        "\"Unadu?\"\n",
        "\"inakuanga mangapiii...\"\n",
        "\"Kuna nn\",\n",
        "\"Nauliza?\",\n",
        "\"Kwanini hakuna\",\n",
        "\"Nlikua nashangaa\",\n",
        "\"Unadu nini?\",\n",
        "\"Oooh mara moja?\",\n",
        "\"unaeza make?\",\n",
        "\"Umeipata?\",\n",
        "\"wapi kwingine tena\",\n",
        "\"kuna yenye natafuta\",\n",
        "\"Sijajua bado?\",\n",
        "\"Niko na ingine\",\n",
        "\"ulikuwa unataka?\",\n",
        "\"ulinishow?\",\n",
        "\"Umepata?\",\n",
        "\"hakuna?\",\n",
        "\"Sai ndio uko available\",\n",
        "\"Ivo?\",\n",
        "\"Imefika... shukran\",\n",
        "\"Haina ngori\",\n",
        "\"Inafaa hivo\",\n",
        "\"Utakuwa umeniokolea manzee\",\n",
        "\"Karibu\",\n",
        "\"Nyc one\",\n",
        "\"Hakuna pressure\",\n",
        "\"Gai. Pole\"\n",
        "\"aki woiye\",\n",
        "\"Usijali I will\",\n",
        "\"Nimekufeel hapo\",\n",
        "\"Waah izaa\",\n",
        "\"Pole lkn\",\n",
        "\"tafadhali\",\n",
        "\"plz\",\n",
        "\"okay...pole\",\n",
        "\"thanks for pulling up lkn..\",\n",
        "\"shukran\",\n",
        "\"Eeeeh nyc\",\n",
        "\"Thanx for the info\",\n",
        "\"Uko aje\",\n",
        "\"haina pressure\",\n",
        "\"eih, iko fiti.\",\n",
        "\"vitu kama hizo\",\n",
        "\"unaskia poa sa hii...\"\n",
        "                    \n",
        "]"
      ]
    },
    {
      "cell_type": "code",
      "execution_count": null,
      "metadata": {
        "id": "sqAnu7Jsrm8n"
      },
      "outputs": [],
      "source": [
        "deny_courtesy = [\n",
        "\"Sipendi\",\n",
        "\"aih\",\n",
        "\"Nimegive up\",\n",
        "\"Yangu bado\",\n",
        "\"siezi make\",\n",
        "\"Haileti\",\n",
        "\"Haiwezi\",\n",
        "\"Io sikuwa nikwambie\",\n",
        "\"Sikuwa\",\n",
        "\"Wacha ata\",\n",
        "\"ata sijui\",\n",
        "\"Sijasema\",\n",
        "\"Sijai\",\n",
        "\"hiyo haiezi\",\n",
        "\"haiwes\",\n",
        "\"sidai\",\n",
        "\"achana nayo\",\n",
        "\"ziii\",\n",
        "\"si fityy\",\n",
        "\"Nimekataa Mimi\",\n",
        "\"Sijui\",\n",
        "\"Aiwezekani\",\n",
        "\"tricky sana\",\n",
        "\"Bado sioni\",\n",
        "\"Imefika... shukran\",\n",
        "\"Haina ngori\",\n",
        "\"Inafaa hivo\",\n",
        "\"Utakuwa umeniokolea manzee\",\n",
        "\"Karibu\",\n",
        "\"Nyc one\",\n",
        "\"Hakuna pressure\",\n",
        "\"Gai. Pole\"\n",
        "\"aki woiye\",\n",
        "\"Usijali I will\",\n",
        "\"Nimekufeel hapo\",\n",
        "\"Waah izaa\",\n",
        "\"Pole lkn\",\n",
        "\"tafadhali\",\n",
        "\"plz\",\n",
        "\"okay...pole\",\n",
        "\"thanks for pulling up lkn..\",\n",
        "\"shukran\",\n",
        "\"Eeeeh nyc\",\n",
        "\"Thanx for the info\",\n",
        "\"Uko aje\",\n",
        "\"haina pressure\",\n",
        "\"eih, iko fiti.\",\n",
        "\"vitu kama hizo\",\n",
        "\"unaskia poa sa hii...\"\n",
        "                 \n",
        "]"
      ]
    },
    {
      "cell_type": "code",
      "execution_count": null,
      "metadata": {
        "id": "Ju_Jn72trrO_"
      },
      "outputs": [],
      "source": [
        "deny_clarify = [\n",
        "\"Sipendi\",\n",
        "\"aih\",\n",
        "\"Nimegive up\",\n",
        "\"Yangu bado\",\n",
        "\"siezi make\",\n",
        "\"Haileti\",\n",
        "\"Haiwezi\",\n",
        "\"Io sikuwa nikwambie\",\n",
        "\"Sikuwa\",\n",
        "\"Wacha ata\",\n",
        "\"ata sijui\",\n",
        "\"Sijasema\",\n",
        "\"Sijai\",\n",
        "\"hiyo haiezi\",\n",
        "\"haiwes\",\n",
        "\"sidai\",\n",
        "\"achana nayo\",\n",
        "\"ziii\",\n",
        "\"si fityy\",\n",
        "\"Nimekataa Mimi\",\n",
        "\"Sijui\",\n",
        "\"Aiwezekani\",\n",
        "\"tricky sana\",\n",
        "\"Bado sioni\",\n",
        "\"utanishow?\",\n",
        "\"ingine?\",\n",
        "\"Wewe Sasa ni nani?\",\n",
        "\"warrathos\",\n",
        "\"kwani nisiende sasa\",\n",
        "\"unadai zingine?\",\n",
        "\"Unadu?\"\n",
        "\"inakuanga mangapiii...\"\n",
        "\"Kuna nn\",\n",
        "\"Nauliza?\",\n",
        "\"Kwanini hakuna\",\n",
        "\"Nlikua nashangaa\",\n",
        "\"Unadu nini?\",\n",
        "\"Oooh mara moja?\",\n",
        "\"unaeza make?\",\n",
        "\"Umeipata?\",\n",
        "\"wapi kwingine tena\",\n",
        "\"kuna yenye natafuta\",\n",
        "\"Sijajua bado?\",\n",
        "\"Niko na ingine\",\n",
        "\"ulikuwa unataka?\",\n",
        "\"ulinishow?\",\n",
        "\"Umepata?\",\n",
        "\"hakuna?\",\n",
        "\"Sai ndio uko available\",\n",
        "\"Ivo?\"                \n",
        "]"
      ]
    },
    {
      "cell_type": "code",
      "execution_count": null,
      "metadata": {
        "colab": {
          "base_uri": "https://localhost:8080/"
        },
        "id": "IfzS-mZ1tdnF",
        "outputId": "add3e330-a19b-4bc7-d376-b3999a752f08"
      },
      "outputs": [
        {
          "output_type": "execute_result",
          "data": {
            "text/plain": [
              "48"
            ]
          },
          "metadata": {},
          "execution_count": 34
        }
      ],
      "source": [
        "len(clarify_small_talk)"
      ]
    },
    {
      "cell_type": "code",
      "execution_count": null,
      "metadata": {
        "colab": {
          "base_uri": "https://localhost:8080/"
        },
        "id": "suI-0duatg8F",
        "outputId": "1a8320ae-a47b-4ba3-ddf9-18629b557f9e"
      },
      "outputs": [
        {
          "output_type": "execute_result",
          "data": {
            "text/plain": [
              "48"
            ]
          },
          "metadata": {},
          "execution_count": 35
        }
      ],
      "source": [
        "len(deny_affirm)"
      ]
    },
    {
      "cell_type": "code",
      "execution_count": null,
      "metadata": {
        "colab": {
          "base_uri": "https://localhost:8080/"
        },
        "id": "yaWYVGgzzKBl",
        "outputId": "92b1b4db-f6c4-43b0-9c27-e1c0907d84d0"
      },
      "outputs": [
        {
          "output_type": "execute_result",
          "data": {
            "text/plain": [
              "48"
            ]
          },
          "metadata": {},
          "execution_count": 36
        }
      ],
      "source": [
        "len(courtesy_small_talk)"
      ]
    },
    {
      "cell_type": "code",
      "execution_count": null,
      "metadata": {
        "colab": {
          "base_uri": "https://localhost:8080/"
        },
        "id": "F0pTEALIzUvD",
        "outputId": "2cacddeb-1663-409e-8c5a-519d9d1e71bc"
      },
      "outputs": [
        {
          "output_type": "execute_result",
          "data": {
            "text/plain": [
              "48"
            ]
          },
          "metadata": {},
          "execution_count": 37
        }
      ],
      "source": [
        "len(affirm_small_talk)"
      ]
    },
    {
      "cell_type": "code",
      "execution_count": null,
      "metadata": {
        "colab": {
          "base_uri": "https://localhost:8080/"
        },
        "id": "b1Pr-P6IzXKZ",
        "outputId": "d08e9110-ddf9-4d15-a60d-7ccb31af79a4"
      },
      "outputs": [
        {
          "output_type": "execute_result",
          "data": {
            "text/plain": [
              "48"
            ]
          },
          "metadata": {},
          "execution_count": 38
        }
      ],
      "source": [
        "len(courtesy_affirm)"
      ]
    },
    {
      "cell_type": "code",
      "execution_count": null,
      "metadata": {
        "colab": {
          "base_uri": "https://localhost:8080/"
        },
        "id": "1Xrlt67Bzczt",
        "outputId": "f3585fd4-cdf8-4a7c-f80e-633f70097067"
      },
      "outputs": [
        {
          "output_type": "execute_result",
          "data": {
            "text/plain": [
              "48"
            ]
          },
          "metadata": {},
          "execution_count": 39
        }
      ],
      "source": [
        "len(clarify_courtesy)"
      ]
    },
    {
      "cell_type": "code",
      "execution_count": null,
      "metadata": {
        "colab": {
          "base_uri": "https://localhost:8080/"
        },
        "id": "bkXaFDJCzhBo",
        "outputId": "0cd7dc1a-bdda-4c59-88c8-186f3f50775b"
      },
      "outputs": [
        {
          "output_type": "execute_result",
          "data": {
            "text/plain": [
              "48"
            ]
          },
          "metadata": {},
          "execution_count": 40
        }
      ],
      "source": [
        "len(deny_courtesy)"
      ]
    },
    {
      "cell_type": "code",
      "execution_count": null,
      "metadata": {
        "colab": {
          "base_uri": "https://localhost:8080/"
        },
        "id": "vfyGPol5zmND",
        "outputId": "5c8a6f37-582b-444c-8a41-83a743703fd0"
      },
      "outputs": [
        {
          "output_type": "execute_result",
          "data": {
            "text/plain": [
              "48"
            ]
          },
          "metadata": {},
          "execution_count": 41
        }
      ],
      "source": [
        "len(deny_clarify)"
      ]
    },
    {
      "cell_type": "code",
      "execution_count": null,
      "metadata": {
        "colab": {
          "base_uri": "https://localhost:8080/"
        },
        "id": "y4AKDIpizo0p",
        "outputId": "59715c6c-1163-44f6-98af-bf84b5bbb863"
      },
      "outputs": [
        {
          "output_type": "stream",
          "name": "stdout",
          "text": [
            "CPU times: user 35.3 s, sys: 63.5 ms, total: 35.4 s\n",
            "Wall time: 36.8 s\n"
          ]
        }
      ],
      "source": [
        "%%time\n",
        "import pandas as pd\n",
        "corpus = [clarify_small_talk]\n",
        "candidate_labels=[\"clarification\", \"informal\"]\n",
        "for sequence_to_classify in corpus:\n",
        "  scores = classifier(sequence_to_classify, candidate_labels)\n",
        "  df = pd.DataFrame.from_dict(scores)\n",
        "  df.reset_index(drop=True)\n",
        "  "
      ]
    },
    {
      "cell_type": "code",
      "execution_count": null,
      "metadata": {
        "id": "L3nuL1Py1Whg"
      },
      "outputs": [],
      "source": [
        "# automation\n",
        "# an instance of input output callbacks\n",
        "# for user interface to try out different sentiments\n",
        "def sheng(sentiments):\n",
        "\n",
        "  import pandas as pd\n",
        "  corpus = [clarify_small_talk]\n",
        "  candidate_labels=[\"clarification\", \"informal\"]\n",
        "\n",
        "  for sequence_to_classify in corpus:\n",
        "\n",
        "    scores = classifier(sequence_to_classify, candidate_labels)\n",
        "    df = pd.DataFrame.from_dict(scores)\n",
        "    df.reset_index(drop=True)\n",
        "\n",
        "    return df\n",
        "\n",
        "## streamlit or dash "
      ]
    },
    {
      "cell_type": "code",
      "execution_count": null,
      "metadata": {
        "id": "qKfxHxNM1bD-",
        "colab": {
          "base_uri": "https://localhost:8080/"
        },
        "outputId": "4461fb24-1f73-4808-c2d1-1880fe189dea"
      },
      "outputs": [
        {
          "output_type": "stream",
          "name": "stdout",
          "text": [
            "CPU times: user 35.8 s, sys: 47.6 ms, total: 35.9 s\n",
            "Wall time: 36.8 s\n"
          ]
        }
      ],
      "source": [
        "%%time\n",
        "corpus = [deny_affirm]\n",
        "\n",
        "candidate_labels=[\"deny\", \"affirm\"]\n",
        "\n",
        "for sequence_to_classify in corpus:\n",
        "  scores = classifier(sequence_to_classify, candidate_labels)\n",
        "  df_deny_affirm = pd.DataFrame.from_dict(scores)\n",
        "  df_deny_affirm.reset_index(drop=True)"
      ]
    },
    {
      "cell_type": "code",
      "execution_count": 15,
      "metadata": {
        "id": "83nCbFv15cy_",
        "colab": {
          "base_uri": "https://localhost:8080/"
        },
        "outputId": "c5e42625-2620-4c10-c8b6-bb571b831b0e"
      },
      "outputs": [
        {
          "output_type": "stream",
          "name": "stdout",
          "text": [
            "CPU times: user 33.7 s, sys: 59.3 ms, total: 33.8 s\n",
            "Wall time: 34 s\n"
          ]
        }
      ],
      "source": [
        "%%time\n",
        "corpus = [courtesy_small_talk]\n",
        "\n",
        "candidate_labels=[\"courtesy\", \"informal\"]\n",
        "for sequence_to_classify in corpus:\n",
        "  scores = classifier(sequence_to_classify, candidate_labels)\n",
        "  df_courtesy_small = pd.DataFrame.from_dict(scores)\n",
        "  df_courtesy_small.reset_index(drop=True)"
      ]
    },
    {
      "cell_type": "code",
      "execution_count": 16,
      "metadata": {
        "id": "-ItUVW176OC4",
        "colab": {
          "base_uri": "https://localhost:8080/"
        },
        "outputId": "3ad4700b-972b-41df-a2ea-b8947a1cba1b"
      },
      "outputs": [
        {
          "output_type": "stream",
          "name": "stdout",
          "text": [
            "CPU times: user 35.8 s, sys: 83.2 ms, total: 35.9 s\n",
            "Wall time: 39.2 s\n"
          ]
        }
      ],
      "source": [
        "%%time\n",
        "corpus = [courtesy_affirm]\n",
        "candidate_labels=[\"courtesy\", \"affirmation\"]\n",
        "for sequence_to_classify in corpus:\n",
        "  scores = classifier(sequence_to_classify, candidate_labels)\n",
        "  df_courtesy_affirm = pd.DataFrame.from_dict(scores)\n",
        "  df_courtesy_affirm.reset_index(drop=True)"
      ]
    },
    {
      "cell_type": "code",
      "execution_count": 17,
      "metadata": {
        "id": "kyxdyJIj6jE0",
        "colab": {
          "base_uri": "https://localhost:8080/"
        },
        "outputId": "a8ca521e-1603-4c77-bba5-ce99d784355a"
      },
      "outputs": [
        {
          "output_type": "stream",
          "name": "stdout",
          "text": [
            "CPU times: user 34.4 s, sys: 77.4 ms, total: 34.5 s\n",
            "Wall time: 34.7 s\n"
          ]
        }
      ],
      "source": [
        "%%time\n",
        "corpus = [clarify_courtesy]\n",
        "candidate_labels=[\"clarification\", \"courtesy\"]\n",
        "for sequence_to_classify in corpus:\n",
        "  scores = classifier(sequence_to_classify, candidate_labels)\n",
        "  df_clarify_courtesy = pd.DataFrame.from_dict(scores)\n",
        "  df_clarify_courtesy.reset_index(drop=True)"
      ]
    },
    {
      "cell_type": "code",
      "source": [
        "%%time\n",
        "corpus = [deny_courtesy]\n",
        "candidate_labels=[\"deny\", \"courtesy\"]\n",
        "for sequence_to_classify in corpus:\n",
        "  scores = classifier(sequence_to_classify, candidate_labels)\n",
        "  df_deny_courtesy = pd.DataFrame.from_dict(scores)\n",
        "  df_deny_courtesy.reset_index(drop=True)"
      ],
      "metadata": {
        "id": "HsQCtWxBJf8G",
        "colab": {
          "base_uri": "https://localhost:8080/"
        },
        "outputId": "f23a92e1-73bc-4709-dd2b-595e132c8b8c"
      },
      "execution_count": 18,
      "outputs": [
        {
          "output_type": "stream",
          "name": "stdout",
          "text": [
            "CPU times: user 33.2 s, sys: 71 ms, total: 33.3 s\n",
            "Wall time: 33.2 s\n"
          ]
        }
      ]
    },
    {
      "cell_type": "code",
      "source": [
        "%%time\n",
        "corpus = [deny_clarify]\n",
        "candidate_labels=[\"deny\", \"clarification\"]\n",
        "for sequence_to_classify in corpus:\n",
        "  scores = classifier(sequence_to_classify, candidate_labels)\n",
        "  df_deny_clarify = pd.DataFrame.from_dict(scores)\n",
        "  df_deny_clarify.reset_index(drop=True)"
      ],
      "metadata": {
        "id": "dHHg35X9Jrpe",
        "colab": {
          "base_uri": "https://localhost:8080/"
        },
        "outputId": "069df71d-7f4e-4f51-a4be-b42e0a6f92dd"
      },
      "execution_count": 19,
      "outputs": [
        {
          "output_type": "stream",
          "name": "stdout",
          "text": [
            "CPU times: user 31.6 s, sys: 57.2 ms, total: 31.6 s\n",
            "Wall time: 31.5 s\n"
          ]
        }
      ]
    },
    {
      "cell_type": "code",
      "source": [
        "corpus = pd.concat([df, df_deny_affirm, df_courtesy_small, df_courtesy_affirm, df_clarify_courtesy, df_deny_courtesy, df_deny_clarify], axis=0)\n",
        "corpus.head(3)"
      ],
      "metadata": {
        "colab": {
          "base_uri": "https://localhost:8080/",
          "height": 144
        },
        "id": "650a5kuTJ_Bo",
        "outputId": "ae694316-d68f-490a-c5fc-1d0d36f97de3"
      },
      "execution_count": 20,
      "outputs": [
        {
          "output_type": "execute_result",
          "data": {
            "text/plain": [
              "             sequence                     labels  \\\n",
              "0          utanishow?  [informal, clarification]   \n",
              "1             ingine?  [informal, clarification]   \n",
              "2  Wewe Sasa ni nani?  [informal, clarification]   \n",
              "\n",
              "                                      scores  \n",
              "0  [0.8565513491630554, 0.14344868063926697]  \n",
              "1  [0.8325459957122803, 0.16745398938655853]  \n",
              "2   [0.9047101140022278, 0.0952899307012558]  "
            ],
            "text/html": [
              "\n",
              "  <div id=\"df-1b9f92f8-d603-4ac0-a850-1adc37d63cf8\">\n",
              "    <div class=\"colab-df-container\">\n",
              "      <div>\n",
              "<style scoped>\n",
              "    .dataframe tbody tr th:only-of-type {\n",
              "        vertical-align: middle;\n",
              "    }\n",
              "\n",
              "    .dataframe tbody tr th {\n",
              "        vertical-align: top;\n",
              "    }\n",
              "\n",
              "    .dataframe thead th {\n",
              "        text-align: right;\n",
              "    }\n",
              "</style>\n",
              "<table border=\"1\" class=\"dataframe\">\n",
              "  <thead>\n",
              "    <tr style=\"text-align: right;\">\n",
              "      <th></th>\n",
              "      <th>sequence</th>\n",
              "      <th>labels</th>\n",
              "      <th>scores</th>\n",
              "    </tr>\n",
              "  </thead>\n",
              "  <tbody>\n",
              "    <tr>\n",
              "      <th>0</th>\n",
              "      <td>utanishow?</td>\n",
              "      <td>[informal, clarification]</td>\n",
              "      <td>[0.8565513491630554, 0.14344868063926697]</td>\n",
              "    </tr>\n",
              "    <tr>\n",
              "      <th>1</th>\n",
              "      <td>ingine?</td>\n",
              "      <td>[informal, clarification]</td>\n",
              "      <td>[0.8325459957122803, 0.16745398938655853]</td>\n",
              "    </tr>\n",
              "    <tr>\n",
              "      <th>2</th>\n",
              "      <td>Wewe Sasa ni nani?</td>\n",
              "      <td>[informal, clarification]</td>\n",
              "      <td>[0.9047101140022278, 0.0952899307012558]</td>\n",
              "    </tr>\n",
              "  </tbody>\n",
              "</table>\n",
              "</div>\n",
              "      <button class=\"colab-df-convert\" onclick=\"convertToInteractive('df-1b9f92f8-d603-4ac0-a850-1adc37d63cf8')\"\n",
              "              title=\"Convert this dataframe to an interactive table.\"\n",
              "              style=\"display:none;\">\n",
              "        \n",
              "  <svg xmlns=\"http://www.w3.org/2000/svg\" height=\"24px\"viewBox=\"0 0 24 24\"\n",
              "       width=\"24px\">\n",
              "    <path d=\"M0 0h24v24H0V0z\" fill=\"none\"/>\n",
              "    <path d=\"M18.56 5.44l.94 2.06.94-2.06 2.06-.94-2.06-.94-.94-2.06-.94 2.06-2.06.94zm-11 1L8.5 8.5l.94-2.06 2.06-.94-2.06-.94L8.5 2.5l-.94 2.06-2.06.94zm10 10l.94 2.06.94-2.06 2.06-.94-2.06-.94-.94-2.06-.94 2.06-2.06.94z\"/><path d=\"M17.41 7.96l-1.37-1.37c-.4-.4-.92-.59-1.43-.59-.52 0-1.04.2-1.43.59L10.3 9.45l-7.72 7.72c-.78.78-.78 2.05 0 2.83L4 21.41c.39.39.9.59 1.41.59.51 0 1.02-.2 1.41-.59l7.78-7.78 2.81-2.81c.8-.78.8-2.07 0-2.86zM5.41 20L4 18.59l7.72-7.72 1.47 1.35L5.41 20z\"/>\n",
              "  </svg>\n",
              "      </button>\n",
              "      \n",
              "  <style>\n",
              "    .colab-df-container {\n",
              "      display:flex;\n",
              "      flex-wrap:wrap;\n",
              "      gap: 12px;\n",
              "    }\n",
              "\n",
              "    .colab-df-convert {\n",
              "      background-color: #E8F0FE;\n",
              "      border: none;\n",
              "      border-radius: 50%;\n",
              "      cursor: pointer;\n",
              "      display: none;\n",
              "      fill: #1967D2;\n",
              "      height: 32px;\n",
              "      padding: 0 0 0 0;\n",
              "      width: 32px;\n",
              "    }\n",
              "\n",
              "    .colab-df-convert:hover {\n",
              "      background-color: #E2EBFA;\n",
              "      box-shadow: 0px 1px 2px rgba(60, 64, 67, 0.3), 0px 1px 3px 1px rgba(60, 64, 67, 0.15);\n",
              "      fill: #174EA6;\n",
              "    }\n",
              "\n",
              "    [theme=dark] .colab-df-convert {\n",
              "      background-color: #3B4455;\n",
              "      fill: #D2E3FC;\n",
              "    }\n",
              "\n",
              "    [theme=dark] .colab-df-convert:hover {\n",
              "      background-color: #434B5C;\n",
              "      box-shadow: 0px 1px 3px 1px rgba(0, 0, 0, 0.15);\n",
              "      filter: drop-shadow(0px 1px 2px rgba(0, 0, 0, 0.3));\n",
              "      fill: #FFFFFF;\n",
              "    }\n",
              "  </style>\n",
              "\n",
              "      <script>\n",
              "        const buttonEl =\n",
              "          document.querySelector('#df-1b9f92f8-d603-4ac0-a850-1adc37d63cf8 button.colab-df-convert');\n",
              "        buttonEl.style.display =\n",
              "          google.colab.kernel.accessAllowed ? 'block' : 'none';\n",
              "\n",
              "        async function convertToInteractive(key) {\n",
              "          const element = document.querySelector('#df-1b9f92f8-d603-4ac0-a850-1adc37d63cf8');\n",
              "          const dataTable =\n",
              "            await google.colab.kernel.invokeFunction('convertToInteractive',\n",
              "                                                     [key], {});\n",
              "          if (!dataTable) return;\n",
              "\n",
              "          const docLinkHtml = 'Like what you see? Visit the ' +\n",
              "            '<a target=\"_blank\" href=https://colab.research.google.com/notebooks/data_table.ipynb>data table notebook</a>'\n",
              "            + ' to learn more about interactive tables.';\n",
              "          element.innerHTML = '';\n",
              "          dataTable['output_type'] = 'display_data';\n",
              "          await google.colab.output.renderOutput(dataTable, element);\n",
              "          const docLink = document.createElement('div');\n",
              "          docLink.innerHTML = docLinkHtml;\n",
              "          element.appendChild(docLink);\n",
              "        }\n",
              "      </script>\n",
              "    </div>\n",
              "  </div>\n",
              "  "
            ]
          },
          "metadata": {},
          "execution_count": 20
        }
      ]
    },
    {
      "cell_type": "code",
      "source": [
        "corpus.shape"
      ],
      "metadata": {
        "colab": {
          "base_uri": "https://localhost:8080/"
        },
        "id": "XUvaPmNBS0sX",
        "outputId": "0bc2f14e-3eb7-4a1f-a16a-67adfccf0505"
      },
      "execution_count": null,
      "outputs": [
        {
          "output_type": "execute_result",
          "data": {
            "text/plain": [
              "(336, 3)"
            ]
          },
          "metadata": {},
          "execution_count": 50
        }
      ]
    },
    {
      "cell_type": "code",
      "source": [
        ""
      ],
      "metadata": {
        "id": "MJ3DA02eS0za"
      },
      "execution_count": null,
      "outputs": []
    },
    {
      "cell_type": "code",
      "source": [
        "corpus_1 = corpus[\"labels\"].apply(pd.Series)\n",
        "\n"
      ],
      "metadata": {
        "id": "LS92450tKpAm"
      },
      "execution_count": 21,
      "outputs": []
    },
    {
      "cell_type": "code",
      "source": [
        "corpus_2 = corpus[\"scores\"].apply(pd.Series)"
      ],
      "metadata": {
        "id": "YUtRpp6_KZpw"
      },
      "execution_count": 22,
      "outputs": []
    },
    {
      "cell_type": "code",
      "source": [
        "new_corpus = pd.concat([corpus_1,corpus_2], axis=1)\n",
        "new_corpus.columns = [\"First_Intent_Prediction\", \"Second_Intent_Prediction\", \"first_prediction_score\", \"second_prediction_score\"]\n",
        "corpus_subset = new_corpus[[\"First_Intent_Prediction\", \"first_prediction_score\", \"Second_Intent_Prediction\", \"second_prediction_score\"]]\n",
        "corpus_subset.head(3)"
      ],
      "metadata": {
        "colab": {
          "base_uri": "https://localhost:8080/",
          "height": 144
        },
        "id": "h_DgyKipTOO9",
        "outputId": "86088fef-b34c-4e6b-b100-c5c5f86a263b"
      },
      "execution_count": 23,
      "outputs": [
        {
          "output_type": "execute_result",
          "data": {
            "text/plain": [
              "  First_Intent_Prediction  first_prediction_score Second_Intent_Prediction  \\\n",
              "0                informal                0.856551            clarification   \n",
              "1                informal                0.832546            clarification   \n",
              "2                informal                0.904710            clarification   \n",
              "\n",
              "   second_prediction_score  \n",
              "0                 0.143449  \n",
              "1                 0.167454  \n",
              "2                 0.095290  "
            ],
            "text/html": [
              "\n",
              "  <div id=\"df-5da9571c-197e-4f6c-b7fc-c97000e13bf4\">\n",
              "    <div class=\"colab-df-container\">\n",
              "      <div>\n",
              "<style scoped>\n",
              "    .dataframe tbody tr th:only-of-type {\n",
              "        vertical-align: middle;\n",
              "    }\n",
              "\n",
              "    .dataframe tbody tr th {\n",
              "        vertical-align: top;\n",
              "    }\n",
              "\n",
              "    .dataframe thead th {\n",
              "        text-align: right;\n",
              "    }\n",
              "</style>\n",
              "<table border=\"1\" class=\"dataframe\">\n",
              "  <thead>\n",
              "    <tr style=\"text-align: right;\">\n",
              "      <th></th>\n",
              "      <th>First_Intent_Prediction</th>\n",
              "      <th>first_prediction_score</th>\n",
              "      <th>Second_Intent_Prediction</th>\n",
              "      <th>second_prediction_score</th>\n",
              "    </tr>\n",
              "  </thead>\n",
              "  <tbody>\n",
              "    <tr>\n",
              "      <th>0</th>\n",
              "      <td>informal</td>\n",
              "      <td>0.856551</td>\n",
              "      <td>clarification</td>\n",
              "      <td>0.143449</td>\n",
              "    </tr>\n",
              "    <tr>\n",
              "      <th>1</th>\n",
              "      <td>informal</td>\n",
              "      <td>0.832546</td>\n",
              "      <td>clarification</td>\n",
              "      <td>0.167454</td>\n",
              "    </tr>\n",
              "    <tr>\n",
              "      <th>2</th>\n",
              "      <td>informal</td>\n",
              "      <td>0.904710</td>\n",
              "      <td>clarification</td>\n",
              "      <td>0.095290</td>\n",
              "    </tr>\n",
              "  </tbody>\n",
              "</table>\n",
              "</div>\n",
              "      <button class=\"colab-df-convert\" onclick=\"convertToInteractive('df-5da9571c-197e-4f6c-b7fc-c97000e13bf4')\"\n",
              "              title=\"Convert this dataframe to an interactive table.\"\n",
              "              style=\"display:none;\">\n",
              "        \n",
              "  <svg xmlns=\"http://www.w3.org/2000/svg\" height=\"24px\"viewBox=\"0 0 24 24\"\n",
              "       width=\"24px\">\n",
              "    <path d=\"M0 0h24v24H0V0z\" fill=\"none\"/>\n",
              "    <path d=\"M18.56 5.44l.94 2.06.94-2.06 2.06-.94-2.06-.94-.94-2.06-.94 2.06-2.06.94zm-11 1L8.5 8.5l.94-2.06 2.06-.94-2.06-.94L8.5 2.5l-.94 2.06-2.06.94zm10 10l.94 2.06.94-2.06 2.06-.94-2.06-.94-.94-2.06-.94 2.06-2.06.94z\"/><path d=\"M17.41 7.96l-1.37-1.37c-.4-.4-.92-.59-1.43-.59-.52 0-1.04.2-1.43.59L10.3 9.45l-7.72 7.72c-.78.78-.78 2.05 0 2.83L4 21.41c.39.39.9.59 1.41.59.51 0 1.02-.2 1.41-.59l7.78-7.78 2.81-2.81c.8-.78.8-2.07 0-2.86zM5.41 20L4 18.59l7.72-7.72 1.47 1.35L5.41 20z\"/>\n",
              "  </svg>\n",
              "      </button>\n",
              "      \n",
              "  <style>\n",
              "    .colab-df-container {\n",
              "      display:flex;\n",
              "      flex-wrap:wrap;\n",
              "      gap: 12px;\n",
              "    }\n",
              "\n",
              "    .colab-df-convert {\n",
              "      background-color: #E8F0FE;\n",
              "      border: none;\n",
              "      border-radius: 50%;\n",
              "      cursor: pointer;\n",
              "      display: none;\n",
              "      fill: #1967D2;\n",
              "      height: 32px;\n",
              "      padding: 0 0 0 0;\n",
              "      width: 32px;\n",
              "    }\n",
              "\n",
              "    .colab-df-convert:hover {\n",
              "      background-color: #E2EBFA;\n",
              "      box-shadow: 0px 1px 2px rgba(60, 64, 67, 0.3), 0px 1px 3px 1px rgba(60, 64, 67, 0.15);\n",
              "      fill: #174EA6;\n",
              "    }\n",
              "\n",
              "    [theme=dark] .colab-df-convert {\n",
              "      background-color: #3B4455;\n",
              "      fill: #D2E3FC;\n",
              "    }\n",
              "\n",
              "    [theme=dark] .colab-df-convert:hover {\n",
              "      background-color: #434B5C;\n",
              "      box-shadow: 0px 1px 3px 1px rgba(0, 0, 0, 0.15);\n",
              "      filter: drop-shadow(0px 1px 2px rgba(0, 0, 0, 0.3));\n",
              "      fill: #FFFFFF;\n",
              "    }\n",
              "  </style>\n",
              "\n",
              "      <script>\n",
              "        const buttonEl =\n",
              "          document.querySelector('#df-5da9571c-197e-4f6c-b7fc-c97000e13bf4 button.colab-df-convert');\n",
              "        buttonEl.style.display =\n",
              "          google.colab.kernel.accessAllowed ? 'block' : 'none';\n",
              "\n",
              "        async function convertToInteractive(key) {\n",
              "          const element = document.querySelector('#df-5da9571c-197e-4f6c-b7fc-c97000e13bf4');\n",
              "          const dataTable =\n",
              "            await google.colab.kernel.invokeFunction('convertToInteractive',\n",
              "                                                     [key], {});\n",
              "          if (!dataTable) return;\n",
              "\n",
              "          const docLinkHtml = 'Like what you see? Visit the ' +\n",
              "            '<a target=\"_blank\" href=https://colab.research.google.com/notebooks/data_table.ipynb>data table notebook</a>'\n",
              "            + ' to learn more about interactive tables.';\n",
              "          element.innerHTML = '';\n",
              "          dataTable['output_type'] = 'display_data';\n",
              "          await google.colab.output.renderOutput(dataTable, element);\n",
              "          const docLink = document.createElement('div');\n",
              "          docLink.innerHTML = docLinkHtml;\n",
              "          element.appendChild(docLink);\n",
              "        }\n",
              "      </script>\n",
              "    </div>\n",
              "  </div>\n",
              "  "
            ]
          },
          "metadata": {},
          "execution_count": 23
        }
      ]
    },
    {
      "cell_type": "code",
      "source": [
        "\n"
      ],
      "metadata": {
        "id": "0Kb8eEz1cB4K"
      },
      "execution_count": 23,
      "outputs": []
    },
    {
      "cell_type": "code",
      "source": [
        "## create subsets using iloc and query\n",
        "corpus_subset.reset_index(drop=True)\n",
        "chart_one = corpus_subset.iloc[0:48, :]\n",
        "\n",
        "## crazy_set\n",
        "crazy_set_one = chart_one[[\"First_Intent_Prediction\", \"first_prediction_score\"]]\n",
        "crazy_set_two = chart_one[[\"Second_Intent_Prediction\", \"second_prediction_score\"]]\n",
        "\n",
        "crazy_set_one.rename(columns = {\"First_Intent_Prediction\":'Intent_Prediction', \"first_prediction_score\":\"prediction_score\" }, inplace = True)\n",
        "crazy_set_two.rename(columns = {\"Second_Intent_Prediction\":'Intent_Prediction', \"second_prediction_score\":\"prediction_score\" }, inplace = True)\n",
        "crazy_set = pd.concat([crazy_set_one, crazy_set_two], axis=0)\n",
        "\n",
        "# re-assign subset\n",
        "small_talk_clarify = crazy_set.copy()\n",
        "\n",
        "###########\n",
        "chart_one = corpus_subset.iloc[48:96, :]\n",
        "\n",
        "## crazy_set\n",
        "crazy_set_one = chart_one[[\"First_Intent_Prediction\", \"first_prediction_score\"]]\n",
        "crazy_set_two = chart_one[[\"Second_Intent_Prediction\", \"second_prediction_score\"]]\n",
        "\n",
        "crazy_set_one.rename(columns = {\"First_Intent_Prediction\":'Intent_Prediction', \"first_prediction_score\":\"prediction_score\" }, inplace = True)\n",
        "crazy_set_two.rename(columns = {\"Second_Intent_Prediction\":'Intent_Prediction', \"second_prediction_score\":\"prediction_score\" }, inplace = True)\n",
        "crazy_set = pd.concat([crazy_set_one, crazy_set_two], axis=0)\n",
        "\n",
        "# re-assign subset\n",
        "deny_affirm = crazy_set.copy()\n",
        "\n",
        "\n",
        "###########\n",
        "chart_one = corpus_subset.iloc[96:144, :]\n",
        "\n",
        "## crazy_set\n",
        "crazy_set_one = chart_one[[\"First_Intent_Prediction\", \"first_prediction_score\"]]\n",
        "crazy_set_two = chart_one[[\"Second_Intent_Prediction\", \"second_prediction_score\"]]\n",
        "\n",
        "crazy_set_one.rename(columns = {\"First_Intent_Prediction\":'Intent_Prediction', \"first_prediction_score\":\"prediction_score\" }, inplace = True)\n",
        "crazy_set_two.rename(columns = {\"Second_Intent_Prediction\":'Intent_Prediction', \"second_prediction_score\":\"prediction_score\" }, inplace = True)\n",
        "crazy_set = pd.concat([crazy_set_one, crazy_set_two], axis=0)\n",
        "\n",
        "# re-assign subset\n",
        "courtesy_small_talk = crazy_set.copy()\n",
        "\n",
        "###########\n",
        "chart_one = corpus_subset.iloc[144:192, :]\n",
        "\n",
        "## crazy_set\n",
        "crazy_set_one = chart_one[[\"First_Intent_Prediction\", \"first_prediction_score\"]]\n",
        "crazy_set_two = chart_one[[\"Second_Intent_Prediction\", \"second_prediction_score\"]]\n",
        "\n",
        "crazy_set_one.rename(columns = {\"First_Intent_Prediction\":'Intent_Prediction', \"first_prediction_score\":\"prediction_score\" }, inplace = True)\n",
        "crazy_set_two.rename(columns = {\"Second_Intent_Prediction\":'Intent_Prediction', \"second_prediction_score\":\"prediction_score\" }, inplace = True)\n",
        "crazy_set = pd.concat([crazy_set_one, crazy_set_two], axis=0)\n",
        "\n",
        "# re-assign subset\n",
        "courtesy_affirm = crazy_set.copy()\n",
        "\n",
        "###########\n",
        "chart_one = corpus_subset.iloc[192:240, :]\n",
        "\n",
        "## crazy_set\n",
        "crazy_set_one = chart_one[[\"First_Intent_Prediction\", \"first_prediction_score\"]]\n",
        "crazy_set_two = chart_one[[\"Second_Intent_Prediction\", \"second_prediction_score\"]]\n",
        "\n",
        "crazy_set_one.rename(columns = {\"First_Intent_Prediction\":'Intent_Prediction', \"first_prediction_score\":\"prediction_score\" }, inplace = True)\n",
        "crazy_set_two.rename(columns = {\"Second_Intent_Prediction\":'Intent_Prediction', \"second_prediction_score\":\"prediction_score\" }, inplace = True)\n",
        "crazy_set = pd.concat([crazy_set_one, crazy_set_two], axis=0)\n",
        "\n",
        "# re-assign subset\n",
        "clarify_courtesy = crazy_set.copy()\n",
        "\n",
        "###########\n",
        "chart_one = corpus_subset.iloc[240:288, :]\n",
        "\n",
        "## crazy_set\n",
        "crazy_set_one = chart_one[[\"First_Intent_Prediction\", \"first_prediction_score\"]]\n",
        "crazy_set_two = chart_one[[\"Second_Intent_Prediction\", \"second_prediction_score\"]]\n",
        "\n",
        "crazy_set_one.rename(columns = {\"First_Intent_Prediction\":'Intent_Prediction', \"first_prediction_score\":\"prediction_score\" }, inplace = True)\n",
        "crazy_set_two.rename(columns = {\"Second_Intent_Prediction\":'Intent_Prediction', \"second_prediction_score\":\"prediction_score\" }, inplace = True)\n",
        "crazy_set = pd.concat([crazy_set_one, crazy_set_two], axis=0)\n",
        "\n",
        "# re-assign subset\n",
        "deny_courtesy = crazy_set.copy()\n",
        "\n",
        "###########\n",
        "chart_one = corpus_subset.iloc[288:336, :]\n",
        "\n",
        "## crazy_set\n",
        "crazy_set_one = chart_one[[\"First_Intent_Prediction\", \"first_prediction_score\"]]\n",
        "crazy_set_two = chart_one[[\"Second_Intent_Prediction\", \"second_prediction_score\"]]\n",
        "\n",
        "crazy_set_one.rename(columns = {\"First_Intent_Prediction\":'Intent_Prediction', \"first_prediction_score\":\"prediction_score\" }, inplace = True)\n",
        "crazy_set_two.rename(columns = {\"Second_Intent_Prediction\":'Intent_Prediction', \"second_prediction_score\":\"prediction_score\" }, inplace = True)\n",
        "crazy_set = pd.concat([crazy_set_one, crazy_set_two], axis=0)\n",
        "\n",
        "# re-assign subset\n",
        "deny_clarify = crazy_set.copy()"
      ],
      "metadata": {
        "colab": {
          "base_uri": "https://localhost:8080/"
        },
        "id": "9ia2Uuc_0aUP",
        "outputId": "421899f6-7c34-4b20-cf5f-cc8722c7d5e6"
      },
      "execution_count": 24,
      "outputs": [
        {
          "output_type": "stream",
          "name": "stderr",
          "text": [
            "/usr/local/lib/python3.7/dist-packages/pandas/core/frame.py:5047: SettingWithCopyWarning: \n",
            "A value is trying to be set on a copy of a slice from a DataFrame\n",
            "\n",
            "See the caveats in the documentation: https://pandas.pydata.org/pandas-docs/stable/user_guide/indexing.html#returning-a-view-versus-a-copy\n",
            "  errors=errors,\n"
          ]
        }
      ]
    },
    {
      "cell_type": "code",
      "source": [
        "## subsets\n",
        "## deny_clarify, deny_courtesy, clarify_courtesy, courtesy_affirm, courtesy_small_talk, deny_affirm, small_talk_clarify"
      ],
      "metadata": {
        "id": "O62oSBEkA4Ll"
      },
      "execution_count": null,
      "outputs": []
    },
    {
      "cell_type": "code",
      "source": [
        "## visualize the results\n",
        "\n",
        "import plotly.graph_objects as go\n",
        "from plotly.subplots import make_subplots\n",
        "\n",
        "colors = [\"red\", \"gold\", \"green\", \"magenta\", \"cyan\", \"purple\", \"lightslategrey\"]\n",
        "\n",
        "fig = make_subplots(\n",
        "    rows=4, cols=2,\n",
        "    subplot_titles=(\"Small Talk vs Asking For Clarification\", \n",
        "                    \"Deny vs Affirmation\", \n",
        "                    \"Courtesy vs Small Talk\", \n",
        "                    \"Courtesy vs Affirmation\", \n",
        "                    \"Asking For Clarification vs Courtesy\", \n",
        "                    \"Deny vs Courtesy\", \n",
        "                    \"Deny vs Asking For Clarification\"))\n",
        "\n",
        "fig.add_trace(go.Bar(y=small_talk_clarify.Intent_Prediction, x=small_talk_clarify.prediction_score, orientation = \"h\"),\n",
        "              row=1, col=1)\n",
        "fig.add_trace(go.Bar(y=deny_affirm.Intent_Prediction, x=deny_affirm.prediction_score, orientation = \"h\"),\n",
        "              row=1, col=2)\n",
        "fig.add_trace(go.Bar(y=courtesy_small_talk.Intent_Prediction, x=courtesy_small_talk.prediction_score, orientation = \"h\"),\n",
        "              row=2, col=1)\n",
        "fig.add_trace(go.Bar(y=courtesy_affirm.Intent_Prediction, x=courtesy_affirm.prediction_score, orientation = \"h\"),\n",
        "              row=2, col=2)\n",
        "fig.add_trace(go.Bar(y=clarify_courtesy.Intent_Prediction, x= clarify_courtesy.prediction_score, orientation = \"h\"),\n",
        "              row=3, col=1)\n",
        "fig.add_trace(go.Bar(y=deny_courtesy.Intent_Prediction, x= deny_courtesy.prediction_score, orientation = \"h\"),\n",
        "              row=3, col=2)\n",
        "fig.add_trace(go.Bar(y=deny_clarify.Intent_Prediction, x=deny_clarify.prediction_score, orientation = \"h\"),\n",
        "              row=4, col=1)\n",
        "\n",
        "\n",
        "fig.show()"
      ],
      "metadata": {
        "colab": {
          "base_uri": "https://localhost:8080/",
          "height": 542
        },
        "id": "kVAPnLrcARTq",
        "outputId": "c87d190e-956b-447f-baee-43e2b94b8220"
      },
      "execution_count": 25,
      "outputs": [
        {
          "output_type": "display_data",
          "data": {
            "text/html": [
              "<html>\n",
              "<head><meta charset=\"utf-8\" /></head>\n",
              "<body>\n",
              "    <div>            <script src=\"https://cdnjs.cloudflare.com/ajax/libs/mathjax/2.7.5/MathJax.js?config=TeX-AMS-MML_SVG\"></script><script type=\"text/javascript\">if (window.MathJax) {MathJax.Hub.Config({SVG: {font: \"STIX-Web\"}});}</script>                <script type=\"text/javascript\">window.PlotlyConfig = {MathJaxConfig: 'local'};</script>\n",
              "        <script src=\"https://cdn.plot.ly/plotly-2.8.3.min.js\"></script>                <div id=\"83ca4ede-89e4-4a6b-aede-3ffc014ffbd8\" class=\"plotly-graph-div\" style=\"height:525px; width:100%;\"></div>            <script type=\"text/javascript\">                                    window.PLOTLYENV=window.PLOTLYENV || {};                                    if (document.getElementById(\"83ca4ede-89e4-4a6b-aede-3ffc014ffbd8\")) {                    Plotly.newPlot(                        \"83ca4ede-89e4-4a6b-aede-3ffc014ffbd8\",                        [{\"orientation\":\"h\",\"x\":[0.8565513491630554,0.8325459957122803,0.9047101140022278,0.5872888565063477,0.7305799126625061,0.8411771655082703,0.8597674369812012,0.9290030002593994,0.8354817032814026,0.9047185182571411,0.9407727122306824,0.8648576736450195,0.7367023229598999,0.9343450665473938,0.8251230120658875,0.7853425741195679,0.8544459342956543,0.9171256422996521,0.8473355174064636,0.8528927564620972,0.8443774580955505,0.8941285610198975,0.6268428564071655,0.6847766637802124,0.9130934476852417,0.9316254258155823,0.9332959651947021,0.5725122690200806,0.9681189656257629,0.5520951747894287,0.6648498773574829,0.734113335609436,0.8272390365600586,0.8391212821006775,0.7382931113243103,0.732869029045105,0.7413672804832458,0.7065139412879944,0.7363574504852295,0.9259735941886902,0.7548096179962158,0.9616765379905701,0.6822475790977478,0.7677477598190308,0.5844462513923645,0.987381637096405,0.5405401587486267,0.7665072679519653,0.14344868063926697,0.16745398938655853,0.0952899307012558,0.41271114349365234,0.2694200873374939,0.15882283449172974,0.14023250341415405,0.07099694758653641,0.16451826691627502,0.09528149664402008,0.05922728404402733,0.13514232635498047,0.2632976770401001,0.06565497070550919,0.17487697303295135,0.21465744078159332,0.1455540508031845,0.0828743577003479,0.15266448259353638,0.1471072882413864,0.1556224822998047,0.10587149113416672,0.3731570839881897,0.3152233958244324,0.08690659701824188,0.06837455928325653,0.06670397520065308,0.42748770117759705,0.03188105672597885,0.4479047954082489,0.3351500928401947,0.2658866047859192,0.172761008143425,0.16087868809700012,0.2617069184780121,0.26713088154792786,0.25863271951675415,0.29348599910736084,0.2636425495147705,0.07402636855840683,0.24519042670726776,0.03832344338297844,0.3177523910999298,0.23225224018096924,0.4155538082122803,0.012618379667401314,0.4594597816467285,0.2334926873445511],\"y\":[\"informal\",\"informal\",\"informal\",\"informal\",\"informal\",\"informal\",\"informal\",\"informal\",\"informal\",\"informal\",\"informal\",\"informal\",\"informal\",\"informal\",\"informal\",\"informal\",\"informal\",\"informal\",\"informal\",\"informal\",\"informal\",\"informal\",\"informal\",\"informal\",\"informal\",\"informal\",\"informal\",\"clarification\",\"informal\",\"clarification\",\"informal\",\"informal\",\"informal\",\"informal\",\"informal\",\"informal\",\"informal\",\"informal\",\"informal\",\"informal\",\"clarification\",\"informal\",\"informal\",\"informal\",\"informal\",\"informal\",\"informal\",\"informal\",\"clarification\",\"clarification\",\"clarification\",\"clarification\",\"clarification\",\"clarification\",\"clarification\",\"clarification\",\"clarification\",\"clarification\",\"clarification\",\"clarification\",\"clarification\",\"clarification\",\"clarification\",\"clarification\",\"clarification\",\"clarification\",\"clarification\",\"clarification\",\"clarification\",\"clarification\",\"clarification\",\"clarification\",\"clarification\",\"clarification\",\"clarification\",\"informal\",\"clarification\",\"informal\",\"clarification\",\"clarification\",\"clarification\",\"clarification\",\"clarification\",\"clarification\",\"clarification\",\"clarification\",\"clarification\",\"clarification\",\"informal\",\"clarification\",\"clarification\",\"clarification\",\"clarification\",\"clarification\",\"clarification\",\"clarification\"],\"type\":\"bar\",\"xaxis\":\"x\",\"yaxis\":\"y\"},{\"orientation\":\"h\",\"x\":[0.591481626033783,0.975608229637146,0.9117559790611267,0.747848391532898,0.6821799874305725,0.7786950469017029,0.5623454451560974,0.9604054689407349,0.5699519515037537,0.8928776979446411,0.5952521562576294,0.6782697439193726,0.7183014154434204,0.5403630137443542,0.9463223814964294,0.6389773488044739,0.6709776520729065,0.9145030975341797,0.7269172072410583,0.590752124786377,0.6384239196777344,0.7183895707130432,0.7821415066719055,0.5672841668128967,0.8572112917900085,0.6114490628242493,0.6251325607299805,0.8128671050071716,0.5617083311080933,0.7489576935768127,0.6975972056388855,0.5306060314178467,0.9017912149429321,0.9419767260551453,0.6652970910072327,0.9758049845695496,0.931196391582489,0.9336681365966797,0.6396746039390564,0.5029036998748779,0.8013250231742859,0.5209418535232544,0.7110635638237,0.6180725693702698,0.6946910619735718,0.6719815731048584,0.9355095624923706,0.6275114417076111,0.40851840376853943,0.024391762912273407,0.08824403584003448,0.25215160846710205,0.3178199827671051,0.2213049679994583,0.4376544952392578,0.03959454223513603,0.43004801869392395,0.10712229460477829,0.40474775433540344,0.32173025608062744,0.2816985845565796,0.45963698625564575,0.05367765575647354,0.3610227108001709,0.3290223777294159,0.0854969397187233,0.27308282256126404,0.40924790501594543,0.3615761399269104,0.2816104292869568,0.2178584784269333,0.4327158033847809,0.14278873801231384,0.3885509669780731,0.3748674988746643,0.18713288009166718,0.43829166889190674,0.25104233622550964,0.3024027943611145,0.4693940281867981,0.09820877760648727,0.058023277670145035,0.3347029685974121,0.024195054545998573,0.0688035786151886,0.06633184850215912,0.36032533645629883,0.4970962703227997,0.19867491722106934,0.4790581464767456,0.28893643617630005,0.3819274306297302,0.3053089380264282,0.328018456697464,0.06449045240879059,0.3724886178970337],\"y\":[\"affirm\",\"affirm\",\"deny\",\"deny\",\"deny\",\"deny\",\"affirm\",\"deny\",\"deny\",\"deny\",\"deny\",\"deny\",\"deny\",\"deny\",\"deny\",\"deny\",\"deny\",\"affirm\",\"affirm\",\"deny\",\"deny\",\"affirm\",\"affirm\",\"deny\",\"affirm\",\"affirm\",\"deny\",\"deny\",\"deny\",\"deny\",\"deny\",\"deny\",\"affirm\",\"deny\",\"deny\",\"affirm\",\"affirm\",\"affirm\",\"deny\",\"deny\",\"deny\",\"deny\",\"affirm\",\"deny\",\"deny\",\"deny\",\"deny\",\"deny\",\"deny\",\"deny\",\"affirm\",\"affirm\",\"affirm\",\"affirm\",\"deny\",\"affirm\",\"affirm\",\"affirm\",\"affirm\",\"affirm\",\"affirm\",\"affirm\",\"affirm\",\"affirm\",\"affirm\",\"deny\",\"deny\",\"affirm\",\"affirm\",\"deny\",\"deny\",\"affirm\",\"deny\",\"deny\",\"affirm\",\"affirm\",\"affirm\",\"affirm\",\"affirm\",\"affirm\",\"deny\",\"affirm\",\"affirm\",\"deny\",\"deny\",\"deny\",\"affirm\",\"affirm\",\"affirm\",\"affirm\",\"deny\",\"affirm\",\"affirm\",\"affirm\",\"affirm\",\"affirm\"],\"type\":\"bar\",\"xaxis\":\"x2\",\"yaxis\":\"y2\"},{\"orientation\":\"h\",\"x\":[0.7482929229736328,0.8460571765899658,0.8758977055549622,0.8745959401130676,0.8547030687332153,0.6605542302131653,0.5479951500892639,0.9375088214874268,0.6121679544448853,0.8304375410079956,0.6715981960296631,0.8337014317512512,0.9153231382369995,0.9114177227020264,0.7411227822303772,0.956163227558136,0.6592907905578613,0.6060045957565308,0.8485274910926819,0.8992225527763367,0.8245214819908142,0.7310568690299988,0.7409334182739258,0.9515634179115295,0.8797577619552612,0.8758977055549622,0.8938633799552917,0.604544460773468,0.9586508274078369,0.7171303033828735,0.6984342336654663,0.7686964273452759,0.8183605670928955,0.8327150344848633,0.7886440753936768,0.7997131943702698,0.821361780166626,0.5491898655891418,0.5416209697723389,0.9310667514801025,0.6083102226257324,0.9132331013679504,0.858698844909668,0.8066859841346741,0.5035629868507385,0.9309067130088806,0.5428772568702698,0.6226558685302734,0.2517071068286896,0.1539427787065506,0.12410233169794083,0.12540404498577118,0.14529694616794586,0.33944571018218994,0.4520048499107361,0.06249116361141205,0.38783207535743713,0.16956248879432678,0.3284018635749817,0.16629855334758759,0.08467686176300049,0.08858229964971542,0.2588771879673004,0.04383675381541252,0.3407091796398163,0.39399537444114685,0.1514725238084793,0.10077746212482452,0.1754785180091858,0.26894310116767883,0.25906655192375183,0.048436541110277176,0.12024223804473877,0.12410233169794083,0.10613660514354706,0.39545556902885437,0.041349153965711594,0.28286972641944885,0.3015657663345337,0.23130355775356293,0.1816394329071045,0.1672849804162979,0.21135595440864563,0.2002868354320526,0.17863823473453522,0.45081010460853577,0.4583790600299835,0.06893328577280045,0.39168980717658997,0.08676683902740479,0.14130116999149323,0.19331398606300354,0.49643704295158386,0.06909330189228058,0.4571227431297302,0.37734416127204895],\"y\":[\"informal\",\"informal\",\"informal\",\"informal\",\"informal\",\"informal\",\"informal\",\"informal\",\"informal\",\"informal\",\"informal\",\"informal\",\"courtesy\",\"courtesy\",\"informal\",\"courtesy\",\"courtesy\",\"informal\",\"courtesy\",\"informal\",\"informal\",\"informal\",\"informal\",\"informal\",\"informal\",\"informal\",\"informal\",\"courtesy\",\"informal\",\"courtesy\",\"informal\",\"informal\",\"informal\",\"informal\",\"informal\",\"informal\",\"informal\",\"courtesy\",\"courtesy\",\"informal\",\"informal\",\"informal\",\"informal\",\"informal\",\"courtesy\",\"informal\",\"courtesy\",\"informal\",\"courtesy\",\"courtesy\",\"courtesy\",\"courtesy\",\"courtesy\",\"courtesy\",\"courtesy\",\"courtesy\",\"courtesy\",\"courtesy\",\"courtesy\",\"courtesy\",\"informal\",\"informal\",\"courtesy\",\"informal\",\"informal\",\"courtesy\",\"informal\",\"courtesy\",\"courtesy\",\"courtesy\",\"courtesy\",\"courtesy\",\"courtesy\",\"courtesy\",\"courtesy\",\"informal\",\"courtesy\",\"informal\",\"courtesy\",\"courtesy\",\"courtesy\",\"courtesy\",\"courtesy\",\"courtesy\",\"courtesy\",\"informal\",\"informal\",\"courtesy\",\"courtesy\",\"courtesy\",\"courtesy\",\"courtesy\",\"informal\",\"courtesy\",\"informal\",\"courtesy\"],\"type\":\"bar\",\"xaxis\":\"x3\",\"yaxis\":\"y3\"},{\"orientation\":\"h\",\"x\":[0.680529773235321,0.8622134923934937,0.7940398454666138,0.8725724816322327,0.7789860367774963,0.8029046058654785,0.626095175743103,0.9060055017471313,0.9661473631858826,0.940491259098053,0.9360386729240417,0.6925035715103149,0.8271828889846802,0.8894088268280029,0.9224069118499756,0.6330285668373108,0.6403418779373169,0.8591734766960144,0.6651119589805603,0.7605782151222229,0.5941976308822632,0.8889297246932983,0.847670316696167,0.9468165040016174,0.8047766089439392,0.793578565120697,0.7821311354637146,0.8374077081680298,0.8653861284255981,0.6356878280639648,0.9457229971885681,0.8765419721603394,0.9730076789855957,0.8847744464874268,0.7431902885437012,0.892631471157074,0.7449461817741394,0.9830306768417358,0.7458681464195251,0.901846706867218,0.774786651134491,0.9132603406906128,0.8157727718353271,0.792955756187439,0.8505643010139465,0.9089595079421997,0.7461076974868774,0.8140159845352173,0.31947028636932373,0.13778646290302277,0.20596018433570862,0.12742751836776733,0.22101393342018127,0.19709540903568268,0.37390485405921936,0.09399452060461044,0.03385264053940773,0.05950874835252762,0.06396133452653885,0.30749642848968506,0.17281711101531982,0.11059114336967468,0.07759306579828262,0.36697137355804443,0.3596581518650055,0.1408265084028244,0.3348880410194397,0.2394217699766159,0.40580230951309204,0.11107028275728226,0.152329683303833,0.05318344756960869,0.1952233910560608,0.2064213901758194,0.2178688496351242,0.1625923067331314,0.13461385667324066,0.36431217193603516,0.05427698791027069,0.12345807254314423,0.0269923135638237,0.11522556841373444,0.25680968165397644,0.10736853629350662,0.25505387783050537,0.016969364136457443,0.25413182377815247,0.0981532484292984,0.22521336376667023,0.08673965930938721,0.18422722816467285,0.20704424381256104,0.14943568408489227,0.09104051440954208,0.25389230251312256,0.1859840303659439],\"y\":[\"affirmation\",\"affirmation\",\"affirmation\",\"affirmation\",\"affirmation\",\"affirmation\",\"affirmation\",\"affirmation\",\"affirmation\",\"affirmation\",\"affirmation\",\"affirmation\",\"courtesy\",\"courtesy\",\"affirmation\",\"courtesy\",\"affirmation\",\"affirmation\",\"courtesy\",\"affirmation\",\"affirmation\",\"affirmation\",\"affirmation\",\"affirmation\",\"affirmation\",\"affirmation\",\"affirmation\",\"affirmation\",\"affirmation\",\"affirmation\",\"affirmation\",\"affirmation\",\"affirmation\",\"affirmation\",\"affirmation\",\"affirmation\",\"affirmation\",\"affirmation\",\"affirmation\",\"affirmation\",\"affirmation\",\"affirmation\",\"affirmation\",\"affirmation\",\"affirmation\",\"affirmation\",\"affirmation\",\"affirmation\",\"courtesy\",\"courtesy\",\"courtesy\",\"courtesy\",\"courtesy\",\"courtesy\",\"courtesy\",\"courtesy\",\"courtesy\",\"courtesy\",\"courtesy\",\"courtesy\",\"affirmation\",\"affirmation\",\"courtesy\",\"affirmation\",\"courtesy\",\"courtesy\",\"affirmation\",\"courtesy\",\"courtesy\",\"courtesy\",\"courtesy\",\"courtesy\",\"courtesy\",\"courtesy\",\"courtesy\",\"courtesy\",\"courtesy\",\"courtesy\",\"courtesy\",\"courtesy\",\"courtesy\",\"courtesy\",\"courtesy\",\"courtesy\",\"courtesy\",\"courtesy\",\"courtesy\",\"courtesy\",\"courtesy\",\"courtesy\",\"courtesy\",\"courtesy\",\"courtesy\",\"courtesy\",\"courtesy\",\"courtesy\"],\"type\":\"bar\",\"xaxis\":\"x4\",\"yaxis\":\"y4\"},{\"orientation\":\"h\",\"x\":[0.5429210066795349,0.5647814869880676,0.5803356170654297,0.7352303266525269,0.5066048502922058,0.6706646680831909,0.5244488716125488,0.6400467753410339,0.5516471266746521,0.5783200860023499,0.6592493653297424,0.6515210866928101,0.696225106716156,0.5891098380088806,0.5216308832168579,0.6090290546417236,0.6683571338653564,0.565188467502594,0.7032106518745422,0.6687447428703308,0.5200778841972351,0.5453169345855713,0.5847910046577454,0.5519205927848816,0.8460692167282104,0.6529662013053894,0.6587631702423096,0.6103073358535767,0.5742470026016235,0.6754487156867981,0.5857105851173401,0.5708764791488647,0.6683231592178345,0.630113422870636,0.5421339869499207,0.5832855701446533,0.9710944890975952,0.9569754600524902,0.5714342594146729,0.889670729637146,0.7935746312141418,0.6744751930236816,0.7832489609718323,0.6421939134597778,0.6569911241531372,0.8070590496063232,0.6112898588180542,0.5198040008544922,0.4570789635181427,0.43521854281425476,0.4196643531322479,0.2647697329521179,0.4933951199054718,0.3293353319168091,0.47555115818977356,0.35995322465896606,0.4483529031276703,0.42167988419532776,0.34075069427490234,0.34847894310951233,0.3037748634815216,0.410890132188797,0.4783690869808197,0.39097097516059875,0.33164286613464355,0.4348115622997284,0.2967893183231354,0.3312552869319916,0.4799221158027649,0.4546830356121063,0.41520899534225464,0.448079377412796,0.15393081307411194,0.3470337688922882,0.3412368595600128,0.38969263434410095,0.42575302720069885,0.3245513439178467,0.4142893850803375,0.42912349104881287,0.3316768407821655,0.36988651752471924,0.45786604285240173,0.41671445965766907,0.028905507177114487,0.043024517595767975,0.42856571078300476,0.11032925546169281,0.20642530918121338,0.32552483677864075,0.21675102412700653,0.3578060567378998,0.3430088460445404,0.19294096529483795,0.3887101113796234,0.4801960289478302],\"y\":[\"courtesy\",\"courtesy\",\"clarification\",\"clarification\",\"courtesy\",\"courtesy\",\"clarification\",\"courtesy\",\"courtesy\",\"clarification\",\"courtesy\",\"courtesy\",\"courtesy\",\"courtesy\",\"clarification\",\"courtesy\",\"courtesy\",\"courtesy\",\"courtesy\",\"clarification\",\"clarification\",\"courtesy\",\"clarification\",\"clarification\",\"courtesy\",\"courtesy\",\"courtesy\",\"courtesy\",\"clarification\",\"clarification\",\"clarification\",\"clarification\",\"courtesy\",\"courtesy\",\"courtesy\",\"clarification\",\"courtesy\",\"courtesy\",\"courtesy\",\"courtesy\",\"courtesy\",\"clarification\",\"courtesy\",\"courtesy\",\"courtesy\",\"courtesy\",\"clarification\",\"courtesy\",\"clarification\",\"clarification\",\"courtesy\",\"courtesy\",\"clarification\",\"clarification\",\"courtesy\",\"clarification\",\"clarification\",\"courtesy\",\"clarification\",\"clarification\",\"clarification\",\"clarification\",\"courtesy\",\"clarification\",\"clarification\",\"clarification\",\"clarification\",\"courtesy\",\"courtesy\",\"clarification\",\"courtesy\",\"courtesy\",\"clarification\",\"clarification\",\"clarification\",\"clarification\",\"courtesy\",\"courtesy\",\"courtesy\",\"courtesy\",\"clarification\",\"clarification\",\"clarification\",\"courtesy\",\"clarification\",\"clarification\",\"clarification\",\"clarification\",\"clarification\",\"courtesy\",\"clarification\",\"clarification\",\"clarification\",\"clarification\",\"courtesy\",\"clarification\"],\"type\":\"bar\",\"xaxis\":\"x5\",\"yaxis\":\"y5\"},{\"orientation\":\"h\",\"x\":[0.7827122807502747,0.5600460171699524,0.869795024394989,0.9068922400474548,0.7442734241485596,0.5897067785263062,0.9752952456474304,0.7243698835372925,0.9410285949707031,0.7238059639930725,0.5931832790374756,0.8333958387374878,0.8427240252494812,0.9784016609191895,0.6004834175109863,0.5560251474380493,0.511542558670044,0.7208061814308167,0.5788119435310364,0.7370816469192505,0.5668891072273254,0.6022740006446838,0.649116575717926,0.8646386861801147,0.9164266586303711,0.7847940921783447,0.5775285363197327,0.7537171244621277,0.7060664296150208,0.6880342960357666,0.7381532788276672,0.830712080001831,0.6771569848060608,0.9041814804077148,0.7650637030601501,0.7038130164146423,0.9508028626441956,0.9048733115196228,0.5829075574874878,0.9537962079048157,0.8743981719017029,0.7263180017471313,0.7478380799293518,0.6430190801620483,0.6119861602783203,0.6068043112754822,0.7733079195022583,0.6349377036094666,0.21728768944740295,0.4399539828300476,0.13020499050617218,0.09310779720544815,0.25572657585144043,0.41029322147369385,0.024704745039343834,0.2756301462650299,0.0589713528752327,0.2761940658092499,0.4068167805671692,0.1666041761636734,0.1572760045528412,0.021598290652036667,0.39951664209365845,0.4439748525619507,0.48845747113227844,0.2791937589645386,0.42118799686431885,0.2629183530807495,0.43311089277267456,0.39772602915763855,0.35088345408439636,0.13536135852336884,0.08357331901788712,0.21520592272281647,0.42247143387794495,0.24628284573554993,0.29393354058265686,0.3119657635688782,0.26184675097465515,0.16928789019584656,0.32284310460090637,0.09581856429576874,0.23493632674217224,0.29618701338768005,0.049197182059288025,0.09512671083211899,0.41709253191947937,0.04620378091931343,0.12560181319713593,0.27368199825286865,0.2521619200706482,0.35698097944259644,0.3880138397216797,0.39319562911987305,0.2266921103000641,0.36506229639053345],\"y\":[\"deny\",\"courtesy\",\"deny\",\"deny\",\"deny\",\"deny\",\"deny\",\"deny\",\"deny\",\"deny\",\"deny\",\"deny\",\"deny\",\"deny\",\"courtesy\",\"deny\",\"deny\",\"deny\",\"deny\",\"deny\",\"deny\",\"deny\",\"deny\",\"deny\",\"courtesy\",\"deny\",\"deny\",\"deny\",\"deny\",\"deny\",\"deny\",\"deny\",\"courtesy\",\"deny\",\"deny\",\"deny\",\"courtesy\",\"courtesy\",\"courtesy\",\"courtesy\",\"courtesy\",\"deny\",\"courtesy\",\"deny\",\"deny\",\"courtesy\",\"deny\",\"deny\",\"courtesy\",\"deny\",\"courtesy\",\"courtesy\",\"courtesy\",\"courtesy\",\"courtesy\",\"courtesy\",\"courtesy\",\"courtesy\",\"courtesy\",\"courtesy\",\"courtesy\",\"courtesy\",\"deny\",\"courtesy\",\"courtesy\",\"courtesy\",\"courtesy\",\"courtesy\",\"courtesy\",\"courtesy\",\"courtesy\",\"courtesy\",\"deny\",\"courtesy\",\"courtesy\",\"courtesy\",\"courtesy\",\"courtesy\",\"courtesy\",\"courtesy\",\"deny\",\"courtesy\",\"courtesy\",\"courtesy\",\"deny\",\"deny\",\"deny\",\"deny\",\"deny\",\"courtesy\",\"deny\",\"courtesy\",\"courtesy\",\"deny\",\"courtesy\",\"courtesy\"],\"type\":\"bar\",\"xaxis\":\"x6\",\"yaxis\":\"y6\"},{\"orientation\":\"h\",\"x\":[0.7665301561355591,0.5665668249130249,0.8678963780403137,0.867804229259491,0.8174654841423035,0.6768762469291687,0.968919575214386,0.8557724952697754,0.9082250595092773,0.6846349835395813,0.7975945472717285,0.8019296526908875,0.8270569443702698,0.9791222810745239,0.6255090832710266,0.5258804559707642,0.6516160368919373,0.6019840836524963,0.8055250644683838,0.7353584170341492,0.5773301720619202,0.6928238868713379,0.8451662659645081,0.8519837856292725,0.8003178834915161,0.6096157431602478,0.7970797419548035,0.8837347626686096,0.941055178642273,0.6873148083686829,0.8486686944961548,0.8033020496368408,0.9716089367866516,0.7719911932945251,0.7236453890800476,0.6555631160736084,0.5550942420959473,0.8142579197883606,0.7190190553665161,0.7709482312202454,0.7395336627960205,0.9322041869163513,0.7205671072006226,0.7331012487411499,0.8481084704399109,0.9571910500526428,0.8791803121566772,0.6842272281646729,0.2334698736667633,0.4334331452846527,0.13210362195968628,0.13219578564167023,0.18253450095653534,0.3231238126754761,0.03108043223619461,0.144227534532547,0.09177488833665848,0.3153650164604187,0.20240546762943268,0.19807033240795135,0.1729431003332138,0.020877739414572716,0.3744909465312958,0.47411948442459106,0.34838396310806274,0.39801591634750366,0.19447490572929382,0.2646416127681732,0.42266982793807983,0.3071761131286621,0.15483376383781433,0.14801621437072754,0.1996820867061615,0.3903842568397522,0.20292021334171295,0.11626524478197098,0.058944884687662125,0.31268519163131714,0.1513313204050064,0.19669798016548157,0.028391020372509956,0.22800879180431366,0.2763546109199524,0.3444368839263916,0.44490575790405273,0.1857420951128006,0.2809809446334839,0.22905179858207703,0.2604663670063019,0.0677957832813263,0.27943292260169983,0.2668986916542053,0.15189151465892792,0.04280893877148628,0.12081971019506454,0.3157728314399719],\"y\":[\"deny\",\"clarification\",\"deny\",\"deny\",\"deny\",\"deny\",\"deny\",\"deny\",\"deny\",\"deny\",\"deny\",\"deny\",\"deny\",\"deny\",\"deny\",\"deny\",\"deny\",\"deny\",\"deny\",\"deny\",\"deny\",\"deny\",\"deny\",\"deny\",\"deny\",\"deny\",\"deny\",\"deny\",\"deny\",\"deny\",\"deny\",\"deny\",\"deny\",\"deny\",\"deny\",\"deny\",\"clarification\",\"deny\",\"deny\",\"deny\",\"deny\",\"deny\",\"deny\",\"deny\",\"deny\",\"deny\",\"deny\",\"deny\",\"clarification\",\"deny\",\"clarification\",\"clarification\",\"clarification\",\"clarification\",\"clarification\",\"clarification\",\"clarification\",\"clarification\",\"clarification\",\"clarification\",\"clarification\",\"clarification\",\"clarification\",\"clarification\",\"clarification\",\"clarification\",\"clarification\",\"clarification\",\"clarification\",\"clarification\",\"clarification\",\"clarification\",\"clarification\",\"clarification\",\"clarification\",\"clarification\",\"clarification\",\"clarification\",\"clarification\",\"clarification\",\"clarification\",\"clarification\",\"clarification\",\"clarification\",\"deny\",\"clarification\",\"clarification\",\"clarification\",\"clarification\",\"clarification\",\"clarification\",\"clarification\",\"clarification\",\"clarification\",\"clarification\",\"clarification\"],\"type\":\"bar\",\"xaxis\":\"x7\",\"yaxis\":\"y7\"}],                        {\"template\":{\"data\":{\"bar\":[{\"error_x\":{\"color\":\"#2a3f5f\"},\"error_y\":{\"color\":\"#2a3f5f\"},\"marker\":{\"line\":{\"color\":\"#E5ECF6\",\"width\":0.5},\"pattern\":{\"fillmode\":\"overlay\",\"size\":10,\"solidity\":0.2}},\"type\":\"bar\"}],\"barpolar\":[{\"marker\":{\"line\":{\"color\":\"#E5ECF6\",\"width\":0.5},\"pattern\":{\"fillmode\":\"overlay\",\"size\":10,\"solidity\":0.2}},\"type\":\"barpolar\"}],\"carpet\":[{\"aaxis\":{\"endlinecolor\":\"#2a3f5f\",\"gridcolor\":\"white\",\"linecolor\":\"white\",\"minorgridcolor\":\"white\",\"startlinecolor\":\"#2a3f5f\"},\"baxis\":{\"endlinecolor\":\"#2a3f5f\",\"gridcolor\":\"white\",\"linecolor\":\"white\",\"minorgridcolor\":\"white\",\"startlinecolor\":\"#2a3f5f\"},\"type\":\"carpet\"}],\"choropleth\":[{\"colorbar\":{\"outlinewidth\":0,\"ticks\":\"\"},\"type\":\"choropleth\"}],\"contour\":[{\"colorbar\":{\"outlinewidth\":0,\"ticks\":\"\"},\"colorscale\":[[0.0,\"#0d0887\"],[0.1111111111111111,\"#46039f\"],[0.2222222222222222,\"#7201a8\"],[0.3333333333333333,\"#9c179e\"],[0.4444444444444444,\"#bd3786\"],[0.5555555555555556,\"#d8576b\"],[0.6666666666666666,\"#ed7953\"],[0.7777777777777778,\"#fb9f3a\"],[0.8888888888888888,\"#fdca26\"],[1.0,\"#f0f921\"]],\"type\":\"contour\"}],\"contourcarpet\":[{\"colorbar\":{\"outlinewidth\":0,\"ticks\":\"\"},\"type\":\"contourcarpet\"}],\"heatmap\":[{\"colorbar\":{\"outlinewidth\":0,\"ticks\":\"\"},\"colorscale\":[[0.0,\"#0d0887\"],[0.1111111111111111,\"#46039f\"],[0.2222222222222222,\"#7201a8\"],[0.3333333333333333,\"#9c179e\"],[0.4444444444444444,\"#bd3786\"],[0.5555555555555556,\"#d8576b\"],[0.6666666666666666,\"#ed7953\"],[0.7777777777777778,\"#fb9f3a\"],[0.8888888888888888,\"#fdca26\"],[1.0,\"#f0f921\"]],\"type\":\"heatmap\"}],\"heatmapgl\":[{\"colorbar\":{\"outlinewidth\":0,\"ticks\":\"\"},\"colorscale\":[[0.0,\"#0d0887\"],[0.1111111111111111,\"#46039f\"],[0.2222222222222222,\"#7201a8\"],[0.3333333333333333,\"#9c179e\"],[0.4444444444444444,\"#bd3786\"],[0.5555555555555556,\"#d8576b\"],[0.6666666666666666,\"#ed7953\"],[0.7777777777777778,\"#fb9f3a\"],[0.8888888888888888,\"#fdca26\"],[1.0,\"#f0f921\"]],\"type\":\"heatmapgl\"}],\"histogram\":[{\"marker\":{\"pattern\":{\"fillmode\":\"overlay\",\"size\":10,\"solidity\":0.2}},\"type\":\"histogram\"}],\"histogram2d\":[{\"colorbar\":{\"outlinewidth\":0,\"ticks\":\"\"},\"colorscale\":[[0.0,\"#0d0887\"],[0.1111111111111111,\"#46039f\"],[0.2222222222222222,\"#7201a8\"],[0.3333333333333333,\"#9c179e\"],[0.4444444444444444,\"#bd3786\"],[0.5555555555555556,\"#d8576b\"],[0.6666666666666666,\"#ed7953\"],[0.7777777777777778,\"#fb9f3a\"],[0.8888888888888888,\"#fdca26\"],[1.0,\"#f0f921\"]],\"type\":\"histogram2d\"}],\"histogram2dcontour\":[{\"colorbar\":{\"outlinewidth\":0,\"ticks\":\"\"},\"colorscale\":[[0.0,\"#0d0887\"],[0.1111111111111111,\"#46039f\"],[0.2222222222222222,\"#7201a8\"],[0.3333333333333333,\"#9c179e\"],[0.4444444444444444,\"#bd3786\"],[0.5555555555555556,\"#d8576b\"],[0.6666666666666666,\"#ed7953\"],[0.7777777777777778,\"#fb9f3a\"],[0.8888888888888888,\"#fdca26\"],[1.0,\"#f0f921\"]],\"type\":\"histogram2dcontour\"}],\"mesh3d\":[{\"colorbar\":{\"outlinewidth\":0,\"ticks\":\"\"},\"type\":\"mesh3d\"}],\"parcoords\":[{\"line\":{\"colorbar\":{\"outlinewidth\":0,\"ticks\":\"\"}},\"type\":\"parcoords\"}],\"pie\":[{\"automargin\":true,\"type\":\"pie\"}],\"scatter\":[{\"marker\":{\"colorbar\":{\"outlinewidth\":0,\"ticks\":\"\"}},\"type\":\"scatter\"}],\"scatter3d\":[{\"line\":{\"colorbar\":{\"outlinewidth\":0,\"ticks\":\"\"}},\"marker\":{\"colorbar\":{\"outlinewidth\":0,\"ticks\":\"\"}},\"type\":\"scatter3d\"}],\"scattercarpet\":[{\"marker\":{\"colorbar\":{\"outlinewidth\":0,\"ticks\":\"\"}},\"type\":\"scattercarpet\"}],\"scattergeo\":[{\"marker\":{\"colorbar\":{\"outlinewidth\":0,\"ticks\":\"\"}},\"type\":\"scattergeo\"}],\"scattergl\":[{\"marker\":{\"colorbar\":{\"outlinewidth\":0,\"ticks\":\"\"}},\"type\":\"scattergl\"}],\"scattermapbox\":[{\"marker\":{\"colorbar\":{\"outlinewidth\":0,\"ticks\":\"\"}},\"type\":\"scattermapbox\"}],\"scatterpolar\":[{\"marker\":{\"colorbar\":{\"outlinewidth\":0,\"ticks\":\"\"}},\"type\":\"scatterpolar\"}],\"scatterpolargl\":[{\"marker\":{\"colorbar\":{\"outlinewidth\":0,\"ticks\":\"\"}},\"type\":\"scatterpolargl\"}],\"scatterternary\":[{\"marker\":{\"colorbar\":{\"outlinewidth\":0,\"ticks\":\"\"}},\"type\":\"scatterternary\"}],\"surface\":[{\"colorbar\":{\"outlinewidth\":0,\"ticks\":\"\"},\"colorscale\":[[0.0,\"#0d0887\"],[0.1111111111111111,\"#46039f\"],[0.2222222222222222,\"#7201a8\"],[0.3333333333333333,\"#9c179e\"],[0.4444444444444444,\"#bd3786\"],[0.5555555555555556,\"#d8576b\"],[0.6666666666666666,\"#ed7953\"],[0.7777777777777778,\"#fb9f3a\"],[0.8888888888888888,\"#fdca26\"],[1.0,\"#f0f921\"]],\"type\":\"surface\"}],\"table\":[{\"cells\":{\"fill\":{\"color\":\"#EBF0F8\"},\"line\":{\"color\":\"white\"}},\"header\":{\"fill\":{\"color\":\"#C8D4E3\"},\"line\":{\"color\":\"white\"}},\"type\":\"table\"}]},\"layout\":{\"annotationdefaults\":{\"arrowcolor\":\"#2a3f5f\",\"arrowhead\":0,\"arrowwidth\":1},\"autotypenumbers\":\"strict\",\"coloraxis\":{\"colorbar\":{\"outlinewidth\":0,\"ticks\":\"\"}},\"colorscale\":{\"diverging\":[[0,\"#8e0152\"],[0.1,\"#c51b7d\"],[0.2,\"#de77ae\"],[0.3,\"#f1b6da\"],[0.4,\"#fde0ef\"],[0.5,\"#f7f7f7\"],[0.6,\"#e6f5d0\"],[0.7,\"#b8e186\"],[0.8,\"#7fbc41\"],[0.9,\"#4d9221\"],[1,\"#276419\"]],\"sequential\":[[0.0,\"#0d0887\"],[0.1111111111111111,\"#46039f\"],[0.2222222222222222,\"#7201a8\"],[0.3333333333333333,\"#9c179e\"],[0.4444444444444444,\"#bd3786\"],[0.5555555555555556,\"#d8576b\"],[0.6666666666666666,\"#ed7953\"],[0.7777777777777778,\"#fb9f3a\"],[0.8888888888888888,\"#fdca26\"],[1.0,\"#f0f921\"]],\"sequentialminus\":[[0.0,\"#0d0887\"],[0.1111111111111111,\"#46039f\"],[0.2222222222222222,\"#7201a8\"],[0.3333333333333333,\"#9c179e\"],[0.4444444444444444,\"#bd3786\"],[0.5555555555555556,\"#d8576b\"],[0.6666666666666666,\"#ed7953\"],[0.7777777777777778,\"#fb9f3a\"],[0.8888888888888888,\"#fdca26\"],[1.0,\"#f0f921\"]]},\"colorway\":[\"#636efa\",\"#EF553B\",\"#00cc96\",\"#ab63fa\",\"#FFA15A\",\"#19d3f3\",\"#FF6692\",\"#B6E880\",\"#FF97FF\",\"#FECB52\"],\"font\":{\"color\":\"#2a3f5f\"},\"geo\":{\"bgcolor\":\"white\",\"lakecolor\":\"white\",\"landcolor\":\"#E5ECF6\",\"showlakes\":true,\"showland\":true,\"subunitcolor\":\"white\"},\"hoverlabel\":{\"align\":\"left\"},\"hovermode\":\"closest\",\"mapbox\":{\"style\":\"light\"},\"paper_bgcolor\":\"white\",\"plot_bgcolor\":\"#E5ECF6\",\"polar\":{\"angularaxis\":{\"gridcolor\":\"white\",\"linecolor\":\"white\",\"ticks\":\"\"},\"bgcolor\":\"#E5ECF6\",\"radialaxis\":{\"gridcolor\":\"white\",\"linecolor\":\"white\",\"ticks\":\"\"}},\"scene\":{\"xaxis\":{\"backgroundcolor\":\"#E5ECF6\",\"gridcolor\":\"white\",\"gridwidth\":2,\"linecolor\":\"white\",\"showbackground\":true,\"ticks\":\"\",\"zerolinecolor\":\"white\"},\"yaxis\":{\"backgroundcolor\":\"#E5ECF6\",\"gridcolor\":\"white\",\"gridwidth\":2,\"linecolor\":\"white\",\"showbackground\":true,\"ticks\":\"\",\"zerolinecolor\":\"white\"},\"zaxis\":{\"backgroundcolor\":\"#E5ECF6\",\"gridcolor\":\"white\",\"gridwidth\":2,\"linecolor\":\"white\",\"showbackground\":true,\"ticks\":\"\",\"zerolinecolor\":\"white\"}},\"shapedefaults\":{\"line\":{\"color\":\"#2a3f5f\"}},\"ternary\":{\"aaxis\":{\"gridcolor\":\"white\",\"linecolor\":\"white\",\"ticks\":\"\"},\"baxis\":{\"gridcolor\":\"white\",\"linecolor\":\"white\",\"ticks\":\"\"},\"bgcolor\":\"#E5ECF6\",\"caxis\":{\"gridcolor\":\"white\",\"linecolor\":\"white\",\"ticks\":\"\"}},\"title\":{\"x\":0.05},\"xaxis\":{\"automargin\":true,\"gridcolor\":\"white\",\"linecolor\":\"white\",\"ticks\":\"\",\"title\":{\"standoff\":15},\"zerolinecolor\":\"white\",\"zerolinewidth\":2},\"yaxis\":{\"automargin\":true,\"gridcolor\":\"white\",\"linecolor\":\"white\",\"ticks\":\"\",\"title\":{\"standoff\":15},\"zerolinecolor\":\"white\",\"zerolinewidth\":2}}},\"xaxis\":{\"anchor\":\"y\",\"domain\":[0.0,0.45]},\"yaxis\":{\"anchor\":\"x\",\"domain\":[0.84375,1.0]},\"xaxis2\":{\"anchor\":\"y2\",\"domain\":[0.55,1.0]},\"yaxis2\":{\"anchor\":\"x2\",\"domain\":[0.84375,1.0]},\"xaxis3\":{\"anchor\":\"y3\",\"domain\":[0.0,0.45]},\"yaxis3\":{\"anchor\":\"x3\",\"domain\":[0.5625,0.71875]},\"xaxis4\":{\"anchor\":\"y4\",\"domain\":[0.55,1.0]},\"yaxis4\":{\"anchor\":\"x4\",\"domain\":[0.5625,0.71875]},\"xaxis5\":{\"anchor\":\"y5\",\"domain\":[0.0,0.45]},\"yaxis5\":{\"anchor\":\"x5\",\"domain\":[0.28125,0.4375]},\"xaxis6\":{\"anchor\":\"y6\",\"domain\":[0.55,1.0]},\"yaxis6\":{\"anchor\":\"x6\",\"domain\":[0.28125,0.4375]},\"xaxis7\":{\"anchor\":\"y7\",\"domain\":[0.0,0.45]},\"yaxis7\":{\"anchor\":\"x7\",\"domain\":[0.0,0.15625]},\"xaxis8\":{\"anchor\":\"y8\",\"domain\":[0.55,1.0]},\"yaxis8\":{\"anchor\":\"x8\",\"domain\":[0.0,0.15625]},\"annotations\":[{\"font\":{\"size\":16},\"showarrow\":false,\"text\":\"Small Talk vs Asking For Clarification\",\"x\":0.225,\"xanchor\":\"center\",\"xref\":\"paper\",\"y\":1.0,\"yanchor\":\"bottom\",\"yref\":\"paper\"},{\"font\":{\"size\":16},\"showarrow\":false,\"text\":\"Deny vs Affirmation\",\"x\":0.775,\"xanchor\":\"center\",\"xref\":\"paper\",\"y\":1.0,\"yanchor\":\"bottom\",\"yref\":\"paper\"},{\"font\":{\"size\":16},\"showarrow\":false,\"text\":\"Courtesy vs Small Talk\",\"x\":0.225,\"xanchor\":\"center\",\"xref\":\"paper\",\"y\":0.71875,\"yanchor\":\"bottom\",\"yref\":\"paper\"},{\"font\":{\"size\":16},\"showarrow\":false,\"text\":\"Courtesy vs Affirmation\",\"x\":0.775,\"xanchor\":\"center\",\"xref\":\"paper\",\"y\":0.71875,\"yanchor\":\"bottom\",\"yref\":\"paper\"},{\"font\":{\"size\":16},\"showarrow\":false,\"text\":\"Asking For Clarification vs Courtesy\",\"x\":0.225,\"xanchor\":\"center\",\"xref\":\"paper\",\"y\":0.4375,\"yanchor\":\"bottom\",\"yref\":\"paper\"},{\"font\":{\"size\":16},\"showarrow\":false,\"text\":\"Deny vs Courtesy\",\"x\":0.775,\"xanchor\":\"center\",\"xref\":\"paper\",\"y\":0.4375,\"yanchor\":\"bottom\",\"yref\":\"paper\"},{\"font\":{\"size\":16},\"showarrow\":false,\"text\":\"Deny vs Asking For Clarification\",\"x\":0.225,\"xanchor\":\"center\",\"xref\":\"paper\",\"y\":0.15625,\"yanchor\":\"bottom\",\"yref\":\"paper\"}]},                        {\"responsive\": true}                    ).then(function(){\n",
              "                            \n",
              "var gd = document.getElementById('83ca4ede-89e4-4a6b-aede-3ffc014ffbd8');\n",
              "var x = new MutationObserver(function (mutations, observer) {{\n",
              "        var display = window.getComputedStyle(gd).display;\n",
              "        if (!display || display === 'none') {{\n",
              "            console.log([gd, 'removed!']);\n",
              "            Plotly.purge(gd);\n",
              "            observer.disconnect();\n",
              "        }}\n",
              "}});\n",
              "\n",
              "// Listen for the removal of the full notebook cells\n",
              "var notebookContainer = gd.closest('#notebook-container');\n",
              "if (notebookContainer) {{\n",
              "    x.observe(notebookContainer, {childList: true});\n",
              "}}\n",
              "\n",
              "// Listen for the clearing of the current output cell\n",
              "var outputEl = gd.closest('.output');\n",
              "if (outputEl) {{\n",
              "    x.observe(outputEl, {childList: true});\n",
              "}}\n",
              "\n",
              "                        })                };                            </script>        </div>\n",
              "</body>\n",
              "</html>"
            ]
          },
          "metadata": {}
        }
      ]
    },
    {
      "cell_type": "code",
      "source": [
        ""
      ],
      "metadata": {
        "id": "SFHx1IVPARWj"
      },
      "execution_count": null,
      "outputs": []
    },
    {
      "cell_type": "code",
      "source": [
        ""
      ],
      "metadata": {
        "id": "bgUggYadARZY"
      },
      "execution_count": null,
      "outputs": []
    }
  ],
  "metadata": {
    "colab": {
      "name": "Classification Task With Sheng Language Dataset.ipynb",
      "provenance": [],
      "include_colab_link": true
    },
    "kernelspec": {
      "display_name": "Python 3",
      "name": "python3"
    },
    "language_info": {
      "name": "python"
    },
    "widgets": {
      "application/vnd.jupyter.widget-state+json": {
        "550c99f2db5943689c30e051ae135c70": {
          "model_module": "@jupyter-widgets/controls",
          "model_name": "HBoxModel",
          "model_module_version": "1.5.0",
          "state": {
            "_dom_classes": [],
            "_model_module": "@jupyter-widgets/controls",
            "_model_module_version": "1.5.0",
            "_model_name": "HBoxModel",
            "_view_count": null,
            "_view_module": "@jupyter-widgets/controls",
            "_view_module_version": "1.5.0",
            "_view_name": "HBoxView",
            "box_style": "",
            "children": [
              "IPY_MODEL_4b1c854e5c98416cbb58c3a98498a301",
              "IPY_MODEL_c1c4294b84cd49baae6eb8c952453eaf",
              "IPY_MODEL_7f39486d8e9040ccaff168c8bab64b32"
            ],
            "layout": "IPY_MODEL_0f1f89a713334c55bb0c3f86f2f753df"
          }
        },
        "4b1c854e5c98416cbb58c3a98498a301": {
          "model_module": "@jupyter-widgets/controls",
          "model_name": "HTMLModel",
          "model_module_version": "1.5.0",
          "state": {
            "_dom_classes": [],
            "_model_module": "@jupyter-widgets/controls",
            "_model_module_version": "1.5.0",
            "_model_name": "HTMLModel",
            "_view_count": null,
            "_view_module": "@jupyter-widgets/controls",
            "_view_module_version": "1.5.0",
            "_view_name": "HTMLView",
            "description": "",
            "description_tooltip": null,
            "layout": "IPY_MODEL_3ad8c53ad7974617b837bce51f644be9",
            "placeholder": "​",
            "style": "IPY_MODEL_37864701c555433cb6b0fd84ef110625",
            "value": "Downloading: 100%"
          }
        },
        "c1c4294b84cd49baae6eb8c952453eaf": {
          "model_module": "@jupyter-widgets/controls",
          "model_name": "FloatProgressModel",
          "model_module_version": "1.5.0",
          "state": {
            "_dom_classes": [],
            "_model_module": "@jupyter-widgets/controls",
            "_model_module_version": "1.5.0",
            "_model_name": "FloatProgressModel",
            "_view_count": null,
            "_view_module": "@jupyter-widgets/controls",
            "_view_module_version": "1.5.0",
            "_view_name": "ProgressView",
            "bar_style": "success",
            "description": "",
            "description_tooltip": null,
            "layout": "IPY_MODEL_c7efa5fbbad1450bb9ad32acb0a466f0",
            "max": 734,
            "min": 0,
            "orientation": "horizontal",
            "style": "IPY_MODEL_5808f4356d4f4bcc922d0484cec2edfa",
            "value": 734
          }
        },
        "7f39486d8e9040ccaff168c8bab64b32": {
          "model_module": "@jupyter-widgets/controls",
          "model_name": "HTMLModel",
          "model_module_version": "1.5.0",
          "state": {
            "_dom_classes": [],
            "_model_module": "@jupyter-widgets/controls",
            "_model_module_version": "1.5.0",
            "_model_name": "HTMLModel",
            "_view_count": null,
            "_view_module": "@jupyter-widgets/controls",
            "_view_module_version": "1.5.0",
            "_view_name": "HTMLView",
            "description": "",
            "description_tooltip": null,
            "layout": "IPY_MODEL_727eac14f5b14621bd555e1273969338",
            "placeholder": "​",
            "style": "IPY_MODEL_2b46ee984868404cb34472832a190030",
            "value": " 734/734 [00:00&lt;00:00, 9.06kB/s]"
          }
        },
        "0f1f89a713334c55bb0c3f86f2f753df": {
          "model_module": "@jupyter-widgets/base",
          "model_name": "LayoutModel",
          "model_module_version": "1.2.0",
          "state": {
            "_model_module": "@jupyter-widgets/base",
            "_model_module_version": "1.2.0",
            "_model_name": "LayoutModel",
            "_view_count": null,
            "_view_module": "@jupyter-widgets/base",
            "_view_module_version": "1.2.0",
            "_view_name": "LayoutView",
            "align_content": null,
            "align_items": null,
            "align_self": null,
            "border": null,
            "bottom": null,
            "display": null,
            "flex": null,
            "flex_flow": null,
            "grid_area": null,
            "grid_auto_columns": null,
            "grid_auto_flow": null,
            "grid_auto_rows": null,
            "grid_column": null,
            "grid_gap": null,
            "grid_row": null,
            "grid_template_areas": null,
            "grid_template_columns": null,
            "grid_template_rows": null,
            "height": null,
            "justify_content": null,
            "justify_items": null,
            "left": null,
            "margin": null,
            "max_height": null,
            "max_width": null,
            "min_height": null,
            "min_width": null,
            "object_fit": null,
            "object_position": null,
            "order": null,
            "overflow": null,
            "overflow_x": null,
            "overflow_y": null,
            "padding": null,
            "right": null,
            "top": null,
            "visibility": null,
            "width": null
          }
        },
        "3ad8c53ad7974617b837bce51f644be9": {
          "model_module": "@jupyter-widgets/base",
          "model_name": "LayoutModel",
          "model_module_version": "1.2.0",
          "state": {
            "_model_module": "@jupyter-widgets/base",
            "_model_module_version": "1.2.0",
            "_model_name": "LayoutModel",
            "_view_count": null,
            "_view_module": "@jupyter-widgets/base",
            "_view_module_version": "1.2.0",
            "_view_name": "LayoutView",
            "align_content": null,
            "align_items": null,
            "align_self": null,
            "border": null,
            "bottom": null,
            "display": null,
            "flex": null,
            "flex_flow": null,
            "grid_area": null,
            "grid_auto_columns": null,
            "grid_auto_flow": null,
            "grid_auto_rows": null,
            "grid_column": null,
            "grid_gap": null,
            "grid_row": null,
            "grid_template_areas": null,
            "grid_template_columns": null,
            "grid_template_rows": null,
            "height": null,
            "justify_content": null,
            "justify_items": null,
            "left": null,
            "margin": null,
            "max_height": null,
            "max_width": null,
            "min_height": null,
            "min_width": null,
            "object_fit": null,
            "object_position": null,
            "order": null,
            "overflow": null,
            "overflow_x": null,
            "overflow_y": null,
            "padding": null,
            "right": null,
            "top": null,
            "visibility": null,
            "width": null
          }
        },
        "37864701c555433cb6b0fd84ef110625": {
          "model_module": "@jupyter-widgets/controls",
          "model_name": "DescriptionStyleModel",
          "model_module_version": "1.5.0",
          "state": {
            "_model_module": "@jupyter-widgets/controls",
            "_model_module_version": "1.5.0",
            "_model_name": "DescriptionStyleModel",
            "_view_count": null,
            "_view_module": "@jupyter-widgets/base",
            "_view_module_version": "1.2.0",
            "_view_name": "StyleView",
            "description_width": ""
          }
        },
        "c7efa5fbbad1450bb9ad32acb0a466f0": {
          "model_module": "@jupyter-widgets/base",
          "model_name": "LayoutModel",
          "model_module_version": "1.2.0",
          "state": {
            "_model_module": "@jupyter-widgets/base",
            "_model_module_version": "1.2.0",
            "_model_name": "LayoutModel",
            "_view_count": null,
            "_view_module": "@jupyter-widgets/base",
            "_view_module_version": "1.2.0",
            "_view_name": "LayoutView",
            "align_content": null,
            "align_items": null,
            "align_self": null,
            "border": null,
            "bottom": null,
            "display": null,
            "flex": null,
            "flex_flow": null,
            "grid_area": null,
            "grid_auto_columns": null,
            "grid_auto_flow": null,
            "grid_auto_rows": null,
            "grid_column": null,
            "grid_gap": null,
            "grid_row": null,
            "grid_template_areas": null,
            "grid_template_columns": null,
            "grid_template_rows": null,
            "height": null,
            "justify_content": null,
            "justify_items": null,
            "left": null,
            "margin": null,
            "max_height": null,
            "max_width": null,
            "min_height": null,
            "min_width": null,
            "object_fit": null,
            "object_position": null,
            "order": null,
            "overflow": null,
            "overflow_x": null,
            "overflow_y": null,
            "padding": null,
            "right": null,
            "top": null,
            "visibility": null,
            "width": null
          }
        },
        "5808f4356d4f4bcc922d0484cec2edfa": {
          "model_module": "@jupyter-widgets/controls",
          "model_name": "ProgressStyleModel",
          "model_module_version": "1.5.0",
          "state": {
            "_model_module": "@jupyter-widgets/controls",
            "_model_module_version": "1.5.0",
            "_model_name": "ProgressStyleModel",
            "_view_count": null,
            "_view_module": "@jupyter-widgets/base",
            "_view_module_version": "1.2.0",
            "_view_name": "StyleView",
            "bar_color": null,
            "description_width": ""
          }
        },
        "727eac14f5b14621bd555e1273969338": {
          "model_module": "@jupyter-widgets/base",
          "model_name": "LayoutModel",
          "model_module_version": "1.2.0",
          "state": {
            "_model_module": "@jupyter-widgets/base",
            "_model_module_version": "1.2.0",
            "_model_name": "LayoutModel",
            "_view_count": null,
            "_view_module": "@jupyter-widgets/base",
            "_view_module_version": "1.2.0",
            "_view_name": "LayoutView",
            "align_content": null,
            "align_items": null,
            "align_self": null,
            "border": null,
            "bottom": null,
            "display": null,
            "flex": null,
            "flex_flow": null,
            "grid_area": null,
            "grid_auto_columns": null,
            "grid_auto_flow": null,
            "grid_auto_rows": null,
            "grid_column": null,
            "grid_gap": null,
            "grid_row": null,
            "grid_template_areas": null,
            "grid_template_columns": null,
            "grid_template_rows": null,
            "height": null,
            "justify_content": null,
            "justify_items": null,
            "left": null,
            "margin": null,
            "max_height": null,
            "max_width": null,
            "min_height": null,
            "min_width": null,
            "object_fit": null,
            "object_position": null,
            "order": null,
            "overflow": null,
            "overflow_x": null,
            "overflow_y": null,
            "padding": null,
            "right": null,
            "top": null,
            "visibility": null,
            "width": null
          }
        },
        "2b46ee984868404cb34472832a190030": {
          "model_module": "@jupyter-widgets/controls",
          "model_name": "DescriptionStyleModel",
          "model_module_version": "1.5.0",
          "state": {
            "_model_module": "@jupyter-widgets/controls",
            "_model_module_version": "1.5.0",
            "_model_name": "DescriptionStyleModel",
            "_view_count": null,
            "_view_module": "@jupyter-widgets/base",
            "_view_module_version": "1.2.0",
            "_view_name": "StyleView",
            "description_width": ""
          }
        },
        "7609ca7f9c204e44b4d13caf0d49c394": {
          "model_module": "@jupyter-widgets/controls",
          "model_name": "HBoxModel",
          "model_module_version": "1.5.0",
          "state": {
            "_dom_classes": [],
            "_model_module": "@jupyter-widgets/controls",
            "_model_module_version": "1.5.0",
            "_model_name": "HBoxModel",
            "_view_count": null,
            "_view_module": "@jupyter-widgets/controls",
            "_view_module_version": "1.5.0",
            "_view_name": "HBoxView",
            "box_style": "",
            "children": [
              "IPY_MODEL_c79c0dd4be3c47a7a83857764722a3a7",
              "IPY_MODEL_bcfed9aeff804735afdeaf5462362d37",
              "IPY_MODEL_a08f02886bbe4f31b48833a1e7c6876f"
            ],
            "layout": "IPY_MODEL_d7748dfcc9e14f91b858a34e9c22479f"
          }
        },
        "c79c0dd4be3c47a7a83857764722a3a7": {
          "model_module": "@jupyter-widgets/controls",
          "model_name": "HTMLModel",
          "model_module_version": "1.5.0",
          "state": {
            "_dom_classes": [],
            "_model_module": "@jupyter-widgets/controls",
            "_model_module_version": "1.5.0",
            "_model_name": "HTMLModel",
            "_view_count": null,
            "_view_module": "@jupyter-widgets/controls",
            "_view_module_version": "1.5.0",
            "_view_name": "HTMLView",
            "description": "",
            "description_tooltip": null,
            "layout": "IPY_MODEL_8847494f859a455b99878ee81389632f",
            "placeholder": "​",
            "style": "IPY_MODEL_58549bbb9da64598a2eb3b414acd3c73",
            "value": "Downloading: 100%"
          }
        },
        "bcfed9aeff804735afdeaf5462362d37": {
          "model_module": "@jupyter-widgets/controls",
          "model_name": "FloatProgressModel",
          "model_module_version": "1.5.0",
          "state": {
            "_dom_classes": [],
            "_model_module": "@jupyter-widgets/controls",
            "_model_module_version": "1.5.0",
            "_model_name": "FloatProgressModel",
            "_view_count": null,
            "_view_module": "@jupyter-widgets/controls",
            "_view_module_version": "1.5.0",
            "_view_name": "ProgressView",
            "bar_style": "success",
            "description": "",
            "description_tooltip": null,
            "layout": "IPY_MODEL_dfc25777e553454da671c66f0c659c7f",
            "max": 2243942751,
            "min": 0,
            "orientation": "horizontal",
            "style": "IPY_MODEL_970e53081075477d8ced2ec91313b570",
            "value": 2243942751
          }
        },
        "a08f02886bbe4f31b48833a1e7c6876f": {
          "model_module": "@jupyter-widgets/controls",
          "model_name": "HTMLModel",
          "model_module_version": "1.5.0",
          "state": {
            "_dom_classes": [],
            "_model_module": "@jupyter-widgets/controls",
            "_model_module_version": "1.5.0",
            "_model_name": "HTMLModel",
            "_view_count": null,
            "_view_module": "@jupyter-widgets/controls",
            "_view_module_version": "1.5.0",
            "_view_name": "HTMLView",
            "description": "",
            "description_tooltip": null,
            "layout": "IPY_MODEL_584cc5598f1d49e3801b07e0e94b06f9",
            "placeholder": "​",
            "style": "IPY_MODEL_e683228451164c619cfaa979dccc841d",
            "value": " 2.09G/2.09G [00:57&lt;00:00, 37.9MB/s]"
          }
        },
        "d7748dfcc9e14f91b858a34e9c22479f": {
          "model_module": "@jupyter-widgets/base",
          "model_name": "LayoutModel",
          "model_module_version": "1.2.0",
          "state": {
            "_model_module": "@jupyter-widgets/base",
            "_model_module_version": "1.2.0",
            "_model_name": "LayoutModel",
            "_view_count": null,
            "_view_module": "@jupyter-widgets/base",
            "_view_module_version": "1.2.0",
            "_view_name": "LayoutView",
            "align_content": null,
            "align_items": null,
            "align_self": null,
            "border": null,
            "bottom": null,
            "display": null,
            "flex": null,
            "flex_flow": null,
            "grid_area": null,
            "grid_auto_columns": null,
            "grid_auto_flow": null,
            "grid_auto_rows": null,
            "grid_column": null,
            "grid_gap": null,
            "grid_row": null,
            "grid_template_areas": null,
            "grid_template_columns": null,
            "grid_template_rows": null,
            "height": null,
            "justify_content": null,
            "justify_items": null,
            "left": null,
            "margin": null,
            "max_height": null,
            "max_width": null,
            "min_height": null,
            "min_width": null,
            "object_fit": null,
            "object_position": null,
            "order": null,
            "overflow": null,
            "overflow_x": null,
            "overflow_y": null,
            "padding": null,
            "right": null,
            "top": null,
            "visibility": null,
            "width": null
          }
        },
        "8847494f859a455b99878ee81389632f": {
          "model_module": "@jupyter-widgets/base",
          "model_name": "LayoutModel",
          "model_module_version": "1.2.0",
          "state": {
            "_model_module": "@jupyter-widgets/base",
            "_model_module_version": "1.2.0",
            "_model_name": "LayoutModel",
            "_view_count": null,
            "_view_module": "@jupyter-widgets/base",
            "_view_module_version": "1.2.0",
            "_view_name": "LayoutView",
            "align_content": null,
            "align_items": null,
            "align_self": null,
            "border": null,
            "bottom": null,
            "display": null,
            "flex": null,
            "flex_flow": null,
            "grid_area": null,
            "grid_auto_columns": null,
            "grid_auto_flow": null,
            "grid_auto_rows": null,
            "grid_column": null,
            "grid_gap": null,
            "grid_row": null,
            "grid_template_areas": null,
            "grid_template_columns": null,
            "grid_template_rows": null,
            "height": null,
            "justify_content": null,
            "justify_items": null,
            "left": null,
            "margin": null,
            "max_height": null,
            "max_width": null,
            "min_height": null,
            "min_width": null,
            "object_fit": null,
            "object_position": null,
            "order": null,
            "overflow": null,
            "overflow_x": null,
            "overflow_y": null,
            "padding": null,
            "right": null,
            "top": null,
            "visibility": null,
            "width": null
          }
        },
        "58549bbb9da64598a2eb3b414acd3c73": {
          "model_module": "@jupyter-widgets/controls",
          "model_name": "DescriptionStyleModel",
          "model_module_version": "1.5.0",
          "state": {
            "_model_module": "@jupyter-widgets/controls",
            "_model_module_version": "1.5.0",
            "_model_name": "DescriptionStyleModel",
            "_view_count": null,
            "_view_module": "@jupyter-widgets/base",
            "_view_module_version": "1.2.0",
            "_view_name": "StyleView",
            "description_width": ""
          }
        },
        "dfc25777e553454da671c66f0c659c7f": {
          "model_module": "@jupyter-widgets/base",
          "model_name": "LayoutModel",
          "model_module_version": "1.2.0",
          "state": {
            "_model_module": "@jupyter-widgets/base",
            "_model_module_version": "1.2.0",
            "_model_name": "LayoutModel",
            "_view_count": null,
            "_view_module": "@jupyter-widgets/base",
            "_view_module_version": "1.2.0",
            "_view_name": "LayoutView",
            "align_content": null,
            "align_items": null,
            "align_self": null,
            "border": null,
            "bottom": null,
            "display": null,
            "flex": null,
            "flex_flow": null,
            "grid_area": null,
            "grid_auto_columns": null,
            "grid_auto_flow": null,
            "grid_auto_rows": null,
            "grid_column": null,
            "grid_gap": null,
            "grid_row": null,
            "grid_template_areas": null,
            "grid_template_columns": null,
            "grid_template_rows": null,
            "height": null,
            "justify_content": null,
            "justify_items": null,
            "left": null,
            "margin": null,
            "max_height": null,
            "max_width": null,
            "min_height": null,
            "min_width": null,
            "object_fit": null,
            "object_position": null,
            "order": null,
            "overflow": null,
            "overflow_x": null,
            "overflow_y": null,
            "padding": null,
            "right": null,
            "top": null,
            "visibility": null,
            "width": null
          }
        },
        "970e53081075477d8ced2ec91313b570": {
          "model_module": "@jupyter-widgets/controls",
          "model_name": "ProgressStyleModel",
          "model_module_version": "1.5.0",
          "state": {
            "_model_module": "@jupyter-widgets/controls",
            "_model_module_version": "1.5.0",
            "_model_name": "ProgressStyleModel",
            "_view_count": null,
            "_view_module": "@jupyter-widgets/base",
            "_view_module_version": "1.2.0",
            "_view_name": "StyleView",
            "bar_color": null,
            "description_width": ""
          }
        },
        "584cc5598f1d49e3801b07e0e94b06f9": {
          "model_module": "@jupyter-widgets/base",
          "model_name": "LayoutModel",
          "model_module_version": "1.2.0",
          "state": {
            "_model_module": "@jupyter-widgets/base",
            "_model_module_version": "1.2.0",
            "_model_name": "LayoutModel",
            "_view_count": null,
            "_view_module": "@jupyter-widgets/base",
            "_view_module_version": "1.2.0",
            "_view_name": "LayoutView",
            "align_content": null,
            "align_items": null,
            "align_self": null,
            "border": null,
            "bottom": null,
            "display": null,
            "flex": null,
            "flex_flow": null,
            "grid_area": null,
            "grid_auto_columns": null,
            "grid_auto_flow": null,
            "grid_auto_rows": null,
            "grid_column": null,
            "grid_gap": null,
            "grid_row": null,
            "grid_template_areas": null,
            "grid_template_columns": null,
            "grid_template_rows": null,
            "height": null,
            "justify_content": null,
            "justify_items": null,
            "left": null,
            "margin": null,
            "max_height": null,
            "max_width": null,
            "min_height": null,
            "min_width": null,
            "object_fit": null,
            "object_position": null,
            "order": null,
            "overflow": null,
            "overflow_x": null,
            "overflow_y": null,
            "padding": null,
            "right": null,
            "top": null,
            "visibility": null,
            "width": null
          }
        },
        "e683228451164c619cfaa979dccc841d": {
          "model_module": "@jupyter-widgets/controls",
          "model_name": "DescriptionStyleModel",
          "model_module_version": "1.5.0",
          "state": {
            "_model_module": "@jupyter-widgets/controls",
            "_model_module_version": "1.5.0",
            "_model_name": "DescriptionStyleModel",
            "_view_count": null,
            "_view_module": "@jupyter-widgets/base",
            "_view_module_version": "1.2.0",
            "_view_name": "StyleView",
            "description_width": ""
          }
        },
        "71fe96c6321d4da5ae61fc85fe3aba6d": {
          "model_module": "@jupyter-widgets/controls",
          "model_name": "HBoxModel",
          "model_module_version": "1.5.0",
          "state": {
            "_dom_classes": [],
            "_model_module": "@jupyter-widgets/controls",
            "_model_module_version": "1.5.0",
            "_model_name": "HBoxModel",
            "_view_count": null,
            "_view_module": "@jupyter-widgets/controls",
            "_view_module_version": "1.5.0",
            "_view_name": "HBoxView",
            "box_style": "",
            "children": [
              "IPY_MODEL_aaf9beeae4cd4cd7902636b8380837e6",
              "IPY_MODEL_3e575bf0fb2c4d8aaaacea188daf5c59",
              "IPY_MODEL_e7a0acfb9240471baa117f9c15d42147"
            ],
            "layout": "IPY_MODEL_61f7d054ef024635a37c4616a1aabc0d"
          }
        },
        "aaf9beeae4cd4cd7902636b8380837e6": {
          "model_module": "@jupyter-widgets/controls",
          "model_name": "HTMLModel",
          "model_module_version": "1.5.0",
          "state": {
            "_dom_classes": [],
            "_model_module": "@jupyter-widgets/controls",
            "_model_module_version": "1.5.0",
            "_model_name": "HTMLModel",
            "_view_count": null,
            "_view_module": "@jupyter-widgets/controls",
            "_view_module_version": "1.5.0",
            "_view_name": "HTMLView",
            "description": "",
            "description_tooltip": null,
            "layout": "IPY_MODEL_4b3d36dee60f4f7797d7332420d8fa6e",
            "placeholder": "​",
            "style": "IPY_MODEL_0d82d1422e5640be9e0a8d23a542d9e6",
            "value": "Downloading: 100%"
          }
        },
        "3e575bf0fb2c4d8aaaacea188daf5c59": {
          "model_module": "@jupyter-widgets/controls",
          "model_name": "FloatProgressModel",
          "model_module_version": "1.5.0",
          "state": {
            "_dom_classes": [],
            "_model_module": "@jupyter-widgets/controls",
            "_model_module_version": "1.5.0",
            "_model_name": "FloatProgressModel",
            "_view_count": null,
            "_view_module": "@jupyter-widgets/controls",
            "_view_module_version": "1.5.0",
            "_view_name": "ProgressView",
            "bar_style": "success",
            "description": "",
            "description_tooltip": null,
            "layout": "IPY_MODEL_2adb5b32aaf44d99b2e323eda183e6df",
            "max": 25,
            "min": 0,
            "orientation": "horizontal",
            "style": "IPY_MODEL_180af54d02ad4243bc6d353f954011fe",
            "value": 25
          }
        },
        "e7a0acfb9240471baa117f9c15d42147": {
          "model_module": "@jupyter-widgets/controls",
          "model_name": "HTMLModel",
          "model_module_version": "1.5.0",
          "state": {
            "_dom_classes": [],
            "_model_module": "@jupyter-widgets/controls",
            "_model_module_version": "1.5.0",
            "_model_name": "HTMLModel",
            "_view_count": null,
            "_view_module": "@jupyter-widgets/controls",
            "_view_module_version": "1.5.0",
            "_view_name": "HTMLView",
            "description": "",
            "description_tooltip": null,
            "layout": "IPY_MODEL_509c23e371984e2bb7a2c9080f2e7872",
            "placeholder": "​",
            "style": "IPY_MODEL_231ac6fafd5249f08d18e90d7766fce5",
            "value": " 25.0/25.0 [00:00&lt;00:00, 534B/s]"
          }
        },
        "61f7d054ef024635a37c4616a1aabc0d": {
          "model_module": "@jupyter-widgets/base",
          "model_name": "LayoutModel",
          "model_module_version": "1.2.0",
          "state": {
            "_model_module": "@jupyter-widgets/base",
            "_model_module_version": "1.2.0",
            "_model_name": "LayoutModel",
            "_view_count": null,
            "_view_module": "@jupyter-widgets/base",
            "_view_module_version": "1.2.0",
            "_view_name": "LayoutView",
            "align_content": null,
            "align_items": null,
            "align_self": null,
            "border": null,
            "bottom": null,
            "display": null,
            "flex": null,
            "flex_flow": null,
            "grid_area": null,
            "grid_auto_columns": null,
            "grid_auto_flow": null,
            "grid_auto_rows": null,
            "grid_column": null,
            "grid_gap": null,
            "grid_row": null,
            "grid_template_areas": null,
            "grid_template_columns": null,
            "grid_template_rows": null,
            "height": null,
            "justify_content": null,
            "justify_items": null,
            "left": null,
            "margin": null,
            "max_height": null,
            "max_width": null,
            "min_height": null,
            "min_width": null,
            "object_fit": null,
            "object_position": null,
            "order": null,
            "overflow": null,
            "overflow_x": null,
            "overflow_y": null,
            "padding": null,
            "right": null,
            "top": null,
            "visibility": null,
            "width": null
          }
        },
        "4b3d36dee60f4f7797d7332420d8fa6e": {
          "model_module": "@jupyter-widgets/base",
          "model_name": "LayoutModel",
          "model_module_version": "1.2.0",
          "state": {
            "_model_module": "@jupyter-widgets/base",
            "_model_module_version": "1.2.0",
            "_model_name": "LayoutModel",
            "_view_count": null,
            "_view_module": "@jupyter-widgets/base",
            "_view_module_version": "1.2.0",
            "_view_name": "LayoutView",
            "align_content": null,
            "align_items": null,
            "align_self": null,
            "border": null,
            "bottom": null,
            "display": null,
            "flex": null,
            "flex_flow": null,
            "grid_area": null,
            "grid_auto_columns": null,
            "grid_auto_flow": null,
            "grid_auto_rows": null,
            "grid_column": null,
            "grid_gap": null,
            "grid_row": null,
            "grid_template_areas": null,
            "grid_template_columns": null,
            "grid_template_rows": null,
            "height": null,
            "justify_content": null,
            "justify_items": null,
            "left": null,
            "margin": null,
            "max_height": null,
            "max_width": null,
            "min_height": null,
            "min_width": null,
            "object_fit": null,
            "object_position": null,
            "order": null,
            "overflow": null,
            "overflow_x": null,
            "overflow_y": null,
            "padding": null,
            "right": null,
            "top": null,
            "visibility": null,
            "width": null
          }
        },
        "0d82d1422e5640be9e0a8d23a542d9e6": {
          "model_module": "@jupyter-widgets/controls",
          "model_name": "DescriptionStyleModel",
          "model_module_version": "1.5.0",
          "state": {
            "_model_module": "@jupyter-widgets/controls",
            "_model_module_version": "1.5.0",
            "_model_name": "DescriptionStyleModel",
            "_view_count": null,
            "_view_module": "@jupyter-widgets/base",
            "_view_module_version": "1.2.0",
            "_view_name": "StyleView",
            "description_width": ""
          }
        },
        "2adb5b32aaf44d99b2e323eda183e6df": {
          "model_module": "@jupyter-widgets/base",
          "model_name": "LayoutModel",
          "model_module_version": "1.2.0",
          "state": {
            "_model_module": "@jupyter-widgets/base",
            "_model_module_version": "1.2.0",
            "_model_name": "LayoutModel",
            "_view_count": null,
            "_view_module": "@jupyter-widgets/base",
            "_view_module_version": "1.2.0",
            "_view_name": "LayoutView",
            "align_content": null,
            "align_items": null,
            "align_self": null,
            "border": null,
            "bottom": null,
            "display": null,
            "flex": null,
            "flex_flow": null,
            "grid_area": null,
            "grid_auto_columns": null,
            "grid_auto_flow": null,
            "grid_auto_rows": null,
            "grid_column": null,
            "grid_gap": null,
            "grid_row": null,
            "grid_template_areas": null,
            "grid_template_columns": null,
            "grid_template_rows": null,
            "height": null,
            "justify_content": null,
            "justify_items": null,
            "left": null,
            "margin": null,
            "max_height": null,
            "max_width": null,
            "min_height": null,
            "min_width": null,
            "object_fit": null,
            "object_position": null,
            "order": null,
            "overflow": null,
            "overflow_x": null,
            "overflow_y": null,
            "padding": null,
            "right": null,
            "top": null,
            "visibility": null,
            "width": null
          }
        },
        "180af54d02ad4243bc6d353f954011fe": {
          "model_module": "@jupyter-widgets/controls",
          "model_name": "ProgressStyleModel",
          "model_module_version": "1.5.0",
          "state": {
            "_model_module": "@jupyter-widgets/controls",
            "_model_module_version": "1.5.0",
            "_model_name": "ProgressStyleModel",
            "_view_count": null,
            "_view_module": "@jupyter-widgets/base",
            "_view_module_version": "1.2.0",
            "_view_name": "StyleView",
            "bar_color": null,
            "description_width": ""
          }
        },
        "509c23e371984e2bb7a2c9080f2e7872": {
          "model_module": "@jupyter-widgets/base",
          "model_name": "LayoutModel",
          "model_module_version": "1.2.0",
          "state": {
            "_model_module": "@jupyter-widgets/base",
            "_model_module_version": "1.2.0",
            "_model_name": "LayoutModel",
            "_view_count": null,
            "_view_module": "@jupyter-widgets/base",
            "_view_module_version": "1.2.0",
            "_view_name": "LayoutView",
            "align_content": null,
            "align_items": null,
            "align_self": null,
            "border": null,
            "bottom": null,
            "display": null,
            "flex": null,
            "flex_flow": null,
            "grid_area": null,
            "grid_auto_columns": null,
            "grid_auto_flow": null,
            "grid_auto_rows": null,
            "grid_column": null,
            "grid_gap": null,
            "grid_row": null,
            "grid_template_areas": null,
            "grid_template_columns": null,
            "grid_template_rows": null,
            "height": null,
            "justify_content": null,
            "justify_items": null,
            "left": null,
            "margin": null,
            "max_height": null,
            "max_width": null,
            "min_height": null,
            "min_width": null,
            "object_fit": null,
            "object_position": null,
            "order": null,
            "overflow": null,
            "overflow_x": null,
            "overflow_y": null,
            "padding": null,
            "right": null,
            "top": null,
            "visibility": null,
            "width": null
          }
        },
        "231ac6fafd5249f08d18e90d7766fce5": {
          "model_module": "@jupyter-widgets/controls",
          "model_name": "DescriptionStyleModel",
          "model_module_version": "1.5.0",
          "state": {
            "_model_module": "@jupyter-widgets/controls",
            "_model_module_version": "1.5.0",
            "_model_name": "DescriptionStyleModel",
            "_view_count": null,
            "_view_module": "@jupyter-widgets/base",
            "_view_module_version": "1.2.0",
            "_view_name": "StyleView",
            "description_width": ""
          }
        },
        "977786d0fc34465b80e77ee6d3954703": {
          "model_module": "@jupyter-widgets/controls",
          "model_name": "HBoxModel",
          "model_module_version": "1.5.0",
          "state": {
            "_dom_classes": [],
            "_model_module": "@jupyter-widgets/controls",
            "_model_module_version": "1.5.0",
            "_model_name": "HBoxModel",
            "_view_count": null,
            "_view_module": "@jupyter-widgets/controls",
            "_view_module_version": "1.5.0",
            "_view_name": "HBoxView",
            "box_style": "",
            "children": [
              "IPY_MODEL_0c3d7d9a65254687a6d45dffc6aaecf8",
              "IPY_MODEL_99fa4d1b753f4e8ba27c586cc14bde28",
              "IPY_MODEL_616a1383d7d04d91ae7ad5d1bfd409a8"
            ],
            "layout": "IPY_MODEL_10ee40d8318945acab622c4ad38056f9"
          }
        },
        "0c3d7d9a65254687a6d45dffc6aaecf8": {
          "model_module": "@jupyter-widgets/controls",
          "model_name": "HTMLModel",
          "model_module_version": "1.5.0",
          "state": {
            "_dom_classes": [],
            "_model_module": "@jupyter-widgets/controls",
            "_model_module_version": "1.5.0",
            "_model_name": "HTMLModel",
            "_view_count": null,
            "_view_module": "@jupyter-widgets/controls",
            "_view_module_version": "1.5.0",
            "_view_name": "HTMLView",
            "description": "",
            "description_tooltip": null,
            "layout": "IPY_MODEL_9655bde0637446be8a20c04fff41bbbc",
            "placeholder": "​",
            "style": "IPY_MODEL_5939d99cf3fd4c0186cef2e1c4b874bb",
            "value": "Downloading: 100%"
          }
        },
        "99fa4d1b753f4e8ba27c586cc14bde28": {
          "model_module": "@jupyter-widgets/controls",
          "model_name": "FloatProgressModel",
          "model_module_version": "1.5.0",
          "state": {
            "_dom_classes": [],
            "_model_module": "@jupyter-widgets/controls",
            "_model_module_version": "1.5.0",
            "_model_name": "FloatProgressModel",
            "_view_count": null,
            "_view_module": "@jupyter-widgets/controls",
            "_view_module_version": "1.5.0",
            "_view_name": "ProgressView",
            "bar_style": "success",
            "description": "",
            "description_tooltip": null,
            "layout": "IPY_MODEL_931e90ec2b3f4c6db744b7ea4cc55380",
            "max": 5069051,
            "min": 0,
            "orientation": "horizontal",
            "style": "IPY_MODEL_87b147106fb345b9a0f793f10aeb9dcd",
            "value": 5069051
          }
        },
        "616a1383d7d04d91ae7ad5d1bfd409a8": {
          "model_module": "@jupyter-widgets/controls",
          "model_name": "HTMLModel",
          "model_module_version": "1.5.0",
          "state": {
            "_dom_classes": [],
            "_model_module": "@jupyter-widgets/controls",
            "_model_module_version": "1.5.0",
            "_model_name": "HTMLModel",
            "_view_count": null,
            "_view_module": "@jupyter-widgets/controls",
            "_view_module_version": "1.5.0",
            "_view_name": "HTMLView",
            "description": "",
            "description_tooltip": null,
            "layout": "IPY_MODEL_6667d5de8ad94c77a79ce240f5b4d575",
            "placeholder": "​",
            "style": "IPY_MODEL_000b20066e2349958737e5a6986ef53b",
            "value": " 4.83M/4.83M [00:00&lt;00:00, 10.6MB/s]"
          }
        },
        "10ee40d8318945acab622c4ad38056f9": {
          "model_module": "@jupyter-widgets/base",
          "model_name": "LayoutModel",
          "model_module_version": "1.2.0",
          "state": {
            "_model_module": "@jupyter-widgets/base",
            "_model_module_version": "1.2.0",
            "_model_name": "LayoutModel",
            "_view_count": null,
            "_view_module": "@jupyter-widgets/base",
            "_view_module_version": "1.2.0",
            "_view_name": "LayoutView",
            "align_content": null,
            "align_items": null,
            "align_self": null,
            "border": null,
            "bottom": null,
            "display": null,
            "flex": null,
            "flex_flow": null,
            "grid_area": null,
            "grid_auto_columns": null,
            "grid_auto_flow": null,
            "grid_auto_rows": null,
            "grid_column": null,
            "grid_gap": null,
            "grid_row": null,
            "grid_template_areas": null,
            "grid_template_columns": null,
            "grid_template_rows": null,
            "height": null,
            "justify_content": null,
            "justify_items": null,
            "left": null,
            "margin": null,
            "max_height": null,
            "max_width": null,
            "min_height": null,
            "min_width": null,
            "object_fit": null,
            "object_position": null,
            "order": null,
            "overflow": null,
            "overflow_x": null,
            "overflow_y": null,
            "padding": null,
            "right": null,
            "top": null,
            "visibility": null,
            "width": null
          }
        },
        "9655bde0637446be8a20c04fff41bbbc": {
          "model_module": "@jupyter-widgets/base",
          "model_name": "LayoutModel",
          "model_module_version": "1.2.0",
          "state": {
            "_model_module": "@jupyter-widgets/base",
            "_model_module_version": "1.2.0",
            "_model_name": "LayoutModel",
            "_view_count": null,
            "_view_module": "@jupyter-widgets/base",
            "_view_module_version": "1.2.0",
            "_view_name": "LayoutView",
            "align_content": null,
            "align_items": null,
            "align_self": null,
            "border": null,
            "bottom": null,
            "display": null,
            "flex": null,
            "flex_flow": null,
            "grid_area": null,
            "grid_auto_columns": null,
            "grid_auto_flow": null,
            "grid_auto_rows": null,
            "grid_column": null,
            "grid_gap": null,
            "grid_row": null,
            "grid_template_areas": null,
            "grid_template_columns": null,
            "grid_template_rows": null,
            "height": null,
            "justify_content": null,
            "justify_items": null,
            "left": null,
            "margin": null,
            "max_height": null,
            "max_width": null,
            "min_height": null,
            "min_width": null,
            "object_fit": null,
            "object_position": null,
            "order": null,
            "overflow": null,
            "overflow_x": null,
            "overflow_y": null,
            "padding": null,
            "right": null,
            "top": null,
            "visibility": null,
            "width": null
          }
        },
        "5939d99cf3fd4c0186cef2e1c4b874bb": {
          "model_module": "@jupyter-widgets/controls",
          "model_name": "DescriptionStyleModel",
          "model_module_version": "1.5.0",
          "state": {
            "_model_module": "@jupyter-widgets/controls",
            "_model_module_version": "1.5.0",
            "_model_name": "DescriptionStyleModel",
            "_view_count": null,
            "_view_module": "@jupyter-widgets/base",
            "_view_module_version": "1.2.0",
            "_view_name": "StyleView",
            "description_width": ""
          }
        },
        "931e90ec2b3f4c6db744b7ea4cc55380": {
          "model_module": "@jupyter-widgets/base",
          "model_name": "LayoutModel",
          "model_module_version": "1.2.0",
          "state": {
            "_model_module": "@jupyter-widgets/base",
            "_model_module_version": "1.2.0",
            "_model_name": "LayoutModel",
            "_view_count": null,
            "_view_module": "@jupyter-widgets/base",
            "_view_module_version": "1.2.0",
            "_view_name": "LayoutView",
            "align_content": null,
            "align_items": null,
            "align_self": null,
            "border": null,
            "bottom": null,
            "display": null,
            "flex": null,
            "flex_flow": null,
            "grid_area": null,
            "grid_auto_columns": null,
            "grid_auto_flow": null,
            "grid_auto_rows": null,
            "grid_column": null,
            "grid_gap": null,
            "grid_row": null,
            "grid_template_areas": null,
            "grid_template_columns": null,
            "grid_template_rows": null,
            "height": null,
            "justify_content": null,
            "justify_items": null,
            "left": null,
            "margin": null,
            "max_height": null,
            "max_width": null,
            "min_height": null,
            "min_width": null,
            "object_fit": null,
            "object_position": null,
            "order": null,
            "overflow": null,
            "overflow_x": null,
            "overflow_y": null,
            "padding": null,
            "right": null,
            "top": null,
            "visibility": null,
            "width": null
          }
        },
        "87b147106fb345b9a0f793f10aeb9dcd": {
          "model_module": "@jupyter-widgets/controls",
          "model_name": "ProgressStyleModel",
          "model_module_version": "1.5.0",
          "state": {
            "_model_module": "@jupyter-widgets/controls",
            "_model_module_version": "1.5.0",
            "_model_name": "ProgressStyleModel",
            "_view_count": null,
            "_view_module": "@jupyter-widgets/base",
            "_view_module_version": "1.2.0",
            "_view_name": "StyleView",
            "bar_color": null,
            "description_width": ""
          }
        },
        "6667d5de8ad94c77a79ce240f5b4d575": {
          "model_module": "@jupyter-widgets/base",
          "model_name": "LayoutModel",
          "model_module_version": "1.2.0",
          "state": {
            "_model_module": "@jupyter-widgets/base",
            "_model_module_version": "1.2.0",
            "_model_name": "LayoutModel",
            "_view_count": null,
            "_view_module": "@jupyter-widgets/base",
            "_view_module_version": "1.2.0",
            "_view_name": "LayoutView",
            "align_content": null,
            "align_items": null,
            "align_self": null,
            "border": null,
            "bottom": null,
            "display": null,
            "flex": null,
            "flex_flow": null,
            "grid_area": null,
            "grid_auto_columns": null,
            "grid_auto_flow": null,
            "grid_auto_rows": null,
            "grid_column": null,
            "grid_gap": null,
            "grid_row": null,
            "grid_template_areas": null,
            "grid_template_columns": null,
            "grid_template_rows": null,
            "height": null,
            "justify_content": null,
            "justify_items": null,
            "left": null,
            "margin": null,
            "max_height": null,
            "max_width": null,
            "min_height": null,
            "min_width": null,
            "object_fit": null,
            "object_position": null,
            "order": null,
            "overflow": null,
            "overflow_x": null,
            "overflow_y": null,
            "padding": null,
            "right": null,
            "top": null,
            "visibility": null,
            "width": null
          }
        },
        "000b20066e2349958737e5a6986ef53b": {
          "model_module": "@jupyter-widgets/controls",
          "model_name": "DescriptionStyleModel",
          "model_module_version": "1.5.0",
          "state": {
            "_model_module": "@jupyter-widgets/controls",
            "_model_module_version": "1.5.0",
            "_model_name": "DescriptionStyleModel",
            "_view_count": null,
            "_view_module": "@jupyter-widgets/base",
            "_view_module_version": "1.2.0",
            "_view_name": "StyleView",
            "description_width": ""
          }
        },
        "0d835a07051d4fbca468c1c864aa0aca": {
          "model_module": "@jupyter-widgets/controls",
          "model_name": "HBoxModel",
          "model_module_version": "1.5.0",
          "state": {
            "_dom_classes": [],
            "_model_module": "@jupyter-widgets/controls",
            "_model_module_version": "1.5.0",
            "_model_name": "HBoxModel",
            "_view_count": null,
            "_view_module": "@jupyter-widgets/controls",
            "_view_module_version": "1.5.0",
            "_view_name": "HBoxView",
            "box_style": "",
            "children": [
              "IPY_MODEL_51a66bee616349e7acb0abd9e40e2a27",
              "IPY_MODEL_ac43a23497034691bc01d6297def06d9",
              "IPY_MODEL_998e6f883f224efcbb7d9c410d582a3e"
            ],
            "layout": "IPY_MODEL_41b5bb88e9ab4e07a2faddae164c36eb"
          }
        },
        "51a66bee616349e7acb0abd9e40e2a27": {
          "model_module": "@jupyter-widgets/controls",
          "model_name": "HTMLModel",
          "model_module_version": "1.5.0",
          "state": {
            "_dom_classes": [],
            "_model_module": "@jupyter-widgets/controls",
            "_model_module_version": "1.5.0",
            "_model_name": "HTMLModel",
            "_view_count": null,
            "_view_module": "@jupyter-widgets/controls",
            "_view_module_version": "1.5.0",
            "_view_name": "HTMLView",
            "description": "",
            "description_tooltip": null,
            "layout": "IPY_MODEL_55a6e5f18a8642fdbd242148d3f9ae14",
            "placeholder": "​",
            "style": "IPY_MODEL_983629d62812484196813349d4e945ca",
            "value": "Downloading: 100%"
          }
        },
        "ac43a23497034691bc01d6297def06d9": {
          "model_module": "@jupyter-widgets/controls",
          "model_name": "FloatProgressModel",
          "model_module_version": "1.5.0",
          "state": {
            "_dom_classes": [],
            "_model_module": "@jupyter-widgets/controls",
            "_model_module_version": "1.5.0",
            "_model_name": "FloatProgressModel",
            "_view_count": null,
            "_view_module": "@jupyter-widgets/controls",
            "_view_module_version": "1.5.0",
            "_view_name": "ProgressView",
            "bar_style": "success",
            "description": "",
            "description_tooltip": null,
            "layout": "IPY_MODEL_22ea7ba939ed4a58889adcafc57b43b5",
            "max": 150,
            "min": 0,
            "orientation": "horizontal",
            "style": "IPY_MODEL_817898bf00774046902cf6b35494e711",
            "value": 150
          }
        },
        "998e6f883f224efcbb7d9c410d582a3e": {
          "model_module": "@jupyter-widgets/controls",
          "model_name": "HTMLModel",
          "model_module_version": "1.5.0",
          "state": {
            "_dom_classes": [],
            "_model_module": "@jupyter-widgets/controls",
            "_model_module_version": "1.5.0",
            "_model_name": "HTMLModel",
            "_view_count": null,
            "_view_module": "@jupyter-widgets/controls",
            "_view_module_version": "1.5.0",
            "_view_name": "HTMLView",
            "description": "",
            "description_tooltip": null,
            "layout": "IPY_MODEL_be4b9c8866f4476ca1c3e1ad1705cdf9",
            "placeholder": "​",
            "style": "IPY_MODEL_e2c7be7f504946079bece8cce8a382c0",
            "value": " 150/150 [00:00&lt;00:00, 3.24kB/s]"
          }
        },
        "41b5bb88e9ab4e07a2faddae164c36eb": {
          "model_module": "@jupyter-widgets/base",
          "model_name": "LayoutModel",
          "model_module_version": "1.2.0",
          "state": {
            "_model_module": "@jupyter-widgets/base",
            "_model_module_version": "1.2.0",
            "_model_name": "LayoutModel",
            "_view_count": null,
            "_view_module": "@jupyter-widgets/base",
            "_view_module_version": "1.2.0",
            "_view_name": "LayoutView",
            "align_content": null,
            "align_items": null,
            "align_self": null,
            "border": null,
            "bottom": null,
            "display": null,
            "flex": null,
            "flex_flow": null,
            "grid_area": null,
            "grid_auto_columns": null,
            "grid_auto_flow": null,
            "grid_auto_rows": null,
            "grid_column": null,
            "grid_gap": null,
            "grid_row": null,
            "grid_template_areas": null,
            "grid_template_columns": null,
            "grid_template_rows": null,
            "height": null,
            "justify_content": null,
            "justify_items": null,
            "left": null,
            "margin": null,
            "max_height": null,
            "max_width": null,
            "min_height": null,
            "min_width": null,
            "object_fit": null,
            "object_position": null,
            "order": null,
            "overflow": null,
            "overflow_x": null,
            "overflow_y": null,
            "padding": null,
            "right": null,
            "top": null,
            "visibility": null,
            "width": null
          }
        },
        "55a6e5f18a8642fdbd242148d3f9ae14": {
          "model_module": "@jupyter-widgets/base",
          "model_name": "LayoutModel",
          "model_module_version": "1.2.0",
          "state": {
            "_model_module": "@jupyter-widgets/base",
            "_model_module_version": "1.2.0",
            "_model_name": "LayoutModel",
            "_view_count": null,
            "_view_module": "@jupyter-widgets/base",
            "_view_module_version": "1.2.0",
            "_view_name": "LayoutView",
            "align_content": null,
            "align_items": null,
            "align_self": null,
            "border": null,
            "bottom": null,
            "display": null,
            "flex": null,
            "flex_flow": null,
            "grid_area": null,
            "grid_auto_columns": null,
            "grid_auto_flow": null,
            "grid_auto_rows": null,
            "grid_column": null,
            "grid_gap": null,
            "grid_row": null,
            "grid_template_areas": null,
            "grid_template_columns": null,
            "grid_template_rows": null,
            "height": null,
            "justify_content": null,
            "justify_items": null,
            "left": null,
            "margin": null,
            "max_height": null,
            "max_width": null,
            "min_height": null,
            "min_width": null,
            "object_fit": null,
            "object_position": null,
            "order": null,
            "overflow": null,
            "overflow_x": null,
            "overflow_y": null,
            "padding": null,
            "right": null,
            "top": null,
            "visibility": null,
            "width": null
          }
        },
        "983629d62812484196813349d4e945ca": {
          "model_module": "@jupyter-widgets/controls",
          "model_name": "DescriptionStyleModel",
          "model_module_version": "1.5.0",
          "state": {
            "_model_module": "@jupyter-widgets/controls",
            "_model_module_version": "1.5.0",
            "_model_name": "DescriptionStyleModel",
            "_view_count": null,
            "_view_module": "@jupyter-widgets/base",
            "_view_module_version": "1.2.0",
            "_view_name": "StyleView",
            "description_width": ""
          }
        },
        "22ea7ba939ed4a58889adcafc57b43b5": {
          "model_module": "@jupyter-widgets/base",
          "model_name": "LayoutModel",
          "model_module_version": "1.2.0",
          "state": {
            "_model_module": "@jupyter-widgets/base",
            "_model_module_version": "1.2.0",
            "_model_name": "LayoutModel",
            "_view_count": null,
            "_view_module": "@jupyter-widgets/base",
            "_view_module_version": "1.2.0",
            "_view_name": "LayoutView",
            "align_content": null,
            "align_items": null,
            "align_self": null,
            "border": null,
            "bottom": null,
            "display": null,
            "flex": null,
            "flex_flow": null,
            "grid_area": null,
            "grid_auto_columns": null,
            "grid_auto_flow": null,
            "grid_auto_rows": null,
            "grid_column": null,
            "grid_gap": null,
            "grid_row": null,
            "grid_template_areas": null,
            "grid_template_columns": null,
            "grid_template_rows": null,
            "height": null,
            "justify_content": null,
            "justify_items": null,
            "left": null,
            "margin": null,
            "max_height": null,
            "max_width": null,
            "min_height": null,
            "min_width": null,
            "object_fit": null,
            "object_position": null,
            "order": null,
            "overflow": null,
            "overflow_x": null,
            "overflow_y": null,
            "padding": null,
            "right": null,
            "top": null,
            "visibility": null,
            "width": null
          }
        },
        "817898bf00774046902cf6b35494e711": {
          "model_module": "@jupyter-widgets/controls",
          "model_name": "ProgressStyleModel",
          "model_module_version": "1.5.0",
          "state": {
            "_model_module": "@jupyter-widgets/controls",
            "_model_module_version": "1.5.0",
            "_model_name": "ProgressStyleModel",
            "_view_count": null,
            "_view_module": "@jupyter-widgets/base",
            "_view_module_version": "1.2.0",
            "_view_name": "StyleView",
            "bar_color": null,
            "description_width": ""
          }
        },
        "be4b9c8866f4476ca1c3e1ad1705cdf9": {
          "model_module": "@jupyter-widgets/base",
          "model_name": "LayoutModel",
          "model_module_version": "1.2.0",
          "state": {
            "_model_module": "@jupyter-widgets/base",
            "_model_module_version": "1.2.0",
            "_model_name": "LayoutModel",
            "_view_count": null,
            "_view_module": "@jupyter-widgets/base",
            "_view_module_version": "1.2.0",
            "_view_name": "LayoutView",
            "align_content": null,
            "align_items": null,
            "align_self": null,
            "border": null,
            "bottom": null,
            "display": null,
            "flex": null,
            "flex_flow": null,
            "grid_area": null,
            "grid_auto_columns": null,
            "grid_auto_flow": null,
            "grid_auto_rows": null,
            "grid_column": null,
            "grid_gap": null,
            "grid_row": null,
            "grid_template_areas": null,
            "grid_template_columns": null,
            "grid_template_rows": null,
            "height": null,
            "justify_content": null,
            "justify_items": null,
            "left": null,
            "margin": null,
            "max_height": null,
            "max_width": null,
            "min_height": null,
            "min_width": null,
            "object_fit": null,
            "object_position": null,
            "order": null,
            "overflow": null,
            "overflow_x": null,
            "overflow_y": null,
            "padding": null,
            "right": null,
            "top": null,
            "visibility": null,
            "width": null
          }
        },
        "e2c7be7f504946079bece8cce8a382c0": {
          "model_module": "@jupyter-widgets/controls",
          "model_name": "DescriptionStyleModel",
          "model_module_version": "1.5.0",
          "state": {
            "_model_module": "@jupyter-widgets/controls",
            "_model_module_version": "1.5.0",
            "_model_name": "DescriptionStyleModel",
            "_view_count": null,
            "_view_module": "@jupyter-widgets/base",
            "_view_module_version": "1.2.0",
            "_view_name": "StyleView",
            "description_width": ""
          }
        }
      }
    }
  },
  "nbformat": 4,
  "nbformat_minor": 0
}