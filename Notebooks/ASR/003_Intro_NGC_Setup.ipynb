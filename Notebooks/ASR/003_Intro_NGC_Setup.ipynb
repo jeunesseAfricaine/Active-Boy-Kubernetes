{
 "cells": [
  {
   "cell_type": "markdown",
   "id": "e1c60851",
   "metadata": {},
   "source": [
    "<a href=\"https://www.nvidia.com/dli\"> <img src=\"images/DLI_Header.png\" alt=\"Header\" style=\"width: 400px;\"/> </a>"
   ]
  },
  {
   "cell_type": "markdown",
   "id": "4b442862",
   "metadata": {},
   "source": [
    "# 3.0 NVIDIA GPU Cloud (NGC) Setup \n",
    "\n",
    "The NGC™ catalog is a hub of GPU-optimized AI, high-performance computing (HPC), and data analytics software that simplifies and accelerates end-to-end workflows. It includes enterprise-grade containers, pretrained AI models, and industry-specific SDKs. In this class, you'll install various conversational AI resources this way. To get started with NVIDIA Train, Adapt, and Optimize (TAO) Toolkit, perform the following steps to sign up for a free NGC account and generate an application programming interface (API) key:\n",
    "\n",
    "## Step 1: Sign In to NGC:\n",
    "[Register and activate a free NGC account](https://docs.nvidia.com/ngc/ngc-overview/index.html#registering-activating-ngc-account)\n",
    "\n",
    "- Visit the [NGC website signin](https://ngc.nvidia.com/signin) to get started. Click the appropriate \"Continue\" button.<br>\n",
    "   <img src=\"images/intro/ngc_signin.png\"><br>\n",
    "- On the next page, enter your email address to sign in or create an account.<br>\n",
    "   <img src=\"images/intro/ngc_create.png\"><br>\n",
    "- Follow the prompts to complete your account creation and sign in."
   ]
  },
  {
   "cell_type": "markdown",
   "id": "c14a7848",
   "metadata": {},
   "source": [
    "## Step 2: Generate Your API Key\n",
    "[Generate your NGC API key](https://docs.nvidia.com/ngc/ngc-overview/index.html#generating-api-key) and save it in a safe location.\n",
    "\n",
    "- In the top right corner, click your user account icon and select \"Setup\".\n",
    "- Click \"Get API Key\" to open the Setup > API Key page.<br>\n",
    "   <img src=\"images/intro/ngc_api.png\"><br>\n",
    "- Click \"Generate API Key\" to generate your API key. A warning message appears to let you know that your old API key will become invalid if you create a new key.\n",
    "- Click \"Confirm\" to generate the key.\n",
    "- Your API key appears.\n",
    "- You only have to generate an API Key once. NGC does not save your key, <so>so copy and store it in a secure place.</b> (You can copy your API Key to the clipboard by clicking the copy icon to the right of the API key. )\n",
    "- Should you lose your API Key, you can generate a new one from the NGC website. If you generate a new API Key, the old one is invalidated."
   ]
  },
  {
   "cell_type": "markdown",
   "id": "d7a0be35",
   "metadata": {},
   "source": [
    "## Step 3: Log In to the NGC Registry from Docker\n",
    "\n",
    "Edit the following cell by replacing **MY_NGC_API_KEY** with your key. Then, execute both cells."
   ]
  },
  {
   "cell_type": "code",
   "execution_count": null,
   "id": "5b4ee65f",
   "metadata": {},
   "outputs": [],
   "source": [
    "# Replace MY_NGC_API_KEY with your generated NGC API key\n",
    "api_key = \"MY_NGC_API_KEY\""
   ]
  },
  {
   "cell_type": "code",
   "execution_count": null,
   "id": "7a5459af",
   "metadata": {},
   "outputs": [],
   "source": [
    "!docker login -u '$oauthtoken' -p $api_key nvcr.io"
   ]
  },
  {
   "cell_type": "markdown",
   "id": "fd765475",
   "metadata": {},
   "source": [
    "## Step 4: Configure Riva to use your API Key \n",
    "Edit the following cell by replacing **MY_NGC_API_KEY** with your key. Then, execute both cells."
   ]
  },
  {
   "cell_type": "code",
   "execution_count": null,
   "id": "2a6f7414",
   "metadata": {},
   "outputs": [],
   "source": [
    "%%writefile config\n",
    ";WARNING - This is a machine generated file.  Do not edit manually.\n",
    ";WARNING - To update local config settings, see \"ngc config set -h\"\n",
    "\n",
    "[CURRENT]\n",
    "apikey = MY_NGC_API_KEY\n",
    "format_type = json"
   ]
  },
  {
   "cell_type": "code",
   "execution_count": null,
   "id": "e66b7bae",
   "metadata": {},
   "outputs": [],
   "source": [
    "%%bash\n",
    "mkdir -p ~/.ngc\n",
    "mv config ~/.ngc/"
   ]
  },
  {
   "cell_type": "markdown",
   "id": "17125bf5",
   "metadata": {},
   "source": [
    "---\n",
    "<h2 style=\"color:green;\">Congratulations!</h2>\n",
    "\n",
    "Your API key is now set for use with NVIDIA TAO Toolkit and NVIDIA Riva"
   ]
  },
  {
   "cell_type": "markdown",
   "id": "e22e7415",
   "metadata": {},
   "source": [
    "<a href=\"https://www.nvidia.com/dli\"> <img src=\"images/DLI_Header.png\" alt=\"Header\" style=\"width: 400px;\"/> </a>"
   ]
  }
 ],
 "metadata": {
  "kernelspec": {
   "display_name": "Python 3 (ipykernel)",
   "language": "python",
   "name": "python3"
  },
  "language_info": {
   "codemirror_mode": {
    "name": "ipython",
    "version": 3
   },
   "file_extension": ".py",
   "mimetype": "text/x-python",
   "name": "python",
   "nbconvert_exporter": "python",
   "pygments_lexer": "ipython3",
   "version": "3.8.10"
  }
 },
 "nbformat": 4,
 "nbformat_minor": 5
}
