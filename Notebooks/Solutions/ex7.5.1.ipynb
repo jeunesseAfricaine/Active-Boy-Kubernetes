{
 "cells": [
  {
   "cell_type": "code",
   "execution_count": null,
   "id": "31355521",
   "metadata": {},
   "outputs": [],
   "source": [
    "# TAO evaluate fine-tuned NER model\n",
    "!tao token_classification evaluate  \\\n",
    "   -e $SPECS_DIR/token_classification/evaluate.yaml \\\n",
    "   -r $RESULTS_DIR/bert-base-finetuned_ner/evaluate \\\n",
    "   -g 1 \\\n",
    "   -m $RESULTS_DIR/bert-base-finetuned_ner/checkpoints/finetuned-model.tlt \\\n",
    "   -k $KEY \\\n",
    "   data_dir={destination_mount}/data/restaurant_finetune"
   ]
  }
 ],
 "metadata": {
  "kernelspec": {
   "display_name": "Python 3 (ipykernel)",
   "language": "python",
   "name": "python3"
  },
  "language_info": {
   "codemirror_mode": {
    "name": "ipython",
    "version": 3
   },
   "file_extension": ".py",
   "mimetype": "text/x-python",
   "name": "python",
   "nbconvert_exporter": "python",
   "pygments_lexer": "ipython3",
   "version": "3.8.10"
  }
 },
 "nbformat": 4,
 "nbformat_minor": 5
}
