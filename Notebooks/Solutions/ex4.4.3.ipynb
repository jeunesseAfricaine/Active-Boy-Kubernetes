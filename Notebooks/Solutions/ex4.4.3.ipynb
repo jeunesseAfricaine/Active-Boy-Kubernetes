{
 "cells": [
  {
   "cell_type": "code",
   "execution_count": null,
   "id": "0c8a71fe",
   "metadata": {},
   "outputs": [],
   "source": [
    "!tao speech_to_text export \\\n",
    "     -r $RESULTS_DIR/quartznet/export \\\n",
    "     -k $KEY \\\n",
    "     -e $SPECS_DIR/speech_to_text/export.yaml \\\n",
    "     -g 1 \\\n",
    "     -m $MODELS_DIR/speechtotext_english_quartznet.tlt \\\n",
    "     export_format=RIVA \\\n",
    "     export_to=asr-model.riva"
   ]
  }
 ],
 "metadata": {
  "kernelspec": {
   "display_name": "Python 3 (ipykernel)",
   "language": "python",
   "name": "python3"
  },
  "language_info": {
   "codemirror_mode": {
    "name": "ipython",
    "version": 3
   },
   "file_extension": ".py",
   "mimetype": "text/x-python",
   "name": "python",
   "nbconvert_exporter": "python",
   "pygments_lexer": "ipython3",
   "version": "3.8.10"
  }
 },
 "nbformat": 4,
 "nbformat_minor": 5
}
