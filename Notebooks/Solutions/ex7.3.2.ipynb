{
 "cells": [
  {
   "cell_type": "code",
   "execution_count": null,
   "id": "16dc5c88",
   "metadata": {},
   "outputs": [],
   "source": [
    "# TAO inference NER general model with restaurant sentences\n",
    "!tao token_classification infer \\\n",
    "    -e $SPECS_DIR/token_classification/infer_restaurant.yaml \\\n",
    "    -g 1 \\\n",
    "    -m $MODELS_DIR/namedentityrecognition_english_bert.tlt \\\n",
    "    -k $KEY \\\n",
    "    -r $RESULTS_DIR/bert-base/"
   ]
  }
 ],
 "metadata": {
  "kernelspec": {
   "display_name": "Python 3 (ipykernel)",
   "language": "python",
   "name": "python3"
  },
  "language_info": {
   "codemirror_mode": {
    "name": "ipython",
    "version": 3
   },
   "file_extension": ".py",
   "mimetype": "text/x-python",
   "name": "python",
   "nbconvert_exporter": "python",
   "pygments_lexer": "ipython3",
   "version": "3.8.10"
  }
 },
 "nbformat": 4,
 "nbformat_minor": 5
}
