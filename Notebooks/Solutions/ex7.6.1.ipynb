{
 "cells": [
  {
   "cell_type": "code",
   "execution_count": null,
   "id": "6accffcf",
   "metadata": {},
   "outputs": [],
   "source": [
    "# TAO export fine-tuned model to ONNX\n",
    "!tao token_classification export \\\n",
    "     -e $SPECS_DIR/token_classification/export.yaml \\\n",
    "     -r $RESULTS_DIR/export/ \\\n",
    "     -m $RESULTS_DIR/bert-base-finetuned_ner/checkpoints/finetuned-model.tlt \\\n",
    "     -k $KEY \\\n",
    "     export_to=exported-model-NER.eonnx \\\n",
    "     export_format=ONNX"
   ]
  }
 ],
 "metadata": {
  "kernelspec": {
   "display_name": "Python 3 (ipykernel)",
   "language": "python",
   "name": "python3"
  },
  "language_info": {
   "codemirror_mode": {
    "name": "ipython",
    "version": 3
   },
   "file_extension": ".py",
   "mimetype": "text/x-python",
   "name": "python",
   "nbconvert_exporter": "python",
   "pygments_lexer": "ipython3",
   "version": "3.8.10"
  }
 },
 "nbformat": 4,
 "nbformat_minor": 5
}
